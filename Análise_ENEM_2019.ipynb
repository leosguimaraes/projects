{
  "nbformat": 4,
  "nbformat_minor": 0,
  "metadata": {
    "colab": {
      "name": "Análise_ENEM_2019.ipynb",
      "provenance": [],
      "collapsed_sections": []
    },
    "kernelspec": {
      "name": "python3",
      "display_name": "Python 3"
    }
  },
  "cells": [
    {
      "cell_type": "markdown",
      "metadata": {
        "id": "9e_1nh7Cy-bR"
      },
      "source": [
        "# Análise ENEM 2019\n",
        "\n",
        "\n",
        "\n",
        "\n",
        "\n",
        "\n",
        "\n",
        "![download.png](data:image/png;base64,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)\n",
        "\n",
        "O Exame Nacional do Ensino Médio (Enem) avalia o desempenho escolar ao final da educação básica. Realizado anualmente pelo Inep, desde 1998, o Enem colabora para o acesso à educação superior – por meio do Sisu, do Prouni e de convênios com instituições portuguesas – e a programas de financiamento e apoio estudantil, caso do Fies. Os resultados também permitem o desenvolvimento de estudos e indicadores educacionais. Qualquer pessoa pode fazer o Enem, entretanto, participantes “treineiros” podem usar o resultado somente para autoavaliação de conhecimentos. (Fonte: Inep)\n",
        "\n",
        "O Exame consiste em 4 provas distintas, a saber: \n",
        "\n",
        " \n",
        "*   Linguagens e Códigos, que consiste em língua portuguesa e uma estrangeira de escolha do aluno.\n",
        "*   Matemática e suas tecnologias\n",
        "*   Ciências Humanas, que consiste em história, geografia, sociologia e filosofia.\n",
        "*   Ciências da Natureza, que consiste em química, física e biologia\n",
        "*   E uma prova de redação.\n",
        "\n",
        "Ao todo, são 180 questões divididas em 4 blocos (LC, CN, CH, MT) com 45 questões cada bloco.\n",
        "\n",
        "\n",
        "\n",
        "---\n",
        "\n",
        "\n",
        "Devido ao dataset da população que realizou o Enem 2019 total ser enorme, iremos estudar uma amostra aleatória que contém pouco mais que 127.000 dados. Essa amostra foi disponibilizada pela Alura e iremos utilizá-la para realizar nossas análises.\n",
        "\n",
        "Nesse projeto, iremos realizar inferências, testar hipóteses. Iremos ver se a renda de um participante influência em sua nota, se a localidade onde reside influência em sua nota. Iremos analisar os dados de treineiros. Iremos estimar e analisar as idades dos participantes e ficaremos supresos ao perceber que há muita gente acima dos 18 anos realizando o exame!\n",
        "\n",
        "E então, vem comigo?\n",
        "Mão na massa!\n",
        "\n",
        "\n",
        "\n",
        "\n"
      ]
    },
    {
      "cell_type": "markdown",
      "metadata": {
        "id": "WhykDMqB4RRb"
      },
      "source": [
        "\n",
        "# Importando blibliotecas \n",
        "\n",
        "Começaremos importando algumas bibliotecas que serão necessárias de início. Ao longo do projeto, caso precisemos de outras, importaremos depois. De início, vamos importar as bibliotecas abaixo:\n"
      ]
    },
    {
      "cell_type": "code",
      "metadata": {
        "id": "gCgpHy9yzAhX"
      },
      "source": [
        "import pandas as pd\n",
        "import matplotlib.pyplot as plt\n",
        "import seaborn as sns\n"
      ],
      "execution_count": null,
      "outputs": []
    },
    {
      "cell_type": "markdown",
      "metadata": {
        "id": "W9aNJtmj4_UW"
      },
      "source": [
        "Vamos salvar o caminho do dataset numa varíavel chamada \"uri\" e iremos utilizar a varíavel \"dados\" para carregar nosso dataset para o colab utilizando o método .read_csv() do pandas."
      ]
    },
    {
      "cell_type": "code",
      "metadata": {
        "id": "oMRaDHHWzGnU"
      },
      "source": [
        "uri = 'https://github.com/alura-cursos/imersao-dados-2-2020/blob/master/MICRODADOS_ENEM_2019_SAMPLE_43278.csv?raw=true'"
      ],
      "execution_count": null,
      "outputs": []
    },
    {
      "cell_type": "code",
      "metadata": {
        "id": "9arFaxTZzKiY"
      },
      "source": [
        "dados = pd.read_csv(uri) "
      ],
      "execution_count": null,
      "outputs": []
    },
    {
      "cell_type": "markdown",
      "metadata": {
        "id": "Tvjxh8Yg9RX6"
      },
      "source": [
        "Vamos ler as 5 primeiras linhas do dataset e após isso verificar as suas dimensões:"
      ]
    },
    {
      "cell_type": "code",
      "metadata": {
        "id": "7bEH6Pgx09wG",
        "outputId": "af9b0afb-e8c7-438d-b4e6-2464b20eabe4",
        "colab": {
          "base_uri": "https://localhost:8080/",
          "height": 253
        }
      },
      "source": [
        "dados.head()"
      ],
      "execution_count": null,
      "outputs": [
        {
          "output_type": "execute_result",
          "data": {
            "text/html": [
              "<div>\n",
              "<style scoped>\n",
              "    .dataframe tbody tr th:only-of-type {\n",
              "        vertical-align: middle;\n",
              "    }\n",
              "\n",
              "    .dataframe tbody tr th {\n",
              "        vertical-align: top;\n",
              "    }\n",
              "\n",
              "    .dataframe thead th {\n",
              "        text-align: right;\n",
              "    }\n",
              "</style>\n",
              "<table border=\"1\" class=\"dataframe\">\n",
              "  <thead>\n",
              "    <tr style=\"text-align: right;\">\n",
              "      <th></th>\n",
              "      <th>NU_INSCRICAO</th>\n",
              "      <th>NU_ANO</th>\n",
              "      <th>CO_MUNICIPIO_RESIDENCIA</th>\n",
              "      <th>NO_MUNICIPIO_RESIDENCIA</th>\n",
              "      <th>CO_UF_RESIDENCIA</th>\n",
              "      <th>SG_UF_RESIDENCIA</th>\n",
              "      <th>NU_IDADE</th>\n",
              "      <th>TP_SEXO</th>\n",
              "      <th>TP_ESTADO_CIVIL</th>\n",
              "      <th>TP_COR_RACA</th>\n",
              "      <th>TP_NACIONALIDADE</th>\n",
              "      <th>CO_MUNICIPIO_NASCIMENTO</th>\n",
              "      <th>NO_MUNICIPIO_NASCIMENTO</th>\n",
              "      <th>CO_UF_NASCIMENTO</th>\n",
              "      <th>SG_UF_NASCIMENTO</th>\n",
              "      <th>TP_ST_CONCLUSAO</th>\n",
              "      <th>TP_ANO_CONCLUIU</th>\n",
              "      <th>TP_ESCOLA</th>\n",
              "      <th>TP_ENSINO</th>\n",
              "      <th>IN_TREINEIRO</th>\n",
              "      <th>CO_ESCOLA</th>\n",
              "      <th>CO_MUNICIPIO_ESC</th>\n",
              "      <th>NO_MUNICIPIO_ESC</th>\n",
              "      <th>CO_UF_ESC</th>\n",
              "      <th>SG_UF_ESC</th>\n",
              "      <th>TP_DEPENDENCIA_ADM_ESC</th>\n",
              "      <th>TP_LOCALIZACAO_ESC</th>\n",
              "      <th>TP_SIT_FUNC_ESC</th>\n",
              "      <th>IN_BAIXA_VISAO</th>\n",
              "      <th>IN_CEGUEIRA</th>\n",
              "      <th>IN_SURDEZ</th>\n",
              "      <th>IN_DEFICIENCIA_AUDITIVA</th>\n",
              "      <th>IN_SURDO_CEGUEIRA</th>\n",
              "      <th>IN_DEFICIENCIA_FISICA</th>\n",
              "      <th>IN_DEFICIENCIA_MENTAL</th>\n",
              "      <th>IN_DEFICIT_ATENCAO</th>\n",
              "      <th>IN_DISLEXIA</th>\n",
              "      <th>IN_DISCALCULIA</th>\n",
              "      <th>IN_AUTISMO</th>\n",
              "      <th>IN_VISAO_MONOCULAR</th>\n",
              "      <th>...</th>\n",
              "      <th>TX_RESPOSTAS_CH</th>\n",
              "      <th>TX_RESPOSTAS_LC</th>\n",
              "      <th>TX_RESPOSTAS_MT</th>\n",
              "      <th>TP_LINGUA</th>\n",
              "      <th>TX_GABARITO_CN</th>\n",
              "      <th>TX_GABARITO_CH</th>\n",
              "      <th>TX_GABARITO_LC</th>\n",
              "      <th>TX_GABARITO_MT</th>\n",
              "      <th>TP_STATUS_REDACAO</th>\n",
              "      <th>NU_NOTA_COMP1</th>\n",
              "      <th>NU_NOTA_COMP2</th>\n",
              "      <th>NU_NOTA_COMP3</th>\n",
              "      <th>NU_NOTA_COMP4</th>\n",
              "      <th>NU_NOTA_COMP5</th>\n",
              "      <th>NU_NOTA_REDACAO</th>\n",
              "      <th>Q001</th>\n",
              "      <th>Q002</th>\n",
              "      <th>Q003</th>\n",
              "      <th>Q004</th>\n",
              "      <th>Q005</th>\n",
              "      <th>Q006</th>\n",
              "      <th>Q007</th>\n",
              "      <th>Q008</th>\n",
              "      <th>Q009</th>\n",
              "      <th>Q010</th>\n",
              "      <th>Q011</th>\n",
              "      <th>Q012</th>\n",
              "      <th>Q013</th>\n",
              "      <th>Q014</th>\n",
              "      <th>Q015</th>\n",
              "      <th>Q016</th>\n",
              "      <th>Q017</th>\n",
              "      <th>Q018</th>\n",
              "      <th>Q019</th>\n",
              "      <th>Q020</th>\n",
              "      <th>Q021</th>\n",
              "      <th>Q022</th>\n",
              "      <th>Q023</th>\n",
              "      <th>Q024</th>\n",
              "      <th>Q025</th>\n",
              "    </tr>\n",
              "  </thead>\n",
              "  <tbody>\n",
              "    <tr>\n",
              "      <th>0</th>\n",
              "      <td>190001004661</td>\n",
              "      <td>2019</td>\n",
              "      <td>1506138</td>\n",
              "      <td>Redenção</td>\n",
              "      <td>15</td>\n",
              "      <td>PA</td>\n",
              "      <td>17</td>\n",
              "      <td>M</td>\n",
              "      <td>1</td>\n",
              "      <td>3</td>\n",
              "      <td>1</td>\n",
              "      <td>1506138.0</td>\n",
              "      <td>Redenção</td>\n",
              "      <td>15.0</td>\n",
              "      <td>PA</td>\n",
              "      <td>3</td>\n",
              "      <td>0</td>\n",
              "      <td>1</td>\n",
              "      <td>NaN</td>\n",
              "      <td>1</td>\n",
              "      <td>NaN</td>\n",
              "      <td>NaN</td>\n",
              "      <td>NaN</td>\n",
              "      <td>NaN</td>\n",
              "      <td>NaN</td>\n",
              "      <td>NaN</td>\n",
              "      <td>NaN</td>\n",
              "      <td>NaN</td>\n",
              "      <td>0</td>\n",
              "      <td>0</td>\n",
              "      <td>0</td>\n",
              "      <td>0</td>\n",
              "      <td>0</td>\n",
              "      <td>0</td>\n",
              "      <td>0</td>\n",
              "      <td>0</td>\n",
              "      <td>0</td>\n",
              "      <td>0</td>\n",
              "      <td>0</td>\n",
              "      <td>0</td>\n",
              "      <td>...</td>\n",
              "      <td>ACAEAAACABEBABAADCEEEDE*CBDCCCADADCCCBEBBBBDB</td>\n",
              "      <td>99999CCCABBCAADDBCEBCCADBEEBDECBAABDEACACAEABB...</td>\n",
              "      <td>DEEDCAECDDEEECBCBECABEBAECBBCDAECAEBBBBBDCCDB</td>\n",
              "      <td>1</td>\n",
              "      <td>DEADBAAAEBEECEBCBCBCBDADAEABCEDDDDADCBEECACBC</td>\n",
              "      <td>ACACEEBCCBABADBBBACDBBACCCCADCEBADCBEEDBBEADB</td>\n",
              "      <td>EBBADCABDABACBCEBDEEAAADDBECDECDDBADBCDAAECBCC...</td>\n",
              "      <td>AADDDBEEEBEDDBEBACABCDBABECECACAECDCBDCCEDCDA</td>\n",
              "      <td>1.0</td>\n",
              "      <td>60.0</td>\n",
              "      <td>100.0</td>\n",
              "      <td>80.0</td>\n",
              "      <td>80.0</td>\n",
              "      <td>100.0</td>\n",
              "      <td>420.0</td>\n",
              "      <td>B</td>\n",
              "      <td>B</td>\n",
              "      <td>A</td>\n",
              "      <td>A</td>\n",
              "      <td>4</td>\n",
              "      <td>B</td>\n",
              "      <td>A</td>\n",
              "      <td>C</td>\n",
              "      <td>B</td>\n",
              "      <td>A</td>\n",
              "      <td>C</td>\n",
              "      <td>B</td>\n",
              "      <td>A</td>\n",
              "      <td>A</td>\n",
              "      <td>A</td>\n",
              "      <td>A</td>\n",
              "      <td>A</td>\n",
              "      <td>A</td>\n",
              "      <td>A</td>\n",
              "      <td>B</td>\n",
              "      <td>A</td>\n",
              "      <td>C</td>\n",
              "      <td>A</td>\n",
              "      <td>B</td>\n",
              "      <td>B</td>\n",
              "    </tr>\n",
              "    <tr>\n",
              "      <th>1</th>\n",
              "      <td>190001004674</td>\n",
              "      <td>2019</td>\n",
              "      <td>1504208</td>\n",
              "      <td>Marabá</td>\n",
              "      <td>15</td>\n",
              "      <td>PA</td>\n",
              "      <td>23</td>\n",
              "      <td>M</td>\n",
              "      <td>1</td>\n",
              "      <td>3</td>\n",
              "      <td>1</td>\n",
              "      <td>1504208.0</td>\n",
              "      <td>Marabá</td>\n",
              "      <td>15.0</td>\n",
              "      <td>PA</td>\n",
              "      <td>1</td>\n",
              "      <td>3</td>\n",
              "      <td>1</td>\n",
              "      <td>1.0</td>\n",
              "      <td>0</td>\n",
              "      <td>NaN</td>\n",
              "      <td>NaN</td>\n",
              "      <td>NaN</td>\n",
              "      <td>NaN</td>\n",
              "      <td>NaN</td>\n",
              "      <td>NaN</td>\n",
              "      <td>NaN</td>\n",
              "      <td>NaN</td>\n",
              "      <td>0</td>\n",
              "      <td>0</td>\n",
              "      <td>0</td>\n",
              "      <td>0</td>\n",
              "      <td>0</td>\n",
              "      <td>0</td>\n",
              "      <td>0</td>\n",
              "      <td>0</td>\n",
              "      <td>0</td>\n",
              "      <td>0</td>\n",
              "      <td>0</td>\n",
              "      <td>0</td>\n",
              "      <td>...</td>\n",
              "      <td>ABBCEADCEBAAACACEDCDCDACCCACDCBCABCAACBDBDEDE</td>\n",
              "      <td>99999ABCEBCEDDECEEEBBCCEECCABDABEEBCDEAEBBEAEA...</td>\n",
              "      <td>NaN</td>\n",
              "      <td>1</td>\n",
              "      <td>NaN</td>\n",
              "      <td>CBABADBBCEEEBCBADCBEEDBBEADBBACDBBACCCCADACAC</td>\n",
              "      <td>BBEDABDACACBABAECBBCCADCEBDBBCDDEEAAADDBECDECA...</td>\n",
              "      <td>NaN</td>\n",
              "      <td>1.0</td>\n",
              "      <td>80.0</td>\n",
              "      <td>100.0</td>\n",
              "      <td>80.0</td>\n",
              "      <td>80.0</td>\n",
              "      <td>60.0</td>\n",
              "      <td>400.0</td>\n",
              "      <td>C</td>\n",
              "      <td>C</td>\n",
              "      <td>A</td>\n",
              "      <td>A</td>\n",
              "      <td>4</td>\n",
              "      <td>B</td>\n",
              "      <td>A</td>\n",
              "      <td>B</td>\n",
              "      <td>C</td>\n",
              "      <td>A</td>\n",
              "      <td>A</td>\n",
              "      <td>B</td>\n",
              "      <td>B</td>\n",
              "      <td>B</td>\n",
              "      <td>A</td>\n",
              "      <td>A</td>\n",
              "      <td>A</td>\n",
              "      <td>A</td>\n",
              "      <td>B</td>\n",
              "      <td>A</td>\n",
              "      <td>A</td>\n",
              "      <td>B</td>\n",
              "      <td>A</td>\n",
              "      <td>A</td>\n",
              "      <td>B</td>\n",
              "    </tr>\n",
              "    <tr>\n",
              "      <th>2</th>\n",
              "      <td>190001004722</td>\n",
              "      <td>2019</td>\n",
              "      <td>1501402</td>\n",
              "      <td>Belém</td>\n",
              "      <td>15</td>\n",
              "      <td>PA</td>\n",
              "      <td>35</td>\n",
              "      <td>F</td>\n",
              "      <td>2</td>\n",
              "      <td>1</td>\n",
              "      <td>1</td>\n",
              "      <td>1501402.0</td>\n",
              "      <td>Belém</td>\n",
              "      <td>15.0</td>\n",
              "      <td>PA</td>\n",
              "      <td>1</td>\n",
              "      <td>12</td>\n",
              "      <td>1</td>\n",
              "      <td>1.0</td>\n",
              "      <td>0</td>\n",
              "      <td>NaN</td>\n",
              "      <td>NaN</td>\n",
              "      <td>NaN</td>\n",
              "      <td>NaN</td>\n",
              "      <td>NaN</td>\n",
              "      <td>NaN</td>\n",
              "      <td>NaN</td>\n",
              "      <td>NaN</td>\n",
              "      <td>0</td>\n",
              "      <td>0</td>\n",
              "      <td>0</td>\n",
              "      <td>0</td>\n",
              "      <td>0</td>\n",
              "      <td>0</td>\n",
              "      <td>0</td>\n",
              "      <td>0</td>\n",
              "      <td>0</td>\n",
              "      <td>0</td>\n",
              "      <td>0</td>\n",
              "      <td>0</td>\n",
              "      <td>...</td>\n",
              "      <td>CDCAACCAAADEACBBEBAAEECDABDEBAEAABEDCABABAABC</td>\n",
              "      <td>99999ECBCECEBBABECCCECECCEECCDECEEEDADDDDECEDD...</td>\n",
              "      <td>DDBEADEBBCADCEEACABECBCEBADECADCEDAACBDABABCE</td>\n",
              "      <td>1</td>\n",
              "      <td>AAECACDEADCBCDDDBCBDADAEABCEBABEEBCBEECEBDADC</td>\n",
              "      <td>CBABADBBCEEEBCBADCBEEDBBEADBBACDBBACCCCADACAC</td>\n",
              "      <td>BBEDABDACACBABAECBBCCADCEBDBBCDDEEAAADDBECDECA...</td>\n",
              "      <td>EEEADBEBACABCDBABECECACDCBDCCEDCDABEDECDDDBAA</td>\n",
              "      <td>1.0</td>\n",
              "      <td>100.0</td>\n",
              "      <td>120.0</td>\n",
              "      <td>120.0</td>\n",
              "      <td>100.0</td>\n",
              "      <td>120.0</td>\n",
              "      <td>560.0</td>\n",
              "      <td>C</td>\n",
              "      <td>A</td>\n",
              "      <td>B</td>\n",
              "      <td>B</td>\n",
              "      <td>5</td>\n",
              "      <td>C</td>\n",
              "      <td>A</td>\n",
              "      <td>B</td>\n",
              "      <td>C</td>\n",
              "      <td>A</td>\n",
              "      <td>A</td>\n",
              "      <td>B</td>\n",
              "      <td>A</td>\n",
              "      <td>B</td>\n",
              "      <td>A</td>\n",
              "      <td>A</td>\n",
              "      <td>A</td>\n",
              "      <td>A</td>\n",
              "      <td>B</td>\n",
              "      <td>A</td>\n",
              "      <td>B</td>\n",
              "      <td>B</td>\n",
              "      <td>A</td>\n",
              "      <td>A</td>\n",
              "      <td>B</td>\n",
              "    </tr>\n",
              "    <tr>\n",
              "      <th>3</th>\n",
              "      <td>190001004735</td>\n",
              "      <td>2019</td>\n",
              "      <td>1507300</td>\n",
              "      <td>São Félix do Xingu</td>\n",
              "      <td>15</td>\n",
              "      <td>PA</td>\n",
              "      <td>23</td>\n",
              "      <td>F</td>\n",
              "      <td>1</td>\n",
              "      <td>3</td>\n",
              "      <td>1</td>\n",
              "      <td>1505437.0</td>\n",
              "      <td>Ourilândia do Norte</td>\n",
              "      <td>15.0</td>\n",
              "      <td>PA</td>\n",
              "      <td>1</td>\n",
              "      <td>7</td>\n",
              "      <td>1</td>\n",
              "      <td>NaN</td>\n",
              "      <td>0</td>\n",
              "      <td>NaN</td>\n",
              "      <td>NaN</td>\n",
              "      <td>NaN</td>\n",
              "      <td>NaN</td>\n",
              "      <td>NaN</td>\n",
              "      <td>NaN</td>\n",
              "      <td>NaN</td>\n",
              "      <td>NaN</td>\n",
              "      <td>0</td>\n",
              "      <td>0</td>\n",
              "      <td>0</td>\n",
              "      <td>0</td>\n",
              "      <td>0</td>\n",
              "      <td>0</td>\n",
              "      <td>0</td>\n",
              "      <td>0</td>\n",
              "      <td>0</td>\n",
              "      <td>0</td>\n",
              "      <td>0</td>\n",
              "      <td>0</td>\n",
              "      <td>...</td>\n",
              "      <td>EECCCEDBADBEAAAAEBAECEAAAAEEEBACCAC*CEAEDAECE</td>\n",
              "      <td>99999BABCDABBCBDDAAECADBDDADDCBCEEDCAEBCEAEABD...</td>\n",
              "      <td>CBDEBBCBDEBCABCDBDEDADCCBEDBCAECEBEBDEBAEECBC</td>\n",
              "      <td>1</td>\n",
              "      <td>BEEAAEBEEBADEADDADAEABCEDDDBCBCBCCACBCDADCCEB</td>\n",
              "      <td>EEBCEEDBADBBCBABCCADCEBACDBBACCACACBEADBBADCB</td>\n",
              "      <td>ADBBEDCABAABBCBCDAAECDDDBAAAECADECDCEBDEEAECBD...</td>\n",
              "      <td>BEDEEEAADBEBACABCDBABECECACADCBDCCEDCDABECDDD</td>\n",
              "      <td>1.0</td>\n",
              "      <td>100.0</td>\n",
              "      <td>120.0</td>\n",
              "      <td>120.0</td>\n",
              "      <td>120.0</td>\n",
              "      <td>40.0</td>\n",
              "      <td>500.0</td>\n",
              "      <td>E</td>\n",
              "      <td>C</td>\n",
              "      <td>A</td>\n",
              "      <td>A</td>\n",
              "      <td>1</td>\n",
              "      <td>B</td>\n",
              "      <td>A</td>\n",
              "      <td>B</td>\n",
              "      <td>C</td>\n",
              "      <td>A</td>\n",
              "      <td>A</td>\n",
              "      <td>B</td>\n",
              "      <td>A</td>\n",
              "      <td>A</td>\n",
              "      <td>A</td>\n",
              "      <td>A</td>\n",
              "      <td>A</td>\n",
              "      <td>A</td>\n",
              "      <td>B</td>\n",
              "      <td>A</td>\n",
              "      <td>A</td>\n",
              "      <td>B</td>\n",
              "      <td>A</td>\n",
              "      <td>A</td>\n",
              "      <td>B</td>\n",
              "    </tr>\n",
              "    <tr>\n",
              "      <th>4</th>\n",
              "      <td>190001004776</td>\n",
              "      <td>2019</td>\n",
              "      <td>1500800</td>\n",
              "      <td>Ananindeua</td>\n",
              "      <td>15</td>\n",
              "      <td>PA</td>\n",
              "      <td>16</td>\n",
              "      <td>F</td>\n",
              "      <td>1</td>\n",
              "      <td>3</td>\n",
              "      <td>1</td>\n",
              "      <td>1500800.0</td>\n",
              "      <td>Ananindeua</td>\n",
              "      <td>15.0</td>\n",
              "      <td>PA</td>\n",
              "      <td>3</td>\n",
              "      <td>0</td>\n",
              "      <td>1</td>\n",
              "      <td>NaN</td>\n",
              "      <td>1</td>\n",
              "      <td>NaN</td>\n",
              "      <td>NaN</td>\n",
              "      <td>NaN</td>\n",
              "      <td>NaN</td>\n",
              "      <td>NaN</td>\n",
              "      <td>NaN</td>\n",
              "      <td>NaN</td>\n",
              "      <td>NaN</td>\n",
              "      <td>0</td>\n",
              "      <td>0</td>\n",
              "      <td>0</td>\n",
              "      <td>0</td>\n",
              "      <td>0</td>\n",
              "      <td>0</td>\n",
              "      <td>0</td>\n",
              "      <td>0</td>\n",
              "      <td>0</td>\n",
              "      <td>0</td>\n",
              "      <td>0</td>\n",
              "      <td>0</td>\n",
              "      <td>...</td>\n",
              "      <td>CCBCBEACABACABBBBACCBCEBDCBABCADADCBCADBAADEA</td>\n",
              "      <td>EBCAB99999BBCECBCACBEACBDAABDBCBBDACEBBACDCAEC...</td>\n",
              "      <td>AECCBBCBBCBDEDECACBAABEDABBEDDADCEADDBEBDBBEB</td>\n",
              "      <td>0</td>\n",
              "      <td>DEADBAAAEBEECEBCBCBCBDADAEABCEDDDDADCBEECACBC</td>\n",
              "      <td>ACACEEBCCBABADBBBACDBBACCCCADCEBADCBEEDBBEADB</td>\n",
              "      <td>EBBADCABDABACBCEBDEEAAADDBECDECDDBADBCDAAECBCC...</td>\n",
              "      <td>AADDDBEEEBEDDBEBACABCDBABECECACAECDCBDCCEDCDA</td>\n",
              "      <td>1.0</td>\n",
              "      <td>160.0</td>\n",
              "      <td>140.0</td>\n",
              "      <td>160.0</td>\n",
              "      <td>160.0</td>\n",
              "      <td>160.0</td>\n",
              "      <td>780.0</td>\n",
              "      <td>E</td>\n",
              "      <td>E</td>\n",
              "      <td>B</td>\n",
              "      <td>D</td>\n",
              "      <td>3</td>\n",
              "      <td>E</td>\n",
              "      <td>A</td>\n",
              "      <td>B</td>\n",
              "      <td>C</td>\n",
              "      <td>B</td>\n",
              "      <td>A</td>\n",
              "      <td>B</td>\n",
              "      <td>A</td>\n",
              "      <td>A</td>\n",
              "      <td>A</td>\n",
              "      <td>A</td>\n",
              "      <td>A</td>\n",
              "      <td>A</td>\n",
              "      <td>B</td>\n",
              "      <td>A</td>\n",
              "      <td>A</td>\n",
              "      <td>D</td>\n",
              "      <td>A</td>\n",
              "      <td>A</td>\n",
              "      <td>B</td>\n",
              "    </tr>\n",
              "  </tbody>\n",
              "</table>\n",
              "<p>5 rows × 136 columns</p>\n",
              "</div>"
            ],
            "text/plain": [
              "   NU_INSCRICAO  NU_ANO  CO_MUNICIPIO_RESIDENCIA  ... Q023  Q024 Q025\n",
              "0  190001004661    2019                  1506138  ...    A     B    B\n",
              "1  190001004674    2019                  1504208  ...    A     A    B\n",
              "2  190001004722    2019                  1501402  ...    A     A    B\n",
              "3  190001004735    2019                  1507300  ...    A     A    B\n",
              "4  190001004776    2019                  1500800  ...    A     A    B\n",
              "\n",
              "[5 rows x 136 columns]"
            ]
          },
          "metadata": {
            "tags": []
          },
          "execution_count": 4
        }
      ]
    },
    {
      "cell_type": "code",
      "metadata": {
        "id": "IHNxnr3p5kLJ",
        "outputId": "0350703e-1359-4d54-f727-e9b99d1535f5",
        "colab": {
          "base_uri": "https://localhost:8080/",
          "height": 34
        }
      },
      "source": [
        "dados.shape"
      ],
      "execution_count": null,
      "outputs": [
        {
          "output_type": "execute_result",
          "data": {
            "text/plain": [
              "(127380, 136)"
            ]
          },
          "metadata": {
            "tags": []
          },
          "execution_count": 5
        }
      ]
    },
    {
      "cell_type": "markdown",
      "metadata": {
        "id": "qBkE_E3B5ZeX"
      },
      "source": [
        "Nossa amostra possui 127380 linhas e 136 colunas. Utilizamos o atributo .shape para visualizar a dimensão do dataframe. \n",
        "Como o dataset possui muitas colunas, o pandas omite a maioria. Sendo assim, como iremos trabalhar bastante com as notas dos alunos, iremos criar uma varíavel chamada \"provas\" e iremos passar uma lista com o título das 5 provas.\n",
        "(Olhando no dicionário do Inep sabemos qual o nome das colunas que correspondem às provas)\n",
        "\n",
        "Poderíamos utilizar o atributo .columns também."
      ]
    },
    {
      "cell_type": "code",
      "metadata": {
        "id": "_mt13_2j24yo"
      },
      "source": [
        "provas = ['NU_NOTA_LC', 'NU_NOTA_MT', 'NU_NOTA_CN', 'NU_NOTA_CH', 'NU_NOTA_REDACAO']"
      ],
      "execution_count": null,
      "outputs": []
    },
    {
      "cell_type": "markdown",
      "metadata": {
        "id": "abSJv75g6Y1X"
      },
      "source": [
        "Assim, ao passar essa lista como se fosse uma única coluna dentro do dataframe recebemos de retorno as notas das 5 provas."
      ]
    },
    {
      "cell_type": "code",
      "metadata": {
        "id": "gqDkfF6FxS3q",
        "outputId": "5e00613c-c0df-45e6-d976-28b89a9109c2",
        "colab": {
          "base_uri": "https://localhost:8080/",
          "height": 419
        }
      },
      "source": [
        "dados[provas]"
      ],
      "execution_count": null,
      "outputs": [
        {
          "output_type": "execute_result",
          "data": {
            "text/html": [
              "<div>\n",
              "<style scoped>\n",
              "    .dataframe tbody tr th:only-of-type {\n",
              "        vertical-align: middle;\n",
              "    }\n",
              "\n",
              "    .dataframe tbody tr th {\n",
              "        vertical-align: top;\n",
              "    }\n",
              "\n",
              "    .dataframe thead th {\n",
              "        text-align: right;\n",
              "    }\n",
              "</style>\n",
              "<table border=\"1\" class=\"dataframe\">\n",
              "  <thead>\n",
              "    <tr style=\"text-align: right;\">\n",
              "      <th></th>\n",
              "      <th>NU_NOTA_LC</th>\n",
              "      <th>NU_NOTA_MT</th>\n",
              "      <th>NU_NOTA_CN</th>\n",
              "      <th>NU_NOTA_CH</th>\n",
              "      <th>NU_NOTA_REDACAO</th>\n",
              "    </tr>\n",
              "  </thead>\n",
              "  <tbody>\n",
              "    <tr>\n",
              "      <th>0</th>\n",
              "      <td>488.6</td>\n",
              "      <td>432.4</td>\n",
              "      <td>435.6</td>\n",
              "      <td>512.3</td>\n",
              "      <td>420.0</td>\n",
              "    </tr>\n",
              "    <tr>\n",
              "      <th>1</th>\n",
              "      <td>375.3</td>\n",
              "      <td>NaN</td>\n",
              "      <td>NaN</td>\n",
              "      <td>409.3</td>\n",
              "      <td>400.0</td>\n",
              "    </tr>\n",
              "    <tr>\n",
              "      <th>2</th>\n",
              "      <td>441.0</td>\n",
              "      <td>427.2</td>\n",
              "      <td>423.2</td>\n",
              "      <td>499.1</td>\n",
              "      <td>560.0</td>\n",
              "    </tr>\n",
              "    <tr>\n",
              "      <th>3</th>\n",
              "      <td>551.5</td>\n",
              "      <td>499.9</td>\n",
              "      <td>426.2</td>\n",
              "      <td>578.1</td>\n",
              "      <td>500.0</td>\n",
              "    </tr>\n",
              "    <tr>\n",
              "      <th>4</th>\n",
              "      <td>511.2</td>\n",
              "      <td>424.5</td>\n",
              "      <td>516.5</td>\n",
              "      <td>571.3</td>\n",
              "      <td>780.0</td>\n",
              "    </tr>\n",
              "    <tr>\n",
              "      <th>...</th>\n",
              "      <td>...</td>\n",
              "      <td>...</td>\n",
              "      <td>...</td>\n",
              "      <td>...</td>\n",
              "      <td>...</td>\n",
              "    </tr>\n",
              "    <tr>\n",
              "      <th>127375</th>\n",
              "      <td>525.7</td>\n",
              "      <td>539.7</td>\n",
              "      <td>502.4</td>\n",
              "      <td>559.6</td>\n",
              "      <td>740.0</td>\n",
              "    </tr>\n",
              "    <tr>\n",
              "      <th>127376</th>\n",
              "      <td>450.3</td>\n",
              "      <td>418.2</td>\n",
              "      <td>449.1</td>\n",
              "      <td>380.9</td>\n",
              "      <td>520.0</td>\n",
              "    </tr>\n",
              "    <tr>\n",
              "      <th>127377</th>\n",
              "      <td>497.9</td>\n",
              "      <td>NaN</td>\n",
              "      <td>NaN</td>\n",
              "      <td>516.0</td>\n",
              "      <td>440.0</td>\n",
              "    </tr>\n",
              "    <tr>\n",
              "      <th>127378</th>\n",
              "      <td>517.3</td>\n",
              "      <td>455.7</td>\n",
              "      <td>564.7</td>\n",
              "      <td>416.2</td>\n",
              "      <td>620.0</td>\n",
              "    </tr>\n",
              "    <tr>\n",
              "      <th>127379</th>\n",
              "      <td>477.1</td>\n",
              "      <td>438.5</td>\n",
              "      <td>466.7</td>\n",
              "      <td>425.5</td>\n",
              "      <td>480.0</td>\n",
              "    </tr>\n",
              "  </tbody>\n",
              "</table>\n",
              "<p>127380 rows × 5 columns</p>\n",
              "</div>"
            ],
            "text/plain": [
              "        NU_NOTA_LC  NU_NOTA_MT  NU_NOTA_CN  NU_NOTA_CH  NU_NOTA_REDACAO\n",
              "0            488.6       432.4       435.6       512.3            420.0\n",
              "1            375.3         NaN         NaN       409.3            400.0\n",
              "2            441.0       427.2       423.2       499.1            560.0\n",
              "3            551.5       499.9       426.2       578.1            500.0\n",
              "4            511.2       424.5       516.5       571.3            780.0\n",
              "...            ...         ...         ...         ...              ...\n",
              "127375       525.7       539.7       502.4       559.6            740.0\n",
              "127376       450.3       418.2       449.1       380.9            520.0\n",
              "127377       497.9         NaN         NaN       516.0            440.0\n",
              "127378       517.3       455.7       564.7       416.2            620.0\n",
              "127379       477.1       438.5       466.7       425.5            480.0\n",
              "\n",
              "[127380 rows x 5 columns]"
            ]
          },
          "metadata": {
            "tags": []
          },
          "execution_count": 7
        }
      ]
    },
    {
      "cell_type": "markdown",
      "metadata": {
        "id": "n5XzY2eU7R2z"
      },
      "source": [
        "Vamos agora apagar as linhas que possuem NaN, que são os valores missing, faltantes. Umanota faltante não significa um zero, propriamente, mas sim que o aprticipante faltou àquela prova. Tendo em visto que o exame acontece em 2 finais de de semana, isso é fácil de acontecer.\n",
        "Passamos o comando abaixo, com o axis = 0 indicando que queremos excluir as linhas apenas\n"
      ]
    },
    {
      "cell_type": "code",
      "metadata": {
        "id": "Y6-Ko3zV7vxq"
      },
      "source": [
        "notas_limpas = dados[provas].dropna(axis=0)"
      ],
      "execution_count": null,
      "outputs": []
    },
    {
      "cell_type": "code",
      "metadata": {
        "id": "qhJ5PqlY74HI",
        "outputId": "8916ab02-2952-4dc4-c83a-d45aec11b4f8",
        "colab": {
          "base_uri": "https://localhost:8080/",
          "height": 34
        }
      },
      "source": [
        "notas_limpas.shape"
      ],
      "execution_count": null,
      "outputs": [
        {
          "output_type": "execute_result",
          "data": {
            "text/plain": [
              "(92539, 5)"
            ]
          },
          "metadata": {
            "tags": []
          },
          "execution_count": 9
        }
      ]
    },
    {
      "cell_type": "markdown",
      "metadata": {
        "id": "vqjEPhp88mS8"
      },
      "source": [
        "Ual! Verificando o shape dos dados \"limpos\" verificamos que agora é de 92.539 linhas. Tínhamos antes 127.380. Quantos faltantes! \n",
        "Mas será que realmente essas pessoas faltaram ao exame, ou tiraram zero em alguma prova?\n",
        "\n",
        "Vamos conferir?\n",
        "\n",
        "Tomemos como exemplo a nota de matemática. Vamos filtrar apenas os participantes que tiraram zero em matemática:"
      ]
    },
    {
      "cell_type": "code",
      "metadata": {
        "id": "e1jii4Fv9LMV",
        "outputId": "a5d3b257-a9b9-4502-ef62-891756f0ec3a",
        "colab": {
          "base_uri": "https://localhost:8080/",
          "height": 638
        }
      },
      "source": [
        "notas_zero_matemática = notas_limpas['NU_NOTA_MT'] == 0\n",
        "notas_limpas[notas_zero_matemática]"
      ],
      "execution_count": null,
      "outputs": [
        {
          "output_type": "execute_result",
          "data": {
            "text/html": [
              "<div>\n",
              "<style scoped>\n",
              "    .dataframe tbody tr th:only-of-type {\n",
              "        vertical-align: middle;\n",
              "    }\n",
              "\n",
              "    .dataframe tbody tr th {\n",
              "        vertical-align: top;\n",
              "    }\n",
              "\n",
              "    .dataframe thead th {\n",
              "        text-align: right;\n",
              "    }\n",
              "</style>\n",
              "<table border=\"1\" class=\"dataframe\">\n",
              "  <thead>\n",
              "    <tr style=\"text-align: right;\">\n",
              "      <th></th>\n",
              "      <th>NU_NOTA_LC</th>\n",
              "      <th>NU_NOTA_MT</th>\n",
              "      <th>NU_NOTA_CN</th>\n",
              "      <th>NU_NOTA_CH</th>\n",
              "      <th>NU_NOTA_REDACAO</th>\n",
              "    </tr>\n",
              "  </thead>\n",
              "  <tbody>\n",
              "    <tr>\n",
              "      <th>4923</th>\n",
              "      <td>418.5</td>\n",
              "      <td>0.0</td>\n",
              "      <td>373.4</td>\n",
              "      <td>0.0</td>\n",
              "      <td>320.0</td>\n",
              "    </tr>\n",
              "    <tr>\n",
              "      <th>6437</th>\n",
              "      <td>398.7</td>\n",
              "      <td>0.0</td>\n",
              "      <td>0.0</td>\n",
              "      <td>347.7</td>\n",
              "      <td>380.0</td>\n",
              "    </tr>\n",
              "    <tr>\n",
              "      <th>7076</th>\n",
              "      <td>419.5</td>\n",
              "      <td>0.0</td>\n",
              "      <td>0.0</td>\n",
              "      <td>315.9</td>\n",
              "      <td>0.0</td>\n",
              "    </tr>\n",
              "    <tr>\n",
              "      <th>8693</th>\n",
              "      <td>0.0</td>\n",
              "      <td>0.0</td>\n",
              "      <td>0.0</td>\n",
              "      <td>0.0</td>\n",
              "      <td>0.0</td>\n",
              "    </tr>\n",
              "    <tr>\n",
              "      <th>12954</th>\n",
              "      <td>395.9</td>\n",
              "      <td>0.0</td>\n",
              "      <td>473.5</td>\n",
              "      <td>0.0</td>\n",
              "      <td>460.0</td>\n",
              "    </tr>\n",
              "    <tr>\n",
              "      <th>28030</th>\n",
              "      <td>441.4</td>\n",
              "      <td>0.0</td>\n",
              "      <td>407.9</td>\n",
              "      <td>470.0</td>\n",
              "      <td>360.0</td>\n",
              "    </tr>\n",
              "    <tr>\n",
              "      <th>28755</th>\n",
              "      <td>556.8</td>\n",
              "      <td>0.0</td>\n",
              "      <td>0.0</td>\n",
              "      <td>606.9</td>\n",
              "      <td>660.0</td>\n",
              "    </tr>\n",
              "    <tr>\n",
              "      <th>34210</th>\n",
              "      <td>583.9</td>\n",
              "      <td>0.0</td>\n",
              "      <td>0.0</td>\n",
              "      <td>639.9</td>\n",
              "      <td>820.0</td>\n",
              "    </tr>\n",
              "    <tr>\n",
              "      <th>41918</th>\n",
              "      <td>528.4</td>\n",
              "      <td>0.0</td>\n",
              "      <td>0.0</td>\n",
              "      <td>474.4</td>\n",
              "      <td>560.0</td>\n",
              "    </tr>\n",
              "    <tr>\n",
              "      <th>44669</th>\n",
              "      <td>510.0</td>\n",
              "      <td>0.0</td>\n",
              "      <td>426.7</td>\n",
              "      <td>393.3</td>\n",
              "      <td>0.0</td>\n",
              "    </tr>\n",
              "    <tr>\n",
              "      <th>48903</th>\n",
              "      <td>507.4</td>\n",
              "      <td>0.0</td>\n",
              "      <td>0.0</td>\n",
              "      <td>458.5</td>\n",
              "      <td>480.0</td>\n",
              "    </tr>\n",
              "    <tr>\n",
              "      <th>61695</th>\n",
              "      <td>602.2</td>\n",
              "      <td>0.0</td>\n",
              "      <td>0.0</td>\n",
              "      <td>581.7</td>\n",
              "      <td>580.0</td>\n",
              "    </tr>\n",
              "    <tr>\n",
              "      <th>66385</th>\n",
              "      <td>388.5</td>\n",
              "      <td>0.0</td>\n",
              "      <td>330.6</td>\n",
              "      <td>315.9</td>\n",
              "      <td>280.0</td>\n",
              "    </tr>\n",
              "    <tr>\n",
              "      <th>72521</th>\n",
              "      <td>476.6</td>\n",
              "      <td>0.0</td>\n",
              "      <td>331.9</td>\n",
              "      <td>330.2</td>\n",
              "      <td>460.0</td>\n",
              "    </tr>\n",
              "    <tr>\n",
              "      <th>90965</th>\n",
              "      <td>599.6</td>\n",
              "      <td>0.0</td>\n",
              "      <td>545.9</td>\n",
              "      <td>634.7</td>\n",
              "      <td>580.0</td>\n",
              "    </tr>\n",
              "    <tr>\n",
              "      <th>101269</th>\n",
              "      <td>0.0</td>\n",
              "      <td>0.0</td>\n",
              "      <td>0.0</td>\n",
              "      <td>0.0</td>\n",
              "      <td>0.0</td>\n",
              "    </tr>\n",
              "    <tr>\n",
              "      <th>104065</th>\n",
              "      <td>495.2</td>\n",
              "      <td>0.0</td>\n",
              "      <td>0.0</td>\n",
              "      <td>506.6</td>\n",
              "      <td>640.0</td>\n",
              "    </tr>\n",
              "    <tr>\n",
              "      <th>120412</th>\n",
              "      <td>407.9</td>\n",
              "      <td>0.0</td>\n",
              "      <td>0.0</td>\n",
              "      <td>425.5</td>\n",
              "      <td>300.0</td>\n",
              "    </tr>\n",
              "    <tr>\n",
              "      <th>123391</th>\n",
              "      <td>0.0</td>\n",
              "      <td>0.0</td>\n",
              "      <td>0.0</td>\n",
              "      <td>0.0</td>\n",
              "      <td>400.0</td>\n",
              "    </tr>\n",
              "  </tbody>\n",
              "</table>\n",
              "</div>"
            ],
            "text/plain": [
              "        NU_NOTA_LC  NU_NOTA_MT  NU_NOTA_CN  NU_NOTA_CH  NU_NOTA_REDACAO\n",
              "4923         418.5         0.0       373.4         0.0            320.0\n",
              "6437         398.7         0.0         0.0       347.7            380.0\n",
              "7076         419.5         0.0         0.0       315.9              0.0\n",
              "8693           0.0         0.0         0.0         0.0              0.0\n",
              "12954        395.9         0.0       473.5         0.0            460.0\n",
              "28030        441.4         0.0       407.9       470.0            360.0\n",
              "28755        556.8         0.0         0.0       606.9            660.0\n",
              "34210        583.9         0.0         0.0       639.9            820.0\n",
              "41918        528.4         0.0         0.0       474.4            560.0\n",
              "44669        510.0         0.0       426.7       393.3              0.0\n",
              "48903        507.4         0.0         0.0       458.5            480.0\n",
              "61695        602.2         0.0         0.0       581.7            580.0\n",
              "66385        388.5         0.0       330.6       315.9            280.0\n",
              "72521        476.6         0.0       331.9       330.2            460.0\n",
              "90965        599.6         0.0       545.9       634.7            580.0\n",
              "101269         0.0         0.0         0.0         0.0              0.0\n",
              "104065       495.2         0.0         0.0       506.6            640.0\n",
              "120412       407.9         0.0         0.0       425.5            300.0\n",
              "123391         0.0         0.0         0.0         0.0            400.0"
            ]
          },
          "metadata": {
            "tags": []
          },
          "execution_count": 10
        }
      ]
    },
    {
      "cell_type": "markdown",
      "metadata": {
        "id": "V4WlLIBD90L9"
      },
      "source": [
        "Pronto! Constatamos que não apagamos quem tirou zero. Apagamos realmente quem faltou ao exame.\n",
        "\n"
      ]
    },
    {
      "cell_type": "markdown",
      "metadata": {
        "id": "_jVRUXl1AVwq"
      },
      "source": [
        "Será que existe alguém que tenha tirado zero em todas as provas?\n",
        "Vamos checar isso?"
      ]
    },
    {
      "cell_type": "code",
      "metadata": {
        "id": "gTawdBCf-Kvk",
        "outputId": "f43e1f52-f81c-4d0c-9d82-eda7d1920aab",
        "colab": {
          "base_uri": "https://localhost:8080/",
          "height": 111
        }
      },
      "source": [
        "notas_zero_matemática = notas_limpas['NU_NOTA_MT'] == 0\n",
        "notas_zero_portugues = notas_limpas['NU_NOTA_LC'] == 0\n",
        "notas_zero_CN = notas_limpas['NU_NOTA_CN'] == 0\n",
        "notas_zero_CH = notas_limpas['NU_NOTA_CH'] == 0\n",
        "notas_zero_redacao = notas_limpas['NU_NOTA_REDACAO'] == 0\n",
        "\n",
        "notas_limpas[notas_zero_matemática & notas_zero_portugues & notas_zero_CN & notas_zero_CH & notas_zero_redacao]"
      ],
      "execution_count": null,
      "outputs": [
        {
          "output_type": "execute_result",
          "data": {
            "text/html": [
              "<div>\n",
              "<style scoped>\n",
              "    .dataframe tbody tr th:only-of-type {\n",
              "        vertical-align: middle;\n",
              "    }\n",
              "\n",
              "    .dataframe tbody tr th {\n",
              "        vertical-align: top;\n",
              "    }\n",
              "\n",
              "    .dataframe thead th {\n",
              "        text-align: right;\n",
              "    }\n",
              "</style>\n",
              "<table border=\"1\" class=\"dataframe\">\n",
              "  <thead>\n",
              "    <tr style=\"text-align: right;\">\n",
              "      <th></th>\n",
              "      <th>NU_NOTA_LC</th>\n",
              "      <th>NU_NOTA_MT</th>\n",
              "      <th>NU_NOTA_CN</th>\n",
              "      <th>NU_NOTA_CH</th>\n",
              "      <th>NU_NOTA_REDACAO</th>\n",
              "    </tr>\n",
              "  </thead>\n",
              "  <tbody>\n",
              "    <tr>\n",
              "      <th>8693</th>\n",
              "      <td>0.0</td>\n",
              "      <td>0.0</td>\n",
              "      <td>0.0</td>\n",
              "      <td>0.0</td>\n",
              "      <td>0.0</td>\n",
              "    </tr>\n",
              "    <tr>\n",
              "      <th>101269</th>\n",
              "      <td>0.0</td>\n",
              "      <td>0.0</td>\n",
              "      <td>0.0</td>\n",
              "      <td>0.0</td>\n",
              "      <td>0.0</td>\n",
              "    </tr>\n",
              "  </tbody>\n",
              "</table>\n",
              "</div>"
            ],
            "text/plain": [
              "        NU_NOTA_LC  NU_NOTA_MT  NU_NOTA_CN  NU_NOTA_CH  NU_NOTA_REDACAO\n",
              "8693           0.0         0.0         0.0         0.0              0.0\n",
              "101269         0.0         0.0         0.0         0.0              0.0"
            ]
          },
          "metadata": {
            "tags": []
          },
          "execution_count": 11
        }
      ]
    },
    {
      "cell_type": "markdown",
      "metadata": {
        "id": "CJ84zPoz-u_Q"
      },
      "source": [
        "Nossa amostra possui 2 pessoas que zeraram em todas as provas."
      ]
    },
    {
      "cell_type": "markdown",
      "metadata": {
        "id": "HnRtU1ZdG4a6"
      },
      "source": [
        "Do contrário, será que alguém conseguiu tirar a nota máxima na prova de redação?\n",
        "A prova de redação vale 1000.\n",
        "Vamos extrair as 4 maiores notas de redação da nossa amostra:\n"
      ]
    },
    {
      "cell_type": "code",
      "metadata": {
        "id": "HCH8YmFOExoL",
        "outputId": "cf5105b5-d979-4d3b-a92d-e9ac83e09c77",
        "colab": {
          "base_uri": "https://localhost:8080/",
          "height": 173
        }
      },
      "source": [
        "notas_limpas.nlargest(4, 'NU_NOTA_REDACAO')"
      ],
      "execution_count": null,
      "outputs": [
        {
          "output_type": "execute_result",
          "data": {
            "text/html": [
              "<div>\n",
              "<style scoped>\n",
              "    .dataframe tbody tr th:only-of-type {\n",
              "        vertical-align: middle;\n",
              "    }\n",
              "\n",
              "    .dataframe tbody tr th {\n",
              "        vertical-align: top;\n",
              "    }\n",
              "\n",
              "    .dataframe thead th {\n",
              "        text-align: right;\n",
              "    }\n",
              "</style>\n",
              "<table border=\"1\" class=\"dataframe\">\n",
              "  <thead>\n",
              "    <tr style=\"text-align: right;\">\n",
              "      <th></th>\n",
              "      <th>NU_NOTA_LC</th>\n",
              "      <th>NU_NOTA_MT</th>\n",
              "      <th>NU_NOTA_CN</th>\n",
              "      <th>NU_NOTA_CH</th>\n",
              "      <th>NU_NOTA_REDACAO</th>\n",
              "    </tr>\n",
              "  </thead>\n",
              "  <tbody>\n",
              "    <tr>\n",
              "      <th>22973</th>\n",
              "      <td>616.7</td>\n",
              "      <td>793.1</td>\n",
              "      <td>623.6</td>\n",
              "      <td>665.7</td>\n",
              "      <td>1000.0</td>\n",
              "    </tr>\n",
              "    <tr>\n",
              "      <th>61045</th>\n",
              "      <td>617.4</td>\n",
              "      <td>733.5</td>\n",
              "      <td>660.3</td>\n",
              "      <td>667.9</td>\n",
              "      <td>1000.0</td>\n",
              "    </tr>\n",
              "    <tr>\n",
              "      <th>1544</th>\n",
              "      <td>567.7</td>\n",
              "      <td>504.2</td>\n",
              "      <td>611.6</td>\n",
              "      <td>683.6</td>\n",
              "      <td>980.0</td>\n",
              "    </tr>\n",
              "    <tr>\n",
              "      <th>1617</th>\n",
              "      <td>580.1</td>\n",
              "      <td>664.9</td>\n",
              "      <td>536.5</td>\n",
              "      <td>589.4</td>\n",
              "      <td>980.0</td>\n",
              "    </tr>\n",
              "  </tbody>\n",
              "</table>\n",
              "</div>"
            ],
            "text/plain": [
              "       NU_NOTA_LC  NU_NOTA_MT  NU_NOTA_CN  NU_NOTA_CH  NU_NOTA_REDACAO\n",
              "22973       616.7       793.1       623.6       665.7           1000.0\n",
              "61045       617.4       733.5       660.3       667.9           1000.0\n",
              "1544        567.7       504.2       611.6       683.6            980.0\n",
              "1617        580.1       664.9       536.5       589.4            980.0"
            ]
          },
          "metadata": {
            "tags": []
          },
          "execution_count": 12
        }
      ]
    },
    {
      "cell_type": "markdown",
      "metadata": {
        "id": "_pEhtV7EHt53"
      },
      "source": [
        "Wooow! Duas pessoas tiraram a nota máxima na prova de redação, exatamente 1000! Outras duas pessoas tiraram 980.0, uma excelente nota também.\n",
        "O tema da redação do Enem 2019 foi: \"Democratização do acesso ao cinema no Brasil."
      ]
    },
    {
      "cell_type": "markdown",
      "metadata": {
        "id": "-31F_fXSJ1g8"
      },
      "source": [
        "Vamos agora analisar a distribuição das notas de todas as provas:"
      ]
    },
    {
      "cell_type": "code",
      "metadata": {
        "id": "BA08qhbr3HGI"
      },
      "source": [
        "notas_matematica = notas_limpas['NU_NOTA_MT']\n",
        "notas_portugues = notas_limpas['NU_NOTA_LC']\n",
        "notas_CN = notas_limpas['NU_NOTA_CN']\n",
        "notas_CH = notas_limpas['NU_NOTA_CH']\n",
        "notas_redacao = notas_limpas['NU_NOTA_REDACAO']"
      ],
      "execution_count": null,
      "outputs": []
    },
    {
      "cell_type": "code",
      "metadata": {
        "id": "pTsrU05147xG",
        "outputId": "5f7938f4-d5ac-4961-b232-b97a373ff32d",
        "colab": {
          "base_uri": "https://localhost:8080/",
          "height": 879
        }
      },
      "source": [
        "fig = plt.figure(figsize=(32,22))\n",
        "fig.add_subplot(3,2,1)\n",
        "sns.histplot(notas_portugues, bins=50, kde=True, color = 'b')\n",
        "plt.title('Notas - Linguagens')\n",
        "\n",
        "fig.add_subplot(3,2,2)\n",
        "sns.histplot(notas_matematica, bins=50, kde=True, color = 'r')\n",
        "plt.title('Notas - Matemática')\n",
        "\n",
        "\n",
        "fig.add_subplot(3,2,3)\n",
        "sns.histplot(notas_CH, bins=50, kde=True, color = 'y')\n",
        "plt.title('Notas - Ciências Humanas')\n",
        "\n",
        "fig.add_subplot(3,2,4)\n",
        "sns.histplot(notas_CN, bins=50, kde=True, color = 'g')\n",
        "plt.title('Notas - Ciências da Natureza')\n",
        "\n",
        "fig.add_subplot(3,2,5)\n",
        "sns.histplot(notas_redacao, bins=50, kde=True, color = 'b')\n",
        "plt.title('Notas - Redação')\n"
      ],
      "execution_count": null,
      "outputs": [
        {
          "output_type": "execute_result",
          "data": {
            "text/plain": [
              "Text(0.5, 1.0, 'Notas - Redação')"
            ]
          },
          "metadata": {
            "tags": []
          },
          "execution_count": 14
        },
        {
          "output_type": "display_data",
          "data": {
            "image/png": "[encoded data removed]",
            "text/plain": [
              "<Figure size 2304x1584 with 5 Axes>"
            ]
          },
          "metadata": {
            "tags": [],
            "needs_background": "light"
          }
        }
      ]
    },
    {
      "cell_type": "markdown",
      "metadata": {
        "id": "Wd688KBLLj5i"
      },
      "source": [
        "Enquanto as outras demais notas aparentam ser levamente assimétricas, a distribuição das notas da redação parece ser simpetrica. Vemos que há um número considerável de notas zero, porém a maioria das notas manteve-se em torno de 600.\n",
        "Vamos plotar um qqplot para verificar se a distribuição das notas de redação tende à normalidade ou não:\n"
      ]
    },
    {
      "cell_type": "code",
      "metadata": {
        "id": "M3FJGswR0rPt",
        "outputId": "ef3a2531-a8ca-4ff3-a7ce-53893d3842b1",
        "colab": {
          "base_uri": "https://localhost:8080/",
          "height": 295
        }
      },
      "source": [
        "from scipy import stats\n",
        "\n",
        "fig, ax = plt.subplots()\n",
        "stats.probplot(notas_redacao, plot=ax)\n",
        "plt.show()"
      ],
      "execution_count": null,
      "outputs": [
        {
          "output_type": "display_data",
          "data": {
            "image/png": "[encoded data removed]",
            "text/plain": [
              "<Figure size 432x288 with 1 Axes>"
            ]
          },
          "metadata": {
            "tags": [],
            "needs_background": "light"
          }
        }
      ]
    },
    {
      "cell_type": "markdown",
      "metadata": {
        "id": "WFr9lJwLN6_E"
      },
      "source": [
        "Podemos ver que há uma grande disperção nas extremidades da reta de ajuste, principlamente devido à grande quantidade de notas zero. Isso indica que os dados da nota de redação não estão normalmente distribuidos.\n",
        "\n",
        "Para provar isso de forma melhor, não apenas por meio de uma análise gráfica, vamos, realizar um teste de hipótese de normalidade.\n",
        "\n",
        "Nesse teste, temos a seguinte hipótese nula:\n",
        "\n",
        "### H0 : Os dados estão normalmente distribuídos\n",
        "\n",
        "Utizando um alfa de 0,05, vamos proceder o teste:"
      ]
    },
    {
      "cell_type": "code",
      "metadata": {
        "id": "hGJVh0deMvPS",
        "outputId": "d1ca86e9-5978-455b-e690-d060b554ae8f",
        "colab": {
          "base_uri": "https://localhost:8080/",
          "height": 34
        }
      },
      "source": [
        "stats.normaltest(notas_redacao)"
      ],
      "execution_count": null,
      "outputs": [
        {
          "output_type": "execute_result",
          "data": {
            "text/plain": [
              "NormaltestResult(statistic=7965.137136851712, pvalue=0.0)"
            ]
          },
          "metadata": {
            "tags": []
          },
          "execution_count": 16
        }
      ]
    },
    {
      "cell_type": "markdown",
      "metadata": {
        "id": "X63ktwqIPGWB"
      },
      "source": [
        "\n",
        "\n",
        "*   Temos um p-valor de 0.0, ou seja, menor que o nosso alfa(0,05). Logo, rejeitamos a hipótese nula de normalidade e aceitamos a hipótese alternativa de que os dados da nota de redação não estão normalmente distribuídos.\n",
        "\n",
        "\n"
      ]
    },
    {
      "cell_type": "markdown",
      "metadata": {
        "id": "gYLspiJ0Pn4-"
      },
      "source": [
        "Vamos agora plotar um boxplot das notas para avaliarmos melhor a distribuição das mesmas."
      ]
    },
    {
      "cell_type": "code",
      "metadata": {
        "id": "NSw3DIgdPdjj",
        "outputId": "f0d58b8b-74f2-40bf-cd17-ac19a2f97bbc",
        "colab": {
          "base_uri": "https://localhost:8080/",
          "height": 919
        }
      },
      "source": [
        "fig = plt.figure(figsize=(15,18))\n",
        "fig.add_subplot(3,3,1)\n",
        "sns.boxplot(notas_portugues, palette='Blues')\n",
        "plt.title('Notas - Linguagens')\n",
        "\n",
        "fig.add_subplot(3,3,2)\n",
        "sns.boxplot(notas_matematica, palette='YlOrBr')\n",
        "plt.title('Notas - Matemática')\n",
        "\n",
        "\n",
        "fig.add_subplot(3,3,3)\n",
        "sns.boxplot(notas_CH, palette='Reds')\n",
        "plt.title('Notas - Ciências Humanas')\n",
        "\n",
        "fig.add_subplot(3,3,4)\n",
        "sns.boxplot(notas_CN, palette='Purples')\n",
        "plt.title('Notas - Ciências da Natureza')\n",
        "\n",
        "fig.add_subplot(3,3,6)\n",
        "sns.boxplot(notas_redacao, palette='RdPu')\n",
        "plt.title('Notas - Redação')"
      ],
      "execution_count": null,
      "outputs": [
        {
          "output_type": "stream",
          "text": [
            "/usr/local/lib/python3.6/dist-packages/seaborn/_decorators.py:43: FutureWarning: Pass the following variable as a keyword arg: x. From version 0.12, the only valid positional argument will be `data`, and passing other arguments without an explicit keyword will result in an error or misinterpretation.\n",
            "  FutureWarning\n",
            "/usr/local/lib/python3.6/dist-packages/seaborn/_decorators.py:43: FutureWarning: Pass the following variable as a keyword arg: x. From version 0.12, the only valid positional argument will be `data`, and passing other arguments without an explicit keyword will result in an error or misinterpretation.\n",
            "  FutureWarning\n",
            "/usr/local/lib/python3.6/dist-packages/seaborn/_decorators.py:43: FutureWarning: Pass the following variable as a keyword arg: x. From version 0.12, the only valid positional argument will be `data`, and passing other arguments without an explicit keyword will result in an error or misinterpretation.\n",
            "  FutureWarning\n",
            "/usr/local/lib/python3.6/dist-packages/seaborn/_decorators.py:43: FutureWarning: Pass the following variable as a keyword arg: x. From version 0.12, the only valid positional argument will be `data`, and passing other arguments without an explicit keyword will result in an error or misinterpretation.\n",
            "  FutureWarning\n",
            "/usr/local/lib/python3.6/dist-packages/seaborn/_decorators.py:43: FutureWarning: Pass the following variable as a keyword arg: x. From version 0.12, the only valid positional argument will be `data`, and passing other arguments without an explicit keyword will result in an error or misinterpretation.\n",
            "  FutureWarning\n"
          ],
          "name": "stderr"
        },
        {
          "output_type": "execute_result",
          "data": {
            "text/plain": [
              "Text(0.5, 1.0, 'Notas - Redação')"
            ]
          },
          "metadata": {
            "tags": []
          },
          "execution_count": 17
        },
        {
          "output_type": "display_data",
          "data": {
            "image/png": "[encoded data removed]",
            "text/plain": [
              "<Figure size 1080x1296 with 5 Axes>"
            ]
          },
          "metadata": {
            "tags": [],
            "needs_background": "light"
          }
        }
      ]
    },
    {
      "cell_type": "markdown",
      "metadata": {
        "id": "eu7OpAEDTDMW"
      },
      "source": [
        "Olha que legal! Vamos analisar o boxplot das notas de redação, por exemplo.\n",
        "Vemos que a maioria das notas, concentram-se entre (aproximadamente) 450 a 650. E como há um número bem grande de notas abaixo de 200, estes acabam sendo os outliers da distribuição. \n",
        "Já na prova de Ciências da Natureza, ocorre o contrário. Os outliers da distribuição,ou seja, aqueles que apresentam comportamento diferente do resto da distribuição foram as pessoas que tiraram nota acima de 750. Tendo em vista que a maioria das notas concentram-se numa faixa bem abaixo, quem tirou nota mais alta é um outlier. "
      ]
    },
    {
      "cell_type": "markdown",
      "metadata": {
        "id": "TXsU5VB5UCQE"
      },
      "source": [
        "Vamos checar agora a nota dos treineiros. Treineiro é aquele que está no 1 ou 2 ano do ensino médio, como o próprio nome diz, realiza o exame apenas para treinar os seus conhecimentos. "
      ]
    },
    {
      "cell_type": "code",
      "metadata": {
        "id": "g4DRb0ixVVmB",
        "outputId": "8a4eeeee-2959-4791-89b3-75e74fe655d0",
        "colab": {
          "base_uri": "https://localhost:8080/",
          "height": 419
        }
      },
      "source": [
        "treineiros = dados.query(\"IN_TREINEIRO == 1\")[['NU_NOTA_LC', 'NU_NOTA_MT', 'NU_NOTA_CN', 'NU_NOTA_CH', 'NU_NOTA_REDACAO']]\n",
        "treineiros"
      ],
      "execution_count": null,
      "outputs": [
        {
          "output_type": "execute_result",
          "data": {
            "text/html": [
              "<div>\n",
              "<style scoped>\n",
              "    .dataframe tbody tr th:only-of-type {\n",
              "        vertical-align: middle;\n",
              "    }\n",
              "\n",
              "    .dataframe tbody tr th {\n",
              "        vertical-align: top;\n",
              "    }\n",
              "\n",
              "    .dataframe thead th {\n",
              "        text-align: right;\n",
              "    }\n",
              "</style>\n",
              "<table border=\"1\" class=\"dataframe\">\n",
              "  <thead>\n",
              "    <tr style=\"text-align: right;\">\n",
              "      <th></th>\n",
              "      <th>NU_NOTA_LC</th>\n",
              "      <th>NU_NOTA_MT</th>\n",
              "      <th>NU_NOTA_CN</th>\n",
              "      <th>NU_NOTA_CH</th>\n",
              "      <th>NU_NOTA_REDACAO</th>\n",
              "    </tr>\n",
              "  </thead>\n",
              "  <tbody>\n",
              "    <tr>\n",
              "      <th>0</th>\n",
              "      <td>488.6</td>\n",
              "      <td>432.4</td>\n",
              "      <td>435.6</td>\n",
              "      <td>512.3</td>\n",
              "      <td>420.0</td>\n",
              "    </tr>\n",
              "    <tr>\n",
              "      <th>4</th>\n",
              "      <td>511.2</td>\n",
              "      <td>424.5</td>\n",
              "      <td>516.5</td>\n",
              "      <td>571.3</td>\n",
              "      <td>780.0</td>\n",
              "    </tr>\n",
              "    <tr>\n",
              "      <th>12</th>\n",
              "      <td>535.8</td>\n",
              "      <td>496.7</td>\n",
              "      <td>480.3</td>\n",
              "      <td>574.7</td>\n",
              "      <td>720.0</td>\n",
              "    </tr>\n",
              "    <tr>\n",
              "      <th>14</th>\n",
              "      <td>438.6</td>\n",
              "      <td>450.6</td>\n",
              "      <td>352.0</td>\n",
              "      <td>422.4</td>\n",
              "      <td>400.0</td>\n",
              "    </tr>\n",
              "    <tr>\n",
              "      <th>16</th>\n",
              "      <td>498.9</td>\n",
              "      <td>483.8</td>\n",
              "      <td>418.1</td>\n",
              "      <td>541.1</td>\n",
              "      <td>580.0</td>\n",
              "    </tr>\n",
              "    <tr>\n",
              "      <th>...</th>\n",
              "      <td>...</td>\n",
              "      <td>...</td>\n",
              "      <td>...</td>\n",
              "      <td>...</td>\n",
              "      <td>...</td>\n",
              "    </tr>\n",
              "    <tr>\n",
              "      <th>127328</th>\n",
              "      <td>446.9</td>\n",
              "      <td>550.0</td>\n",
              "      <td>451.7</td>\n",
              "      <td>444.9</td>\n",
              "      <td>340.0</td>\n",
              "    </tr>\n",
              "    <tr>\n",
              "      <th>127340</th>\n",
              "      <td>583.5</td>\n",
              "      <td>615.7</td>\n",
              "      <td>578.0</td>\n",
              "      <td>585.5</td>\n",
              "      <td>720.0</td>\n",
              "    </tr>\n",
              "    <tr>\n",
              "      <th>127349</th>\n",
              "      <td>522.2</td>\n",
              "      <td>501.9</td>\n",
              "      <td>451.6</td>\n",
              "      <td>384.5</td>\n",
              "      <td>540.0</td>\n",
              "    </tr>\n",
              "    <tr>\n",
              "      <th>127350</th>\n",
              "      <td>596.6</td>\n",
              "      <td>831.8</td>\n",
              "      <td>570.5</td>\n",
              "      <td>631.1</td>\n",
              "      <td>840.0</td>\n",
              "    </tr>\n",
              "    <tr>\n",
              "      <th>127352</th>\n",
              "      <td>448.3</td>\n",
              "      <td>403.6</td>\n",
              "      <td>494.4</td>\n",
              "      <td>355.9</td>\n",
              "      <td>260.0</td>\n",
              "    </tr>\n",
              "  </tbody>\n",
              "</table>\n",
              "<p>15401 rows × 5 columns</p>\n",
              "</div>"
            ],
            "text/plain": [
              "        NU_NOTA_LC  NU_NOTA_MT  NU_NOTA_CN  NU_NOTA_CH  NU_NOTA_REDACAO\n",
              "0            488.6       432.4       435.6       512.3            420.0\n",
              "4            511.2       424.5       516.5       571.3            780.0\n",
              "12           535.8       496.7       480.3       574.7            720.0\n",
              "14           438.6       450.6       352.0       422.4            400.0\n",
              "16           498.9       483.8       418.1       541.1            580.0\n",
              "...            ...         ...         ...         ...              ...\n",
              "127328       446.9       550.0       451.7       444.9            340.0\n",
              "127340       583.5       615.7       578.0       585.5            720.0\n",
              "127349       522.2       501.9       451.6       384.5            540.0\n",
              "127350       596.6       831.8       570.5       631.1            840.0\n",
              "127352       448.3       403.6       494.4       355.9            260.0\n",
              "\n",
              "[15401 rows x 5 columns]"
            ]
          },
          "metadata": {
            "tags": []
          },
          "execution_count": 6
        }
      ]
    },
    {
      "cell_type": "code",
      "metadata": {
        "id": "D-Elqlo1YBMf",
        "outputId": "6b545aa9-f13a-4e01-c70c-f89899c3c778",
        "colab": {
          "base_uri": "https://localhost:8080/",
          "height": 34
        }
      },
      "source": [
        "treineiros.shape"
      ],
      "execution_count": null,
      "outputs": [
        {
          "output_type": "execute_result",
          "data": {
            "text/plain": [
              "(15401, 5)"
            ]
          },
          "metadata": {
            "tags": []
          },
          "execution_count": 19
        }
      ]
    },
    {
      "cell_type": "markdown",
      "metadata": {
        "id": "NU-wjB-mXOs2"
      },
      "source": [
        "Agrupamos a nota de todas as provas, com a condição de treineiro = 1. No dicionário do Inep, treineiro = 1 é aquele que realizou a prova apenas para treinar.\n",
        "E salvamos na variável \"treineiros\". Ao todo, 15.401 participantes se inscreveram como treineiro, como podemos ver no gráfico abaixo."
      ]
    },
    {
      "cell_type": "code",
      "metadata": {
        "id": "Z1jxmsvrYZsl",
        "outputId": "d2602dcf-eb41-4946-8d42-6fa2ddc2f4b3",
        "colab": {
          "base_uri": "https://localhost:8080/",
          "height": 471
        }
      },
      "source": [
        "sns.catplot('IN_TREINEIRO',kind = 'count', data=dados)\n",
        "plt.title('Candidatos Treineiros')"
      ],
      "execution_count": null,
      "outputs": [
        {
          "output_type": "stream",
          "text": [
            "/usr/local/lib/python3.6/dist-packages/seaborn/_decorators.py:43: FutureWarning: Pass the following variable as a keyword arg: x. From version 0.12, the only valid positional argument will be `data`, and passing other arguments without an explicit keyword will result in an error or misinterpretation.\n",
            "  FutureWarning\n"
          ],
          "name": "stderr"
        },
        {
          "output_type": "execute_result",
          "data": {
            "text/plain": [
              "Text(0.5, 1.0, 'Candidatos Treineiros')"
            ]
          },
          "metadata": {
            "tags": []
          },
          "execution_count": 20
        },
        {
          "output_type": "display_data",
          "data": {
            "image/png": "[encoded data removed]",
            "text/plain": [
              "<Figure size 360x360 with 1 Axes>"
            ]
          },
          "metadata": {
            "tags": [],
            "needs_background": "light"
          }
        }
      ]
    },
    {
      "cell_type": "markdown",
      "metadata": {
        "id": "t5DjXX38aEqJ"
      },
      "source": [
        "Só por curiosidade, vamos ver o sexo majoritário entre treineiros. Assim como na distribuição de não treineiros, também."
      ]
    },
    {
      "cell_type": "code",
      "metadata": {
        "id": "SdytBjI9aOim",
        "outputId": "c13e504b-793e-4813-f29e-e79fd3217da0",
        "colab": {
          "base_uri": "https://localhost:8080/",
          "height": 471
        }
      },
      "source": [
        "sns.catplot('IN_TREINEIRO',kind = 'count', hue='TP_SEXO', data=dados)\n",
        "plt.title('Candidatos Treineiros por sexo')"
      ],
      "execution_count": null,
      "outputs": [
        {
          "output_type": "stream",
          "text": [
            "/usr/local/lib/python3.6/dist-packages/seaborn/_decorators.py:43: FutureWarning: Pass the following variable as a keyword arg: x. From version 0.12, the only valid positional argument will be `data`, and passing other arguments without an explicit keyword will result in an error or misinterpretation.\n",
            "  FutureWarning\n"
          ],
          "name": "stderr"
        },
        {
          "output_type": "execute_result",
          "data": {
            "text/plain": [
              "Text(0.5, 1.0, 'Candidatos Treineiros por sexo')"
            ]
          },
          "metadata": {
            "tags": []
          },
          "execution_count": 21
        },
        {
          "output_type": "display_data",
          "data": {
            "image/png": "[encoded data removed]",
            "text/plain": [
              "<Figure size 411.5x360 with 1 Axes>"
            ]
          },
          "metadata": {
            "tags": [],
            "needs_background": "light"
          }
        }
      ]
    },
    {
      "cell_type": "markdown",
      "metadata": {
        "id": "YL-eZOebasG7"
      },
      "source": [
        "E o sexo feminino domina mais uma vez! hahaha\n",
        "Há mais mulheres no grupo de treineiros assim como no grupo de não treineiros. Podemos saber o numero exato. Vamos lá:\n",
        "\n"
      ]
    },
    {
      "cell_type": "code",
      "metadata": {
        "id": "JcMI6G-Ya66v",
        "outputId": "4348a26d-3b61-4d5e-c601-ba3b9162a36c",
        "colab": {
          "base_uri": "https://localhost:8080/",
          "height": 34
        }
      },
      "source": [
        "mulheres = dados['TP_SEXO'] == 'F'\n",
        "\n",
        "dados[mulheres].shape"
      ],
      "execution_count": null,
      "outputs": [
        {
          "output_type": "execute_result",
          "data": {
            "text/plain": [
              "(75883, 136)"
            ]
          },
          "metadata": {
            "tags": []
          },
          "execution_count": 4
        }
      ]
    },
    {
      "cell_type": "markdown",
      "metadata": {
        "id": "XmDecl3HbneJ"
      },
      "source": [
        "Temos ao todo 75.883 pessoas do sexo feminino. \n",
        "\n"
      ]
    },
    {
      "cell_type": "markdown",
      "metadata": {
        "id": "WWxAG6zeh-lV"
      },
      "source": [
        "Vamos plotar um boxplot das notas dos treineiros para ver a dispersão das notas.\n",
        "Tendo em vista que um treineiro não está em seu último ano de ensino médio, você acha que é possível tirar uma nota alta em alguma das provas?\n",
        "\n",
        "Vamos ver!"
      ]
    },
    {
      "cell_type": "code",
      "metadata": {
        "id": "mPILwW25eaYI"
      },
      "source": [
        "treineiros_mat = treineiros['NU_NOTA_MT']\n",
        "treineiros_lc = treineiros['NU_NOTA_LC']\n",
        "treineiros_cn = treineiros['NU_NOTA_CN']\n",
        "treineiros_ch = treineiros['NU_NOTA_CH']\n",
        "treineiros_redacao = treineiros['NU_NOTA_REDACAO']"
      ],
      "execution_count": null,
      "outputs": []
    },
    {
      "cell_type": "code",
      "metadata": {
        "id": "u3I8uM65hevf",
        "outputId": "caef949b-c4dc-43d0-f206-86affab23933",
        "colab": {
          "base_uri": "https://localhost:8080/",
          "height": 919
        }
      },
      "source": [
        "fig = plt.figure(figsize=(15,18))\n",
        "fig.add_subplot(3,3,1)\n",
        "sns.boxplot(treineiros_lc, palette='Blues')\n",
        "plt.title('Notas - Linguagens')\n",
        "\n",
        "fig.add_subplot(3,3,2)\n",
        "sns.boxplot(treineiros_mat, palette='YlOrBr')\n",
        "plt.title('Notas - Matemática')\n",
        "\n",
        "\n",
        "fig.add_subplot(3,3,3)\n",
        "sns.boxplot(treineiros_ch, palette='Reds')\n",
        "plt.title('Notas - Ciências Humanas')\n",
        "\n",
        "fig.add_subplot(3,3,4)\n",
        "sns.boxplot(treineiros_cn, palette='Purples')\n",
        "plt.title('Notas - Ciências da Natureza')\n",
        "\n",
        "fig.add_subplot(3,3,6)\n",
        "sns.boxplot(treineiros_redacao, palette='RdPu')\n",
        "plt.title('Notas - Redação')"
      ],
      "execution_count": null,
      "outputs": [
        {
          "output_type": "stream",
          "text": [
            "/usr/local/lib/python3.6/dist-packages/seaborn/_decorators.py:43: FutureWarning: Pass the following variable as a keyword arg: x. From version 0.12, the only valid positional argument will be `data`, and passing other arguments without an explicit keyword will result in an error or misinterpretation.\n",
            "  FutureWarning\n",
            "/usr/local/lib/python3.6/dist-packages/seaborn/_decorators.py:43: FutureWarning: Pass the following variable as a keyword arg: x. From version 0.12, the only valid positional argument will be `data`, and passing other arguments without an explicit keyword will result in an error or misinterpretation.\n",
            "  FutureWarning\n",
            "/usr/local/lib/python3.6/dist-packages/seaborn/_decorators.py:43: FutureWarning: Pass the following variable as a keyword arg: x. From version 0.12, the only valid positional argument will be `data`, and passing other arguments without an explicit keyword will result in an error or misinterpretation.\n",
            "  FutureWarning\n",
            "/usr/local/lib/python3.6/dist-packages/seaborn/_decorators.py:43: FutureWarning: Pass the following variable as a keyword arg: x. From version 0.12, the only valid positional argument will be `data`, and passing other arguments without an explicit keyword will result in an error or misinterpretation.\n",
            "  FutureWarning\n",
            "/usr/local/lib/python3.6/dist-packages/seaborn/_decorators.py:43: FutureWarning: Pass the following variable as a keyword arg: x. From version 0.12, the only valid positional argument will be `data`, and passing other arguments without an explicit keyword will result in an error or misinterpretation.\n",
            "  FutureWarning\n"
          ],
          "name": "stderr"
        },
        {
          "output_type": "execute_result",
          "data": {
            "text/plain": [
              "Text(0.5, 1.0, 'Notas - Redação')"
            ]
          },
          "metadata": {
            "tags": []
          },
          "execution_count": 10
        },
        {
          "output_type": "display_data",
          "data": {
            "image/png": "[encoded data removed]",
            "text/plain": [
              "<Figure size 1080x1296 with 5 Axes>"
            ]
          },
          "metadata": {
            "tags": [],
            "needs_background": "light"
          }
        }
      ]
    },
    {
      "cell_type": "markdown",
      "metadata": {
        "id": "mYirsoxpiczV"
      },
      "source": [
        "Como era de esperar, uma nota muito alta seria um outlier, pois tendo em vista que um treineiro não está no seu terceiro ano, então teoricamente não estudou vários conteúdos que são requeridos pelo Enem.\n",
        "\n",
        "Porém ainda assim, há notas bem altas no grupo de treineiros. Por exemplo, há notas acima de 900 para a redação.\n",
        "Assim como há notas acima de 800 para a prova de matemática. Partindo do princípio que a nota mediana de matemática foi por volta de 500, tirar acima de 800 foi um feito e tanto!\n",
        "\n",
        "Parabéns aos treineiros!!\n",
        "\n",
        "\n",
        "Para não ficar na estipulação, vamos conferir a nota mediana de matemática?\n",
        "\n",
        "Vamos lá:"
      ]
    },
    {
      "cell_type": "code",
      "metadata": {
        "id": "y2ZB5TqrjOXe",
        "outputId": "ac7077a1-b41f-4fcf-e3a7-f1773e9f380c",
        "colab": {
          "base_uri": "https://localhost:8080/",
          "height": 34
        }
      },
      "source": [
        "dados['NU_NOTA_MT'].median()"
      ],
      "execution_count": null,
      "outputs": [
        {
          "output_type": "execute_result",
          "data": {
            "text/plain": [
              "501.6"
            ]
          },
          "metadata": {
            "tags": []
          },
          "execution_count": 13
        }
      ]
    },
    {
      "cell_type": "markdown",
      "metadata": {
        "id": "pgJ6a9dQjW06"
      },
      "source": [
        "\n",
        "\n",
        "*   Podemos ver que a nota mediana de matemática foi de 501,6! \n",
        "\n"
      ]
    },
    {
      "cell_type": "markdown",
      "metadata": {
        "id": "cQTB9C7Ljseb"
      },
      "source": [
        "Falamos bastante sobre as distribuições das notas de treineiros e oficais, vamos fazer uma análise agora com relação à idade dos participantes.\n",
        "Sabemos que geralmente quem presta o Enem tem entre 17 e 18 anos, pois é a idade que a galera está terminando o ensino médio. Será isso uma verdade na prática? \n",
        "\n",
        "Vamos lá então:\n"
      ]
    },
    {
      "cell_type": "code",
      "metadata": {
        "id": "Vf9iTvPxkF-T",
        "outputId": "e4ef5e8e-6206-484e-8f9d-258895526eff",
        "colab": {
          "base_uri": "https://localhost:8080/",
          "height": 221
        }
      },
      "source": [
        "dados['NU_IDADE'].value_counts()\n"
      ],
      "execution_count": null,
      "outputs": [
        {
          "output_type": "execute_result",
          "data": {
            "text/plain": [
              "18    21452\n",
              "17    21256\n",
              "19    14418\n",
              "20    10413\n",
              "16     7830\n",
              "      ...  \n",
              "75        2\n",
              "73        2\n",
              "82        1\n",
              "77        1\n",
              "76        1\n",
              "Name: NU_IDADE, Length: 65, dtype: int64"
            ]
          },
          "metadata": {
            "tags": []
          },
          "execution_count": 18
        }
      ]
    },
    {
      "cell_type": "markdown",
      "metadata": {
        "id": "Jsf-QoJZkXwv"
      },
      "source": [
        "Podemos ver que há uma galera de 17 e 18, assim como há abaixo e como há acima disso. \n",
        "Woooow.. há candidatos de 75, 73, 82 anos! Incrível. Já iremos falar disso, mas vamos ordenar nossos dados, para ver o candidato mais novo:"
      ]
    },
    {
      "cell_type": "code",
      "metadata": {
        "id": "DZatgBGNl5Vr",
        "outputId": "e16d4c77-329d-4e1c-9794-18779439018e",
        "colab": {
          "base_uri": "https://localhost:8080/",
          "height": 221
        }
      },
      "source": [
        "dados['NU_IDADE'].sort_values()"
      ],
      "execution_count": null,
      "outputs": [
        {
          "output_type": "execute_result",
          "data": {
            "text/plain": [
              "95630     13\n",
              "57359     13\n",
              "116501    13\n",
              "98197     13\n",
              "115822    14\n",
              "          ..\n",
              "116590    75\n",
              "116296    75\n",
              "107247    76\n",
              "84937     77\n",
              "85002     82\n",
              "Name: NU_IDADE, Length: 127380, dtype: int64"
            ]
          },
          "metadata": {
            "tags": []
          },
          "execution_count": 29
        }
      ]
    },
    {
      "cell_type": "markdown",
      "metadata": {
        "id": "kU_XOWjBmYio"
      },
      "source": [
        "Olha que demais, nossa amostra possui 4 candidatos que possuem 13 anos! hahahaha\n",
        "Bom, acredito que com 13 anos não se esteja no ensino médio, porém, eles entram nas estatísticas dos mais novos do Enem 2019.\n",
        "\n",
        "Vamos ver de qual estado são esses candidatos de 13 anos:"
      ]
    },
    {
      "cell_type": "code",
      "metadata": {
        "id": "i3mhcboplmWf",
        "outputId": "dc2b8c8a-9ef8-42f7-bc10-6dbda82e21ca",
        "colab": {
          "base_uri": "https://localhost:8080/",
          "height": 222
        }
      },
      "source": [
        "dados[dados['NU_IDADE']==13]"
      ],
      "execution_count": null,
      "outputs": [
        {
          "output_type": "execute_result",
          "data": {
            "text/html": [
              "<div>\n",
              "<style scoped>\n",
              "    .dataframe tbody tr th:only-of-type {\n",
              "        vertical-align: middle;\n",
              "    }\n",
              "\n",
              "    .dataframe tbody tr th {\n",
              "        vertical-align: top;\n",
              "    }\n",
              "\n",
              "    .dataframe thead th {\n",
              "        text-align: right;\n",
              "    }\n",
              "</style>\n",
              "<table border=\"1\" class=\"dataframe\">\n",
              "  <thead>\n",
              "    <tr style=\"text-align: right;\">\n",
              "      <th></th>\n",
              "      <th>NU_INSCRICAO</th>\n",
              "      <th>NU_ANO</th>\n",
              "      <th>CO_MUNICIPIO_RESIDENCIA</th>\n",
              "      <th>NO_MUNICIPIO_RESIDENCIA</th>\n",
              "      <th>CO_UF_RESIDENCIA</th>\n",
              "      <th>SG_UF_RESIDENCIA</th>\n",
              "      <th>NU_IDADE</th>\n",
              "      <th>TP_SEXO</th>\n",
              "      <th>TP_ESTADO_CIVIL</th>\n",
              "      <th>TP_COR_RACA</th>\n",
              "      <th>TP_NACIONALIDADE</th>\n",
              "      <th>CO_MUNICIPIO_NASCIMENTO</th>\n",
              "      <th>NO_MUNICIPIO_NASCIMENTO</th>\n",
              "      <th>CO_UF_NASCIMENTO</th>\n",
              "      <th>SG_UF_NASCIMENTO</th>\n",
              "      <th>TP_ST_CONCLUSAO</th>\n",
              "      <th>TP_ANO_CONCLUIU</th>\n",
              "      <th>TP_ESCOLA</th>\n",
              "      <th>TP_ENSINO</th>\n",
              "      <th>IN_TREINEIRO</th>\n",
              "      <th>CO_ESCOLA</th>\n",
              "      <th>CO_MUNICIPIO_ESC</th>\n",
              "      <th>NO_MUNICIPIO_ESC</th>\n",
              "      <th>CO_UF_ESC</th>\n",
              "      <th>SG_UF_ESC</th>\n",
              "      <th>TP_DEPENDENCIA_ADM_ESC</th>\n",
              "      <th>TP_LOCALIZACAO_ESC</th>\n",
              "      <th>TP_SIT_FUNC_ESC</th>\n",
              "      <th>IN_BAIXA_VISAO</th>\n",
              "      <th>IN_CEGUEIRA</th>\n",
              "      <th>IN_SURDEZ</th>\n",
              "      <th>IN_DEFICIENCIA_AUDITIVA</th>\n",
              "      <th>IN_SURDO_CEGUEIRA</th>\n",
              "      <th>IN_DEFICIENCIA_FISICA</th>\n",
              "      <th>IN_DEFICIENCIA_MENTAL</th>\n",
              "      <th>IN_DEFICIT_ATENCAO</th>\n",
              "      <th>IN_DISLEXIA</th>\n",
              "      <th>IN_DISCALCULIA</th>\n",
              "      <th>IN_AUTISMO</th>\n",
              "      <th>IN_VISAO_MONOCULAR</th>\n",
              "      <th>...</th>\n",
              "      <th>TX_RESPOSTAS_CH</th>\n",
              "      <th>TX_RESPOSTAS_LC</th>\n",
              "      <th>TX_RESPOSTAS_MT</th>\n",
              "      <th>TP_LINGUA</th>\n",
              "      <th>TX_GABARITO_CN</th>\n",
              "      <th>TX_GABARITO_CH</th>\n",
              "      <th>TX_GABARITO_LC</th>\n",
              "      <th>TX_GABARITO_MT</th>\n",
              "      <th>TP_STATUS_REDACAO</th>\n",
              "      <th>NU_NOTA_COMP1</th>\n",
              "      <th>NU_NOTA_COMP2</th>\n",
              "      <th>NU_NOTA_COMP3</th>\n",
              "      <th>NU_NOTA_COMP4</th>\n",
              "      <th>NU_NOTA_COMP5</th>\n",
              "      <th>NU_NOTA_REDACAO</th>\n",
              "      <th>Q001</th>\n",
              "      <th>Q002</th>\n",
              "      <th>Q003</th>\n",
              "      <th>Q004</th>\n",
              "      <th>Q005</th>\n",
              "      <th>Q006</th>\n",
              "      <th>Q007</th>\n",
              "      <th>Q008</th>\n",
              "      <th>Q009</th>\n",
              "      <th>Q010</th>\n",
              "      <th>Q011</th>\n",
              "      <th>Q012</th>\n",
              "      <th>Q013</th>\n",
              "      <th>Q014</th>\n",
              "      <th>Q015</th>\n",
              "      <th>Q016</th>\n",
              "      <th>Q017</th>\n",
              "      <th>Q018</th>\n",
              "      <th>Q019</th>\n",
              "      <th>Q020</th>\n",
              "      <th>Q021</th>\n",
              "      <th>Q022</th>\n",
              "      <th>Q023</th>\n",
              "      <th>Q024</th>\n",
              "      <th>Q025</th>\n",
              "    </tr>\n",
              "  </thead>\n",
              "  <tbody>\n",
              "    <tr>\n",
              "      <th>57359</th>\n",
              "      <td>190003297248</td>\n",
              "      <td>2019</td>\n",
              "      <td>3504107</td>\n",
              "      <td>Atibaia</td>\n",
              "      <td>35</td>\n",
              "      <td>SP</td>\n",
              "      <td>13</td>\n",
              "      <td>F</td>\n",
              "      <td>1</td>\n",
              "      <td>1</td>\n",
              "      <td>1</td>\n",
              "      <td>3556701.0</td>\n",
              "      <td>Vinhedo</td>\n",
              "      <td>35.0</td>\n",
              "      <td>SP</td>\n",
              "      <td>4</td>\n",
              "      <td>0</td>\n",
              "      <td>1</td>\n",
              "      <td>NaN</td>\n",
              "      <td>0</td>\n",
              "      <td>NaN</td>\n",
              "      <td>NaN</td>\n",
              "      <td>NaN</td>\n",
              "      <td>NaN</td>\n",
              "      <td>NaN</td>\n",
              "      <td>NaN</td>\n",
              "      <td>NaN</td>\n",
              "      <td>NaN</td>\n",
              "      <td>0</td>\n",
              "      <td>0</td>\n",
              "      <td>0</td>\n",
              "      <td>0</td>\n",
              "      <td>0</td>\n",
              "      <td>0</td>\n",
              "      <td>0</td>\n",
              "      <td>0</td>\n",
              "      <td>0</td>\n",
              "      <td>0</td>\n",
              "      <td>0</td>\n",
              "      <td>0</td>\n",
              "      <td>...</td>\n",
              "      <td>CAEBCEBECAABCDBEEAEDDBCBACBCECAABDCACEABAEADC</td>\n",
              "      <td>BAAEC99999BCCDDEDACBAADECADBEADBADDBECADEBCBDA...</td>\n",
              "      <td>AABDCEACDDBEDABDDACBDECABACDDBAECDBECBBDEBCDA</td>\n",
              "      <td>0</td>\n",
              "      <td>DEADBAAAEBEECEBCBCBCBDADAEABCEDDDDADCBEECACBC</td>\n",
              "      <td>ACACEEBCCBABADBBBACDBBACCCCADCEBADCBEEDBBEADB</td>\n",
              "      <td>EBBADCABDABACBCEBDEEAAADDBECDECDDBADBCDAAECBCC...</td>\n",
              "      <td>AADDDBEEEBEDDBEBACABCDBABECECACAECDCBDCCEDCDA</td>\n",
              "      <td>1.0</td>\n",
              "      <td>160.0</td>\n",
              "      <td>200.0</td>\n",
              "      <td>200.0</td>\n",
              "      <td>200.0</td>\n",
              "      <td>160.0</td>\n",
              "      <td>920.0</td>\n",
              "      <td>E</td>\n",
              "      <td>G</td>\n",
              "      <td>C</td>\n",
              "      <td>D</td>\n",
              "      <td>3</td>\n",
              "      <td>F</td>\n",
              "      <td>A</td>\n",
              "      <td>C</td>\n",
              "      <td>C</td>\n",
              "      <td>B</td>\n",
              "      <td>A</td>\n",
              "      <td>B</td>\n",
              "      <td>B</td>\n",
              "      <td>B</td>\n",
              "      <td>A</td>\n",
              "      <td>B</td>\n",
              "      <td>A</td>\n",
              "      <td>A</td>\n",
              "      <td>B</td>\n",
              "      <td>A</td>\n",
              "      <td>A</td>\n",
              "      <td>D</td>\n",
              "      <td>B</td>\n",
              "      <td>B</td>\n",
              "      <td>B</td>\n",
              "    </tr>\n",
              "    <tr>\n",
              "      <th>95630</th>\n",
              "      <td>190004825557</td>\n",
              "      <td>2019</td>\n",
              "      <td>5107602</td>\n",
              "      <td>Rondonópolis</td>\n",
              "      <td>51</td>\n",
              "      <td>MT</td>\n",
              "      <td>13</td>\n",
              "      <td>M</td>\n",
              "      <td>1</td>\n",
              "      <td>1</td>\n",
              "      <td>1</td>\n",
              "      <td>5107602.0</td>\n",
              "      <td>Rondonópolis</td>\n",
              "      <td>51.0</td>\n",
              "      <td>MT</td>\n",
              "      <td>4</td>\n",
              "      <td>0</td>\n",
              "      <td>1</td>\n",
              "      <td>NaN</td>\n",
              "      <td>0</td>\n",
              "      <td>NaN</td>\n",
              "      <td>NaN</td>\n",
              "      <td>NaN</td>\n",
              "      <td>NaN</td>\n",
              "      <td>NaN</td>\n",
              "      <td>NaN</td>\n",
              "      <td>NaN</td>\n",
              "      <td>NaN</td>\n",
              "      <td>0</td>\n",
              "      <td>0</td>\n",
              "      <td>0</td>\n",
              "      <td>0</td>\n",
              "      <td>0</td>\n",
              "      <td>0</td>\n",
              "      <td>0</td>\n",
              "      <td>0</td>\n",
              "      <td>0</td>\n",
              "      <td>0</td>\n",
              "      <td>0</td>\n",
              "      <td>0</td>\n",
              "      <td>...</td>\n",
              "      <td>NaN</td>\n",
              "      <td>NaN</td>\n",
              "      <td>NaN</td>\n",
              "      <td>0</td>\n",
              "      <td>NaN</td>\n",
              "      <td>NaN</td>\n",
              "      <td>NaN</td>\n",
              "      <td>NaN</td>\n",
              "      <td>NaN</td>\n",
              "      <td>NaN</td>\n",
              "      <td>NaN</td>\n",
              "      <td>NaN</td>\n",
              "      <td>NaN</td>\n",
              "      <td>NaN</td>\n",
              "      <td>NaN</td>\n",
              "      <td>E</td>\n",
              "      <td>E</td>\n",
              "      <td>C</td>\n",
              "      <td>D</td>\n",
              "      <td>3</td>\n",
              "      <td>F</td>\n",
              "      <td>A</td>\n",
              "      <td>B</td>\n",
              "      <td>C</td>\n",
              "      <td>B</td>\n",
              "      <td>A</td>\n",
              "      <td>B</td>\n",
              "      <td>A</td>\n",
              "      <td>A</td>\n",
              "      <td>A</td>\n",
              "      <td>A</td>\n",
              "      <td>A</td>\n",
              "      <td>A</td>\n",
              "      <td>B</td>\n",
              "      <td>B</td>\n",
              "      <td>A</td>\n",
              "      <td>B</td>\n",
              "      <td>A</td>\n",
              "      <td>A</td>\n",
              "      <td>B</td>\n",
              "    </tr>\n",
              "    <tr>\n",
              "      <th>98197</th>\n",
              "      <td>190004926952</td>\n",
              "      <td>2019</td>\n",
              "      <td>1600303</td>\n",
              "      <td>Macapá</td>\n",
              "      <td>16</td>\n",
              "      <td>AP</td>\n",
              "      <td>13</td>\n",
              "      <td>M</td>\n",
              "      <td>1</td>\n",
              "      <td>3</td>\n",
              "      <td>1</td>\n",
              "      <td>1600303.0</td>\n",
              "      <td>Macapá</td>\n",
              "      <td>16.0</td>\n",
              "      <td>AP</td>\n",
              "      <td>4</td>\n",
              "      <td>0</td>\n",
              "      <td>1</td>\n",
              "      <td>NaN</td>\n",
              "      <td>0</td>\n",
              "      <td>NaN</td>\n",
              "      <td>NaN</td>\n",
              "      <td>NaN</td>\n",
              "      <td>NaN</td>\n",
              "      <td>NaN</td>\n",
              "      <td>NaN</td>\n",
              "      <td>NaN</td>\n",
              "      <td>NaN</td>\n",
              "      <td>0</td>\n",
              "      <td>0</td>\n",
              "      <td>0</td>\n",
              "      <td>0</td>\n",
              "      <td>0</td>\n",
              "      <td>0</td>\n",
              "      <td>0</td>\n",
              "      <td>0</td>\n",
              "      <td>0</td>\n",
              "      <td>0</td>\n",
              "      <td>0</td>\n",
              "      <td>0</td>\n",
              "      <td>...</td>\n",
              "      <td>NaN</td>\n",
              "      <td>NaN</td>\n",
              "      <td>NaN</td>\n",
              "      <td>1</td>\n",
              "      <td>NaN</td>\n",
              "      <td>NaN</td>\n",
              "      <td>NaN</td>\n",
              "      <td>NaN</td>\n",
              "      <td>NaN</td>\n",
              "      <td>NaN</td>\n",
              "      <td>NaN</td>\n",
              "      <td>NaN</td>\n",
              "      <td>NaN</td>\n",
              "      <td>NaN</td>\n",
              "      <td>NaN</td>\n",
              "      <td>G</td>\n",
              "      <td>E</td>\n",
              "      <td>D</td>\n",
              "      <td>B</td>\n",
              "      <td>4</td>\n",
              "      <td>K</td>\n",
              "      <td>B</td>\n",
              "      <td>C</td>\n",
              "      <td>D</td>\n",
              "      <td>B</td>\n",
              "      <td>A</td>\n",
              "      <td>B</td>\n",
              "      <td>B</td>\n",
              "      <td>B</td>\n",
              "      <td>B</td>\n",
              "      <td>B</td>\n",
              "      <td>A</td>\n",
              "      <td>A</td>\n",
              "      <td>C</td>\n",
              "      <td>B</td>\n",
              "      <td>A</td>\n",
              "      <td>E</td>\n",
              "      <td>A</td>\n",
              "      <td>B</td>\n",
              "      <td>B</td>\n",
              "    </tr>\n",
              "    <tr>\n",
              "      <th>116501</th>\n",
              "      <td>190005659236</td>\n",
              "      <td>2019</td>\n",
              "      <td>2917508</td>\n",
              "      <td>Jacobina</td>\n",
              "      <td>29</td>\n",
              "      <td>BA</td>\n",
              "      <td>13</td>\n",
              "      <td>M</td>\n",
              "      <td>1</td>\n",
              "      <td>3</td>\n",
              "      <td>1</td>\n",
              "      <td>2304400.0</td>\n",
              "      <td>Fortaleza</td>\n",
              "      <td>23.0</td>\n",
              "      <td>CE</td>\n",
              "      <td>4</td>\n",
              "      <td>0</td>\n",
              "      <td>1</td>\n",
              "      <td>NaN</td>\n",
              "      <td>0</td>\n",
              "      <td>NaN</td>\n",
              "      <td>NaN</td>\n",
              "      <td>NaN</td>\n",
              "      <td>NaN</td>\n",
              "      <td>NaN</td>\n",
              "      <td>NaN</td>\n",
              "      <td>NaN</td>\n",
              "      <td>NaN</td>\n",
              "      <td>0</td>\n",
              "      <td>0</td>\n",
              "      <td>0</td>\n",
              "      <td>0</td>\n",
              "      <td>0</td>\n",
              "      <td>0</td>\n",
              "      <td>0</td>\n",
              "      <td>0</td>\n",
              "      <td>0</td>\n",
              "      <td>0</td>\n",
              "      <td>0</td>\n",
              "      <td>0</td>\n",
              "      <td>...</td>\n",
              "      <td>ADCCCCDCEAAABCEEEDAD*CCCDEBADCDBBBCBEBDBDBECC</td>\n",
              "      <td>EBBAD99999BDCBCCBCEBBCADEDDEDECDECDECECACDCECC...</td>\n",
              "      <td>ECEADDBBABCCCDBDCAAECABDCBDBCECCECABCABBBCBAA</td>\n",
              "      <td>0</td>\n",
              "      <td>AAECACDEADCBCDDDBCBDADAEABCEBABEEBCBEECEBDADC</td>\n",
              "      <td>ACACEEBCCBABADBBBACDBBACCCCADCEBADCBEEDBBEADB</td>\n",
              "      <td>EBBADCABDABACBCEBDEEAAADDBECDECDDBADBCDAAECBCC...</td>\n",
              "      <td>EEEADBEBACABCDBABECECACDCBDCCEDCDABEDECDDDBAA</td>\n",
              "      <td>1.0</td>\n",
              "      <td>100.0</td>\n",
              "      <td>120.0</td>\n",
              "      <td>100.0</td>\n",
              "      <td>80.0</td>\n",
              "      <td>100.0</td>\n",
              "      <td>500.0</td>\n",
              "      <td>D</td>\n",
              "      <td>F</td>\n",
              "      <td>D</td>\n",
              "      <td>B</td>\n",
              "      <td>4</td>\n",
              "      <td>D</td>\n",
              "      <td>A</td>\n",
              "      <td>E</td>\n",
              "      <td>E</td>\n",
              "      <td>C</td>\n",
              "      <td>A</td>\n",
              "      <td>B</td>\n",
              "      <td>A</td>\n",
              "      <td>B</td>\n",
              "      <td>A</td>\n",
              "      <td>B</td>\n",
              "      <td>A</td>\n",
              "      <td>A</td>\n",
              "      <td>D</td>\n",
              "      <td>A</td>\n",
              "      <td>B</td>\n",
              "      <td>C</td>\n",
              "      <td>B</td>\n",
              "      <td>C</td>\n",
              "      <td>B</td>\n",
              "    </tr>\n",
              "  </tbody>\n",
              "</table>\n",
              "<p>4 rows × 136 columns</p>\n",
              "</div>"
            ],
            "text/plain": [
              "        NU_INSCRICAO  NU_ANO  CO_MUNICIPIO_RESIDENCIA  ... Q023  Q024 Q025\n",
              "57359   190003297248    2019                  3504107  ...    B     B    B\n",
              "95630   190004825557    2019                  5107602  ...    A     A    B\n",
              "98197   190004926952    2019                  1600303  ...    A     B    B\n",
              "116501  190005659236    2019                  2917508  ...    B     C    B\n",
              "\n",
              "[4 rows x 136 columns]"
            ]
          },
          "metadata": {
            "tags": []
          },
          "execution_count": 27
        }
      ]
    },
    {
      "cell_type": "markdown",
      "metadata": {
        "id": "B2zRbRS4m4p1"
      },
      "source": [
        "Lembra que a nossa amostra possui candidatos mais velhos também?\n",
        "Vamos selecionar alguns deles e saber de onde eles são:\n",
        "\n"
      ]
    },
    {
      "cell_type": "code",
      "metadata": {
        "id": "dHcoTI-OnAQh",
        "outputId": "4af4319b-7acb-4359-b321-213dd3eb6892",
        "colab": {
          "base_uri": "https://localhost:8080/",
          "height": 221
        }
      },
      "source": [
        "dados['NU_IDADE'].sort_values(ascending=False)"
      ],
      "execution_count": null,
      "outputs": [
        {
          "output_type": "execute_result",
          "data": {
            "text/plain": [
              "85002     82\n",
              "84937     77\n",
              "107247    76\n",
              "116296    75\n",
              "116590    75\n",
              "          ..\n",
              "115822    14\n",
              "98197     13\n",
              "116501    13\n",
              "57359     13\n",
              "95630     13\n",
              "Name: NU_IDADE, Length: 127380, dtype: int64"
            ]
          },
          "metadata": {
            "tags": []
          },
          "execution_count": 30
        }
      ]
    },
    {
      "cell_type": "markdown",
      "metadata": {
        "id": "lAHm9Ja-nJ6s"
      },
      "source": [
        "\n",
        "\n",
        "*   Vamos pegar dois candidatos de nossa distribuição, um com 77 e o outro com 82 anos:\n",
        "\n",
        "\n",
        "\n"
      ]
    },
    {
      "cell_type": "code",
      "metadata": {
        "id": "HZO7jFZ6nS0d",
        "outputId": "4564ab44-7ef7-4e47-fa0f-bbe4a6de9ae9",
        "colab": {
          "base_uri": "https://localhost:8080/",
          "height": 160
        }
      },
      "source": [
        "dados.loc[[84937,85002]]"
      ],
      "execution_count": null,
      "outputs": [
        {
          "output_type": "execute_result",
          "data": {
            "text/html": [
              "<div>\n",
              "<style scoped>\n",
              "    .dataframe tbody tr th:only-of-type {\n",
              "        vertical-align: middle;\n",
              "    }\n",
              "\n",
              "    .dataframe tbody tr th {\n",
              "        vertical-align: top;\n",
              "    }\n",
              "\n",
              "    .dataframe thead th {\n",
              "        text-align: right;\n",
              "    }\n",
              "</style>\n",
              "<table border=\"1\" class=\"dataframe\">\n",
              "  <thead>\n",
              "    <tr style=\"text-align: right;\">\n",
              "      <th></th>\n",
              "      <th>NU_INSCRICAO</th>\n",
              "      <th>NU_ANO</th>\n",
              "      <th>CO_MUNICIPIO_RESIDENCIA</th>\n",
              "      <th>NO_MUNICIPIO_RESIDENCIA</th>\n",
              "      <th>CO_UF_RESIDENCIA</th>\n",
              "      <th>SG_UF_RESIDENCIA</th>\n",
              "      <th>NU_IDADE</th>\n",
              "      <th>TP_SEXO</th>\n",
              "      <th>TP_ESTADO_CIVIL</th>\n",
              "      <th>TP_COR_RACA</th>\n",
              "      <th>TP_NACIONALIDADE</th>\n",
              "      <th>CO_MUNICIPIO_NASCIMENTO</th>\n",
              "      <th>NO_MUNICIPIO_NASCIMENTO</th>\n",
              "      <th>CO_UF_NASCIMENTO</th>\n",
              "      <th>SG_UF_NASCIMENTO</th>\n",
              "      <th>TP_ST_CONCLUSAO</th>\n",
              "      <th>TP_ANO_CONCLUIU</th>\n",
              "      <th>TP_ESCOLA</th>\n",
              "      <th>TP_ENSINO</th>\n",
              "      <th>IN_TREINEIRO</th>\n",
              "      <th>CO_ESCOLA</th>\n",
              "      <th>CO_MUNICIPIO_ESC</th>\n",
              "      <th>NO_MUNICIPIO_ESC</th>\n",
              "      <th>CO_UF_ESC</th>\n",
              "      <th>SG_UF_ESC</th>\n",
              "      <th>TP_DEPENDENCIA_ADM_ESC</th>\n",
              "      <th>TP_LOCALIZACAO_ESC</th>\n",
              "      <th>TP_SIT_FUNC_ESC</th>\n",
              "      <th>IN_BAIXA_VISAO</th>\n",
              "      <th>IN_CEGUEIRA</th>\n",
              "      <th>IN_SURDEZ</th>\n",
              "      <th>IN_DEFICIENCIA_AUDITIVA</th>\n",
              "      <th>IN_SURDO_CEGUEIRA</th>\n",
              "      <th>IN_DEFICIENCIA_FISICA</th>\n",
              "      <th>IN_DEFICIENCIA_MENTAL</th>\n",
              "      <th>IN_DEFICIT_ATENCAO</th>\n",
              "      <th>IN_DISLEXIA</th>\n",
              "      <th>IN_DISCALCULIA</th>\n",
              "      <th>IN_AUTISMO</th>\n",
              "      <th>IN_VISAO_MONOCULAR</th>\n",
              "      <th>...</th>\n",
              "      <th>TX_RESPOSTAS_CH</th>\n",
              "      <th>TX_RESPOSTAS_LC</th>\n",
              "      <th>TX_RESPOSTAS_MT</th>\n",
              "      <th>TP_LINGUA</th>\n",
              "      <th>TX_GABARITO_CN</th>\n",
              "      <th>TX_GABARITO_CH</th>\n",
              "      <th>TX_GABARITO_LC</th>\n",
              "      <th>TX_GABARITO_MT</th>\n",
              "      <th>TP_STATUS_REDACAO</th>\n",
              "      <th>NU_NOTA_COMP1</th>\n",
              "      <th>NU_NOTA_COMP2</th>\n",
              "      <th>NU_NOTA_COMP3</th>\n",
              "      <th>NU_NOTA_COMP4</th>\n",
              "      <th>NU_NOTA_COMP5</th>\n",
              "      <th>NU_NOTA_REDACAO</th>\n",
              "      <th>Q001</th>\n",
              "      <th>Q002</th>\n",
              "      <th>Q003</th>\n",
              "      <th>Q004</th>\n",
              "      <th>Q005</th>\n",
              "      <th>Q006</th>\n",
              "      <th>Q007</th>\n",
              "      <th>Q008</th>\n",
              "      <th>Q009</th>\n",
              "      <th>Q010</th>\n",
              "      <th>Q011</th>\n",
              "      <th>Q012</th>\n",
              "      <th>Q013</th>\n",
              "      <th>Q014</th>\n",
              "      <th>Q015</th>\n",
              "      <th>Q016</th>\n",
              "      <th>Q017</th>\n",
              "      <th>Q018</th>\n",
              "      <th>Q019</th>\n",
              "      <th>Q020</th>\n",
              "      <th>Q021</th>\n",
              "      <th>Q022</th>\n",
              "      <th>Q023</th>\n",
              "      <th>Q024</th>\n",
              "      <th>Q025</th>\n",
              "    </tr>\n",
              "  </thead>\n",
              "  <tbody>\n",
              "    <tr>\n",
              "      <th>84937</th>\n",
              "      <td>190004393539</td>\n",
              "      <td>2019</td>\n",
              "      <td>3303302</td>\n",
              "      <td>Niterói</td>\n",
              "      <td>33</td>\n",
              "      <td>RJ</td>\n",
              "      <td>77</td>\n",
              "      <td>F</td>\n",
              "      <td>0</td>\n",
              "      <td>1</td>\n",
              "      <td>1</td>\n",
              "      <td>3169208.0</td>\n",
              "      <td>Tombos</td>\n",
              "      <td>31.0</td>\n",
              "      <td>MG</td>\n",
              "      <td>1</td>\n",
              "      <td>13</td>\n",
              "      <td>1</td>\n",
              "      <td>NaN</td>\n",
              "      <td>0</td>\n",
              "      <td>NaN</td>\n",
              "      <td>NaN</td>\n",
              "      <td>NaN</td>\n",
              "      <td>NaN</td>\n",
              "      <td>NaN</td>\n",
              "      <td>NaN</td>\n",
              "      <td>NaN</td>\n",
              "      <td>NaN</td>\n",
              "      <td>0</td>\n",
              "      <td>0</td>\n",
              "      <td>0</td>\n",
              "      <td>0</td>\n",
              "      <td>0</td>\n",
              "      <td>0</td>\n",
              "      <td>0</td>\n",
              "      <td>0</td>\n",
              "      <td>0</td>\n",
              "      <td>0</td>\n",
              "      <td>0</td>\n",
              "      <td>0</td>\n",
              "      <td>...</td>\n",
              "      <td>NaN</td>\n",
              "      <td>NaN</td>\n",
              "      <td>NaN</td>\n",
              "      <td>1</td>\n",
              "      <td>NaN</td>\n",
              "      <td>NaN</td>\n",
              "      <td>NaN</td>\n",
              "      <td>NaN</td>\n",
              "      <td>NaN</td>\n",
              "      <td>NaN</td>\n",
              "      <td>NaN</td>\n",
              "      <td>NaN</td>\n",
              "      <td>NaN</td>\n",
              "      <td>NaN</td>\n",
              "      <td>NaN</td>\n",
              "      <td>C</td>\n",
              "      <td>E</td>\n",
              "      <td>C</td>\n",
              "      <td>F</td>\n",
              "      <td>2</td>\n",
              "      <td>L</td>\n",
              "      <td>A</td>\n",
              "      <td>B</td>\n",
              "      <td>C</td>\n",
              "      <td>A</td>\n",
              "      <td>A</td>\n",
              "      <td>B</td>\n",
              "      <td>A</td>\n",
              "      <td>B</td>\n",
              "      <td>A</td>\n",
              "      <td>B</td>\n",
              "      <td>A</td>\n",
              "      <td>A</td>\n",
              "      <td>B</td>\n",
              "      <td>A</td>\n",
              "      <td>A</td>\n",
              "      <td>C</td>\n",
              "      <td>B</td>\n",
              "      <td>C</td>\n",
              "      <td>B</td>\n",
              "    </tr>\n",
              "    <tr>\n",
              "      <th>85002</th>\n",
              "      <td>190004396266</td>\n",
              "      <td>2019</td>\n",
              "      <td>3303302</td>\n",
              "      <td>Niterói</td>\n",
              "      <td>33</td>\n",
              "      <td>RJ</td>\n",
              "      <td>82</td>\n",
              "      <td>F</td>\n",
              "      <td>4</td>\n",
              "      <td>1</td>\n",
              "      <td>1</td>\n",
              "      <td>3303302.0</td>\n",
              "      <td>Niterói</td>\n",
              "      <td>33.0</td>\n",
              "      <td>RJ</td>\n",
              "      <td>1</td>\n",
              "      <td>13</td>\n",
              "      <td>1</td>\n",
              "      <td>NaN</td>\n",
              "      <td>0</td>\n",
              "      <td>NaN</td>\n",
              "      <td>NaN</td>\n",
              "      <td>NaN</td>\n",
              "      <td>NaN</td>\n",
              "      <td>NaN</td>\n",
              "      <td>NaN</td>\n",
              "      <td>NaN</td>\n",
              "      <td>NaN</td>\n",
              "      <td>0</td>\n",
              "      <td>0</td>\n",
              "      <td>0</td>\n",
              "      <td>0</td>\n",
              "      <td>0</td>\n",
              "      <td>0</td>\n",
              "      <td>0</td>\n",
              "      <td>0</td>\n",
              "      <td>0</td>\n",
              "      <td>0</td>\n",
              "      <td>0</td>\n",
              "      <td>0</td>\n",
              "      <td>...</td>\n",
              "      <td>NaN</td>\n",
              "      <td>NaN</td>\n",
              "      <td>NaN</td>\n",
              "      <td>0</td>\n",
              "      <td>NaN</td>\n",
              "      <td>NaN</td>\n",
              "      <td>NaN</td>\n",
              "      <td>NaN</td>\n",
              "      <td>NaN</td>\n",
              "      <td>NaN</td>\n",
              "      <td>NaN</td>\n",
              "      <td>NaN</td>\n",
              "      <td>NaN</td>\n",
              "      <td>NaN</td>\n",
              "      <td>NaN</td>\n",
              "      <td>F</td>\n",
              "      <td>B</td>\n",
              "      <td>E</td>\n",
              "      <td>C</td>\n",
              "      <td>2</td>\n",
              "      <td>P</td>\n",
              "      <td>B</td>\n",
              "      <td>C</td>\n",
              "      <td>D</td>\n",
              "      <td>A</td>\n",
              "      <td>A</td>\n",
              "      <td>B</td>\n",
              "      <td>B</td>\n",
              "      <td>B</td>\n",
              "      <td>A</td>\n",
              "      <td>B</td>\n",
              "      <td>A</td>\n",
              "      <td>A</td>\n",
              "      <td>D</td>\n",
              "      <td>B</td>\n",
              "      <td>B</td>\n",
              "      <td>D</td>\n",
              "      <td>B</td>\n",
              "      <td>C</td>\n",
              "      <td>B</td>\n",
              "    </tr>\n",
              "  </tbody>\n",
              "</table>\n",
              "<p>2 rows × 136 columns</p>\n",
              "</div>"
            ],
            "text/plain": [
              "       NU_INSCRICAO  NU_ANO  CO_MUNICIPIO_RESIDENCIA  ... Q023  Q024 Q025\n",
              "84937  190004393539    2019                  3303302  ...    B     C    B\n",
              "85002  190004396266    2019                  3303302  ...    B     C    B\n",
              "\n",
              "[2 rows x 136 columns]"
            ]
          },
          "metadata": {
            "tags": []
          },
          "execution_count": 32
        }
      ]
    },
    {
      "cell_type": "code",
      "metadata": {
        "id": "KohQ5X3Tn160",
        "outputId": "fb5bfcd6-d73d-4bda-c95c-65b8cf244407",
        "colab": {
          "base_uri": "https://localhost:8080/",
          "height": 111
        }
      },
      "source": [
        "dados[provas].loc[[84937, 85002]]"
      ],
      "execution_count": null,
      "outputs": [
        {
          "output_type": "execute_result",
          "data": {
            "text/html": [
              "<div>\n",
              "<style scoped>\n",
              "    .dataframe tbody tr th:only-of-type {\n",
              "        vertical-align: middle;\n",
              "    }\n",
              "\n",
              "    .dataframe tbody tr th {\n",
              "        vertical-align: top;\n",
              "    }\n",
              "\n",
              "    .dataframe thead th {\n",
              "        text-align: right;\n",
              "    }\n",
              "</style>\n",
              "<table border=\"1\" class=\"dataframe\">\n",
              "  <thead>\n",
              "    <tr style=\"text-align: right;\">\n",
              "      <th></th>\n",
              "      <th>NU_NOTA_LC</th>\n",
              "      <th>NU_NOTA_MT</th>\n",
              "      <th>NU_NOTA_CN</th>\n",
              "      <th>NU_NOTA_CH</th>\n",
              "      <th>NU_NOTA_REDACAO</th>\n",
              "    </tr>\n",
              "  </thead>\n",
              "  <tbody>\n",
              "    <tr>\n",
              "      <th>84937</th>\n",
              "      <td>NaN</td>\n",
              "      <td>NaN</td>\n",
              "      <td>NaN</td>\n",
              "      <td>NaN</td>\n",
              "      <td>NaN</td>\n",
              "    </tr>\n",
              "    <tr>\n",
              "      <th>85002</th>\n",
              "      <td>NaN</td>\n",
              "      <td>NaN</td>\n",
              "      <td>NaN</td>\n",
              "      <td>NaN</td>\n",
              "      <td>NaN</td>\n",
              "    </tr>\n",
              "  </tbody>\n",
              "</table>\n",
              "</div>"
            ],
            "text/plain": [
              "       NU_NOTA_LC  NU_NOTA_MT  NU_NOTA_CN  NU_NOTA_CH  NU_NOTA_REDACAO\n",
              "84937         NaN         NaN         NaN         NaN              NaN\n",
              "85002         NaN         NaN         NaN         NaN              NaN"
            ]
          },
          "metadata": {
            "tags": []
          },
          "execution_count": 36
        }
      ]
    },
    {
      "cell_type": "markdown",
      "metadata": {
        "id": "H_qVqLxenw9z"
      },
      "source": [
        "Ambos são de Niteroi! RJ. Porém apenas se inscreveram no exame. Infelizmente, são candidatos faltosos, como podemos ver acima, não realizaram nenhuma das provas.\n",
        "\n"
      ]
    },
    {
      "cell_type": "code",
      "metadata": {
        "id": "-pGOfTpMjfmO"
      },
      "source": [
        ""
      ],
      "execution_count": null,
      "outputs": []
    },
    {
      "cell_type": "markdown",
      "metadata": {
        "id": "ztBbRSL8oa6M"
      },
      "source": [
        "Para finalizar nosso estudo, vamos analisar se o fato de um candidato não possuir compitador em casa, influencia em sua nota. \n",
        "Bom, sabemos que possuir um computador conectado à internet é bem importante nos dias atuais. No mundo globalizado que vivemos, possuir internet abre caminhos de conhecimento para nós. \n",
        "\n",
        "Mas será que não possuir um computador em casa influencia na nota?\n",
        "\n",
        "Vamos ver!\n",
        "\n",
        "O dicionário diz que o código 'Q024' refere-se à possuir computador em casa e o 'Q025' refere-se a possuir internet em casa.\n",
        "'A' refere-se a não. E 'B' a sim.\n",
        "\n",
        "Vamos filtrar algumas informações:\n"
      ]
    },
    {
      "cell_type": "code",
      "metadata": {
        "id": "8jOZEAEhoyhp",
        "outputId": "077cd2de-c64c-44d7-a592-8208b2dd8ef9",
        "colab": {
          "base_uri": "https://localhost:8080/",
          "height": 34
        }
      },
      "source": [
        "sem_pc = dados['Q024'] == 'A'\n",
        "dados[sem_pc].shape"
      ],
      "execution_count": null,
      "outputs": [
        {
          "output_type": "execute_result",
          "data": {
            "text/plain": [
              "(58724, 136)"
            ]
          },
          "metadata": {
            "tags": []
          },
          "execution_count": 55
        }
      ]
    },
    {
      "cell_type": "code",
      "metadata": {
        "id": "wnJQ2Gisq3uF",
        "outputId": "d1e95c43-85e7-41ff-deaf-7dd3662dc7d9",
        "colab": {
          "base_uri": "https://localhost:8080/",
          "height": 34
        }
      },
      "source": [
        "sem_internet = dados['Q025'] == 'A'\n",
        "dados[sem_internet].shape"
      ],
      "execution_count": null,
      "outputs": [
        {
          "output_type": "execute_result",
          "data": {
            "text/plain": [
              "(28587, 136)"
            ]
          },
          "metadata": {
            "tags": []
          },
          "execution_count": 54
        }
      ]
    },
    {
      "cell_type": "markdown",
      "metadata": {
        "id": "DMjP3hQOrC2a"
      },
      "source": [
        "Infelizmente, temos 58.724 candidatos que não possuem computador em casa e 28.857 candidatos que não possuem internet em casa"
      ]
    },
    {
      "cell_type": "markdown",
      "metadata": {
        "id": "REyLRPxhsIGm"
      },
      "source": [
        "Vamos analisar quais são os estados que possuem mais candidatos sem computador em casa:"
      ]
    },
    {
      "cell_type": "code",
      "metadata": {
        "id": "l-bQIqy1uDa1"
      },
      "source": [
        "sem_computador = dados.query(\"Q024 == 'A'\")['SG_UF_RESIDENCIA']"
      ],
      "execution_count": null,
      "outputs": []
    },
    {
      "cell_type": "code",
      "metadata": {
        "id": "P_ZrlTUevMIH",
        "outputId": "40d97c65-5570-40ba-a0ce-824d574ee493",
        "colab": {
          "base_uri": "https://localhost:8080/",
          "height": 493
        }
      },
      "source": [
        "sem_computador.value_counts()"
      ],
      "execution_count": null,
      "outputs": [
        {
          "output_type": "execute_result",
          "data": {
            "text/plain": [
              "SP    6135\n",
              "BA    5573\n",
              "PA    4944\n",
              "MG    4702\n",
              "CE    4674\n",
              "MA    3898\n",
              "PE    3782\n",
              "RJ    2985\n",
              "PB    2005\n",
              "PI    1926\n",
              "GO    1860\n",
              "AM    1827\n",
              "RS    1707\n",
              "PR    1619\n",
              "RN    1500\n",
              "AL    1351\n",
              "SE    1096\n",
              "ES     975\n",
              "MT     950\n",
              "DF     789\n",
              "RO     732\n",
              "SC     728\n",
              "AP     717\n",
              "MS     706\n",
              "TO     686\n",
              "AC     664\n",
              "RR     193\n",
              "Name: SG_UF_RESIDENCIA, dtype: int64"
            ]
          },
          "metadata": {
            "tags": []
          },
          "execution_count": 74
        }
      ]
    },
    {
      "cell_type": "markdown",
      "metadata": {
        "id": "KnuLFdpfz8AF"
      },
      "source": [
        "Baseado nessa amostra, o estado que mais possui candidatos que não possuem computador em casa é o estado de SP, seguido pela Bahia."
      ]
    },
    {
      "cell_type": "markdown",
      "metadata": {
        "id": "79lDjgyzywKw"
      },
      "source": [
        "Vamos ver agora a distribuição das notas com relação a não ter computador."
      ]
    },
    {
      "cell_type": "code",
      "metadata": {
        "id": "UH6ag4-_xjB3"
      },
      "source": [
        "sem_computador_notas = dados.query(\"Q024 == 'A'\")[['NU_NOTA_LC', 'NU_NOTA_MT', 'NU_NOTA_CN', 'NU_NOTA_CH', 'NU_NOTA_REDACAO']]"
      ],
      "execution_count": null,
      "outputs": []
    },
    {
      "cell_type": "code",
      "metadata": {
        "id": "pe48SD0Rx4MG",
        "outputId": "524b1ab8-4ea0-40f6-ad52-70e7eef9c3af",
        "colab": {
          "base_uri": "https://localhost:8080/",
          "height": 173
        }
      },
      "source": [
        "sem_computador_notas.head(4)"
      ],
      "execution_count": null,
      "outputs": [
        {
          "output_type": "execute_result",
          "data": {
            "text/html": [
              "<div>\n",
              "<style scoped>\n",
              "    .dataframe tbody tr th:only-of-type {\n",
              "        vertical-align: middle;\n",
              "    }\n",
              "\n",
              "    .dataframe tbody tr th {\n",
              "        vertical-align: top;\n",
              "    }\n",
              "\n",
              "    .dataframe thead th {\n",
              "        text-align: right;\n",
              "    }\n",
              "</style>\n",
              "<table border=\"1\" class=\"dataframe\">\n",
              "  <thead>\n",
              "    <tr style=\"text-align: right;\">\n",
              "      <th></th>\n",
              "      <th>NU_NOTA_LC</th>\n",
              "      <th>NU_NOTA_MT</th>\n",
              "      <th>NU_NOTA_CN</th>\n",
              "      <th>NU_NOTA_CH</th>\n",
              "      <th>NU_NOTA_REDACAO</th>\n",
              "    </tr>\n",
              "  </thead>\n",
              "  <tbody>\n",
              "    <tr>\n",
              "      <th>1</th>\n",
              "      <td>375.3</td>\n",
              "      <td>NaN</td>\n",
              "      <td>NaN</td>\n",
              "      <td>409.3</td>\n",
              "      <td>400.0</td>\n",
              "    </tr>\n",
              "    <tr>\n",
              "      <th>2</th>\n",
              "      <td>441.0</td>\n",
              "      <td>427.2</td>\n",
              "      <td>423.2</td>\n",
              "      <td>499.1</td>\n",
              "      <td>560.0</td>\n",
              "    </tr>\n",
              "    <tr>\n",
              "      <th>3</th>\n",
              "      <td>551.5</td>\n",
              "      <td>499.9</td>\n",
              "      <td>426.2</td>\n",
              "      <td>578.1</td>\n",
              "      <td>500.0</td>\n",
              "    </tr>\n",
              "    <tr>\n",
              "      <th>4</th>\n",
              "      <td>511.2</td>\n",
              "      <td>424.5</td>\n",
              "      <td>516.5</td>\n",
              "      <td>571.3</td>\n",
              "      <td>780.0</td>\n",
              "    </tr>\n",
              "  </tbody>\n",
              "</table>\n",
              "</div>"
            ],
            "text/plain": [
              "   NU_NOTA_LC  NU_NOTA_MT  NU_NOTA_CN  NU_NOTA_CH  NU_NOTA_REDACAO\n",
              "1       375.3         NaN         NaN       409.3            400.0\n",
              "2       441.0       427.2       423.2       499.1            560.0\n",
              "3       551.5       499.9       426.2       578.1            500.0\n",
              "4       511.2       424.5       516.5       571.3            780.0"
            ]
          },
          "metadata": {
            "tags": []
          },
          "execution_count": 90
        }
      ]
    },
    {
      "cell_type": "code",
      "metadata": {
        "id": "JwA8ipH1zHVy"
      },
      "source": [
        "lc_sem_computador = sem_computador_notas['NU_NOTA_LC']\n",
        "mt_sem_computador = sem_computador_notas['NU_NOTA_MT']\n",
        "cn_sem_computador = sem_computador_notas['NU_NOTA_CN']\n",
        "ch_sem_computador = sem_computador_notas['NU_NOTA_CH']\n",
        "redacao_sem_computador = sem_computador_notas['NU_NOTA_REDACAO']"
      ],
      "execution_count": null,
      "outputs": []
    },
    {
      "cell_type": "code",
      "metadata": {
        "id": "z0YaigxvykwZ",
        "outputId": "2bf78e27-17ee-4dd9-cc81-32837b0eaad4",
        "colab": {
          "base_uri": "https://localhost:8080/",
          "height": 919
        }
      },
      "source": [
        "fig = plt.figure(figsize=(15,18))\n",
        "fig.add_subplot(3,3,1)\n",
        "sns.boxplot(lc_sem_computador, palette='Blues')\n",
        "plt.title('Notas - Linguagens')\n",
        "\n",
        "fig.add_subplot(3,3,2)\n",
        "sns.boxplot(mt_sem_computador, palette='YlOrBr')\n",
        "plt.title('Notas - Matemática')\n",
        "\n",
        "\n",
        "fig.add_subplot(3,3,3)\n",
        "sns.boxplot(ch_sem_computador, palette='Reds')\n",
        "plt.title('Notas - Ciências Humanas')\n",
        "\n",
        "fig.add_subplot(3,3,4)\n",
        "sns.boxplot(cn_sem_computador, palette='Purples')\n",
        "plt.title('Notas - Ciências da Natureza')\n",
        "\n",
        "fig.add_subplot(3,3,6)\n",
        "sns.boxplot(redacao_sem_computador, palette='RdPu')\n",
        "plt.title('Notas - Redação')"
      ],
      "execution_count": null,
      "outputs": [
        {
          "output_type": "stream",
          "text": [
            "/usr/local/lib/python3.6/dist-packages/seaborn/_decorators.py:43: FutureWarning: Pass the following variable as a keyword arg: x. From version 0.12, the only valid positional argument will be `data`, and passing other arguments without an explicit keyword will result in an error or misinterpretation.\n",
            "  FutureWarning\n",
            "/usr/local/lib/python3.6/dist-packages/seaborn/_decorators.py:43: FutureWarning: Pass the following variable as a keyword arg: x. From version 0.12, the only valid positional argument will be `data`, and passing other arguments without an explicit keyword will result in an error or misinterpretation.\n",
            "  FutureWarning\n",
            "/usr/local/lib/python3.6/dist-packages/seaborn/_decorators.py:43: FutureWarning: Pass the following variable as a keyword arg: x. From version 0.12, the only valid positional argument will be `data`, and passing other arguments without an explicit keyword will result in an error or misinterpretation.\n",
            "  FutureWarning\n",
            "/usr/local/lib/python3.6/dist-packages/seaborn/_decorators.py:43: FutureWarning: Pass the following variable as a keyword arg: x. From version 0.12, the only valid positional argument will be `data`, and passing other arguments without an explicit keyword will result in an error or misinterpretation.\n",
            "  FutureWarning\n",
            "/usr/local/lib/python3.6/dist-packages/seaborn/_decorators.py:43: FutureWarning: Pass the following variable as a keyword arg: x. From version 0.12, the only valid positional argument will be `data`, and passing other arguments without an explicit keyword will result in an error or misinterpretation.\n",
            "  FutureWarning\n"
          ],
          "name": "stderr"
        },
        {
          "output_type": "execute_result",
          "data": {
            "text/plain": [
              "Text(0.5, 1.0, 'Notas - Redação')"
            ]
          },
          "metadata": {
            "tags": []
          },
          "execution_count": 92
        },
        {
          "output_type": "display_data",
          "data": {
            "image/png": "[encoded data removed]",
            "text/plain": [
              "<Figure size 1080x1296 with 5 Axes>"
            ]
          },
          "metadata": {
            "tags": [],
            "needs_background": "light"
          }
        }
      ]
    },
    {
      "cell_type": "markdown",
      "metadata": {
        "id": "EsehWCXc0tMP"
      },
      "source": [
        "De modo geral, podemos ver que a distribuição das notas é em torno de 400 a 600. Inclusive, há muitas notas altas também. \n",
        "O fato de não possuir computador em casa é uma difculdade ao aprendizado, porém podemos ver que alguns candidatos superaram essa barreira e ainda assim tiraram notas altas em determinadas provas!\n",
        "Parabéns a esses candidatos por superarem as dificuldades e serem exemplos!!\n",
        "\n",
        "Observando o boxplot da nota de Redacao, vemos algumas notas entre 800 e 1000. Será que a pessoa que tirou 1000 na Redação não possui computador em casa?\n",
        "\n",
        "Vamos refinar a nossa busca para cadidatos que tiraram entre 950 - 1000 na redação e que NÃO possuem computador em casa\n",
        "\n",
        "Vamos checar? Vem comigo!\n",
        "\n"
      ]
    },
    {
      "cell_type": "code",
      "metadata": {
        "id": "dfLQWCbl1mrs",
        "outputId": "0c1b4232-777d-486b-9408-b1f6b85fb81f",
        "colab": {
          "base_uri": "https://localhost:8080/",
          "height": 34
        }
      },
      "source": [
        "notas_redacao_altas = dados['NU_NOTA_REDACAO'].between(950, 1000)\n",
        "\n",
        "no_pc = dados['Q024'] == 'A'\n",
        "dados_redacao_sem_pc = dados[notas_redacao_altas & no_pc]\n",
        "\n",
        "dados_redacao_sem_pc.shape"
      ],
      "execution_count": null,
      "outputs": [
        {
          "output_type": "execute_result",
          "data": {
            "text/plain": [
              "(114, 137)"
            ]
          },
          "metadata": {
            "tags": []
          },
          "execution_count": 109
        }
      ]
    },
    {
      "cell_type": "markdown",
      "metadata": {
        "id": "eFz3Q8r54ZxU"
      },
      "source": [
        "E olha que massa o resultado da nossa busca: 144 pessoas que não possuem computador em casa, tiraram na nota de redação, entre 950 e 1000 pontos. Incrivel, não?"
      ]
    },
    {
      "cell_type": "markdown",
      "metadata": {
        "id": "sL8AkbfT4miz"
      },
      "source": [
        "Para finalizar o nosso projeto de análise do Enem, vamos ver a correlação entre as notas, ou seja, o quanto uma nota está \"ligada\" a outra. Como por exemplo, será que eum tirou uma nota boa na redaçãom também tira em portugês? Ou quem tira nota boa em matemática, também tira em ciências da natureza? \n",
        "\n",
        "Vamos analisar isso agora, e para isso, iremos plotar um mapa de caor que indicará para a gente, quais campos posseum forte correlação!\n",
        "\n",
        "Bora ver!"
      ]
    },
    {
      "cell_type": "code",
      "metadata": {
        "id": "b_3cc0CX5BnR",
        "outputId": "e039c203-9737-450a-b06c-8455b488e67f",
        "colab": {
          "base_uri": "https://localhost:8080/",
          "height": 354
        }
      },
      "source": [
        "figura = plt.figure(figsize=(10,5))\n",
        "sns.heatmap(notas_limpas.corr(), annot=True, cmap='PiYG')\n",
        "plt.title('Correlação entre as provas')"
      ],
      "execution_count": null,
      "outputs": [
        {
          "output_type": "execute_result",
          "data": {
            "text/plain": [
              "Text(0.5, 1.0, 'Correlação entre as provas')"
            ]
          },
          "metadata": {
            "tags": []
          },
          "execution_count": 115
        },
        {
          "output_type": "display_data",
          "data": {
            "image/png": "[encoded data removed]",
            "text/plain": [
              "<Figure size 720x360 with 2 Axes>"
            ]
          },
          "metadata": {
            "tags": [],
            "needs_background": "light"
          }
        }
      ]
    },
    {
      "cell_type": "markdown",
      "metadata": {
        "id": "XQW7jVf_5knX"
      },
      "source": [
        "Olha que bacana, conseguimos ver uma correlação media entre a prova de LC e CH. O que isso significa? \n",
        "Que no geral, a tendência é que à medida que as notas de LC sobem, as de CH também sobem.\n",
        "\n",
        "Vamos ver isso graficamente:\n",
        "\n"
      ]
    },
    {
      "cell_type": "code",
      "metadata": {
        "id": "aFpl0CYm8skJ",
        "outputId": "b5bb1eac-66c3-4e83-c5a2-5f0525f566eb",
        "colab": {
          "base_uri": "https://localhost:8080/",
          "height": 471
        }
      },
      "source": [
        "sns.relplot(\"NU_NOTA_LC\", \"NU_NOTA_CH\", data = notas_limpas, palette='Purples')\n",
        "plt.title('Notas LC x Notas CH')"
      ],
      "execution_count": null,
      "outputs": [
        {
          "output_type": "stream",
          "text": [
            "/usr/local/lib/python3.6/dist-packages/seaborn/_decorators.py:43: FutureWarning: Pass the following variables as keyword args: x, y. From version 0.12, the only valid positional argument will be `data`, and passing other arguments without an explicit keyword will result in an error or misinterpretation.\n",
            "  FutureWarning\n"
          ],
          "name": "stderr"
        },
        {
          "output_type": "execute_result",
          "data": {
            "text/plain": [
              "Text(0.5, 1.0, 'Notas LC x Notas CH')"
            ]
          },
          "metadata": {
            "tags": []
          },
          "execution_count": 141
        },
        {
          "output_type": "display_data",
          "data": {
            "image/png": "[encoded data removed]",
            "text/plain": [
              "<Figure size 360x360 with 1 Axes>"
            ]
          },
          "metadata": {
            "tags": [],
            "needs_background": "light"
          }
        }
      ]
    },
    {
      "cell_type": "markdown",
      "metadata": {
        "id": "7PbZlsw2-ShY"
      },
      "source": [
        "Como podemos ver, há uma tendência entre os dados. Com um coeficiente angular positivo, à medida que uma nota aumenta, a outra aumenta também. Não possuímos uma linha reta, pois é claro, não possuímos uma correlação de 1. Porém, olhando para o gráfico, conseguimos ver essa têndencia de aumento e a relação entre as duas notas. \n",
        "\n",
        "\n",
        "---\n",
        "\n"
      ]
    },
    {
      "cell_type": "markdown",
      "metadata": {
        "id": "RdboEvVd-qPv"
      },
      "source": [
        "Finalizando esse projeto, vimos diversas caracteríssticas com relação às notas e outros fatores envolvendo os candidatos. Vimos a correlação das notas das provas, vimos a quantidade de faltantes, conseguimos entender a distribuição das notas e vimos que em determinadas disciplinas, um outlier é aquele quem tirou uma nota mais alta! Vimos as notas dos candidatos chamados treineiros. Analisamos o sexo majoritário dos candidatos inscritos, treineiros ou não. Também vimos a relação da nota com o uso de um computador em casa. Conseguimos analisar a idade dos estudantes e vimos que nessa edição, um candidato de 82 anos se inscreveu para o exame! Porém faltou e não realizou a prova. Quem sabe em 2020, ele não se increva novamente e teremos seus resultados aqui para analisar!!\n",
        "\n",
        "Eu fico por aqui! \n",
        "\n",
        "Espero que esse projeto tenha sido util e as análises satisfatórias. \n",
        "\n",
        "Leonardo Guimarães.\n"
      ]
    }
  ]
}