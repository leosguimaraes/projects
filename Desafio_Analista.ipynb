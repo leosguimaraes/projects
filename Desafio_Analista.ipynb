{
  "nbformat": 4,
  "nbformat_minor": 0,
  "metadata": {
    "colab": {
      "name": "Desafio_Analista.ipynb",
      "provenance": [],
      "collapsed_sections": []
    },
    "kernelspec": {
      "name": "python3",
      "display_name": "Python 3"
    }
  },
  "cells": [
    {
      "cell_type": "markdown",
      "metadata": {
        "id": "LtKNnInK6caW"
      },
      "source": [
        "# Desafio Analista\n",
        "\n",
        "Objetivo: Analisar um banco de dados de um marketplace e extrair informações que possam ser relavantes ao negócio.\n",
        "\n",
        "O banco de dados possui cinco tabelas, que são:\n",
        "\n",
        "*   **account**: dados sobre vendedores.\n",
        "*   **payments**: dados sobre os pagamentos realizados\n",
        "*   **customers**: consumidores finais desses vendedores\n",
        "*   **account_balance**: dados dos saldos das contas dos vendedores\n",
        "*   **bank_transfers**: dados referentes aos saques dos vendedores\n",
        "\n",
        "\n",
        "\n",
        "\n",
        "---\n",
        "\n"
      ]
    },
    {
      "cell_type": "markdown",
      "metadata": {
        "id": "Kq-jyZXw9Xqi"
      },
      "source": [
        "# Importando Bibliotecas\n",
        "\n",
        "Vamos importar algumas bibliotecas que utilizaremos durante nossa análise:"
      ]
    },
    {
      "cell_type": "code",
      "metadata": {
        "id": "va5RyeEuSFGE"
      },
      "source": [
        "import pandas as pd\n",
        "import matplotlib.pyplot as plt\n",
        "import matplotlib.ticker as ticker\n",
        "import seaborn as sns\n"
      ],
      "execution_count": 2,
      "outputs": []
    },
    {
      "cell_type": "markdown",
      "metadata": {
        "id": "I86u_R3P9tRR"
      },
      "source": [
        "As tabelas do banco de dados facilitadora_de_pagamentos, foram extraídas no formato .csv \n"
      ]
    },
    {
      "cell_type": "code",
      "metadata": {
        "id": "r5H1uq2VhkQm"
      },
      "source": [
        "accounts = '/content/accounts.csv'\n",
        "payments = '/content/payments.csv'\n",
        "customers = '/content/customers.csv'\n",
        "account_balance = '/content/account_balance.csv'\n",
        "bank_transfers = '/content/bank_transfers.csv'"
      ],
      "execution_count": 3,
      "outputs": []
    },
    {
      "cell_type": "markdown",
      "metadata": {
        "id": "0aTXykhH-bT-"
      },
      "source": [
        "Iremos ler e armazenar cada tabela nas seguintes variáveis abaixo:"
      ]
    },
    {
      "cell_type": "code",
      "metadata": {
        "id": "BhZONfeWhzzw"
      },
      "source": [
        "dados_accounts = pd.read_csv(accounts)\n",
        "dados_payments = pd.read_csv(payments)\n",
        "dados_customers = pd.read_csv(customers)\n",
        "dados_account_balance = pd.read_csv(account_balance)\n",
        "dados_bank_transfers = pd.read_csv(bank_transfers)"
      ],
      "execution_count": 4,
      "outputs": []
    },
    {
      "cell_type": "markdown",
      "metadata": {
        "id": "-rugm9pc_IQB"
      },
      "source": [
        "Vamos checar quantos vendedores estão presentes na tabela accouts:"
      ]
    },
    {
      "cell_type": "code",
      "metadata": {
        "id": "iAywcCm0h5_w",
        "outputId": "7e1c7190-0006-4b62-c8eb-21b007f7697a",
        "colab": {
          "base_uri": "https://localhost:8080/",
          "height": 359
        }
      },
      "source": [
        "dados_accounts"
      ],
      "execution_count": 5,
      "outputs": [
        {
          "output_type": "execute_result",
          "data": {
            "text/html": [
              "<div>\n",
              "<style scoped>\n",
              "    .dataframe tbody tr th:only-of-type {\n",
              "        vertical-align: middle;\n",
              "    }\n",
              "\n",
              "    .dataframe tbody tr th {\n",
              "        vertical-align: top;\n",
              "    }\n",
              "\n",
              "    .dataframe thead th {\n",
              "        text-align: right;\n",
              "    }\n",
              "</style>\n",
              "<table border=\"1\" class=\"dataframe\">\n",
              "  <thead>\n",
              "    <tr style=\"text-align: right;\">\n",
              "      <th></th>\n",
              "      <th>_id</th>\n",
              "      <th>name</th>\n",
              "      <th>created_at</th>\n",
              "      <th>birthdate</th>\n",
              "      <th>email</th>\n",
              "      <th>state</th>\n",
              "    </tr>\n",
              "  </thead>\n",
              "  <tbody>\n",
              "    <tr>\n",
              "      <th>0</th>\n",
              "      <td>5f50e19aaef534168542f82c</td>\n",
              "      <td>Ella Fuentes</td>\n",
              "      <td>2018-04-12 04:11:00 UTC</td>\n",
              "      <td>1995-04-01</td>\n",
              "      <td>ella2018fuentes@gmail.com</td>\n",
              "      <td>AC/BR</td>\n",
              "    </tr>\n",
              "    <tr>\n",
              "      <th>1</th>\n",
              "      <td>5f50e19ad05c511af0a89fff</td>\n",
              "      <td>Judy Preston</td>\n",
              "      <td>2018-03-07 04:43:00 UTC</td>\n",
              "      <td>1987-01-22</td>\n",
              "      <td>jp2018_new@gmail.com</td>\n",
              "      <td>MT/BR</td>\n",
              "    </tr>\n",
              "    <tr>\n",
              "      <th>2</th>\n",
              "      <td>5f50e19a836e1cd15acb2fd7</td>\n",
              "      <td>Aileen Rasmussen</td>\n",
              "      <td>2018-11-04 03:15:00 UTC</td>\n",
              "      <td>1986-10-21</td>\n",
              "      <td>aileen_rasmussen@hotmail.com</td>\n",
              "      <td>RS/BR</td>\n",
              "    </tr>\n",
              "    <tr>\n",
              "      <th>3</th>\n",
              "      <td>5f50e19a413ccfef1bdd2143</td>\n",
              "      <td>Katrina Foley</td>\n",
              "      <td>2017-07-20 06:00:00 UTC</td>\n",
              "      <td>1991-07-22</td>\n",
              "      <td>katrinafoley91@gmail.com</td>\n",
              "      <td>SC/BR</td>\n",
              "    </tr>\n",
              "    <tr>\n",
              "      <th>4</th>\n",
              "      <td>5f50e19afb1971f2b473a181</td>\n",
              "      <td>Amelia Reilly</td>\n",
              "      <td>2019-07-31 05:59:00 UTC</td>\n",
              "      <td>2004-03-26</td>\n",
              "      <td>sophia_reilly_1967@gmail.com</td>\n",
              "      <td>SC/BR</td>\n",
              "    </tr>\n",
              "    <tr>\n",
              "      <th>5</th>\n",
              "      <td>5f50e19ab61a843cbaaf0d5a</td>\n",
              "      <td>Harmon Small</td>\n",
              "      <td>2019-01-21 09:21:00 UTC</td>\n",
              "      <td>1995-05-01</td>\n",
              "      <td>smallharmon@hotmail.com</td>\n",
              "      <td>SC/BR</td>\n",
              "    </tr>\n",
              "    <tr>\n",
              "      <th>6</th>\n",
              "      <td>5f50e19afd9e92e2ab3a0487</td>\n",
              "      <td>Nona Zamora</td>\n",
              "      <td>2019-03-25 02:34:00 UTC</td>\n",
              "      <td>1991-08-28</td>\n",
              "      <td>9zamora@outlook.com</td>\n",
              "      <td>SC/BR</td>\n",
              "    </tr>\n",
              "    <tr>\n",
              "      <th>7</th>\n",
              "      <td>5f50e19a60ba4ea5c03c8c50</td>\n",
              "      <td>Gary Bonner</td>\n",
              "      <td>2017-04-10 08:02:00 UTC</td>\n",
              "      <td>1999-10-21</td>\n",
              "      <td>gary_1999_b@gmail.com</td>\n",
              "      <td>SP/BR</td>\n",
              "    </tr>\n",
              "    <tr>\n",
              "      <th>8</th>\n",
              "      <td>5f50e19a411bd6dd38f5a9d8</td>\n",
              "      <td>Farmer Wynn</td>\n",
              "      <td>2019-02-28 02:16:00 UTC</td>\n",
              "      <td>1943-07-29</td>\n",
              "      <td>ahsdjaha@10minute.com</td>\n",
              "      <td>SP/BR</td>\n",
              "    </tr>\n",
              "    <tr>\n",
              "      <th>9</th>\n",
              "      <td>5f50e19a299538c596304d31</td>\n",
              "      <td>Gibbs Joyce</td>\n",
              "      <td>2019-05-18 04:32:00 UTC</td>\n",
              "      <td>1988-12-11</td>\n",
              "      <td>gibbsjoyce_joselin@hotmail.com</td>\n",
              "      <td>SP/BR</td>\n",
              "    </tr>\n",
              "  </tbody>\n",
              "</table>\n",
              "</div>"
            ],
            "text/plain": [
              "                        _id  ...  state\n",
              "0  5f50e19aaef534168542f82c  ...  AC/BR\n",
              "1  5f50e19ad05c511af0a89fff  ...  MT/BR\n",
              "2  5f50e19a836e1cd15acb2fd7  ...  RS/BR\n",
              "3  5f50e19a413ccfef1bdd2143  ...  SC/BR\n",
              "4  5f50e19afb1971f2b473a181  ...  SC/BR\n",
              "5  5f50e19ab61a843cbaaf0d5a  ...  SC/BR\n",
              "6  5f50e19afd9e92e2ab3a0487  ...  SC/BR\n",
              "7  5f50e19a60ba4ea5c03c8c50  ...  SP/BR\n",
              "8  5f50e19a411bd6dd38f5a9d8  ...  SP/BR\n",
              "9  5f50e19a299538c596304d31  ...  SP/BR\n",
              "\n",
              "[10 rows x 6 columns]"
            ]
          },
          "metadata": {
            "tags": []
          },
          "execution_count": 5
        }
      ]
    },
    {
      "cell_type": "markdown",
      "metadata": {
        "id": "2fK16QI0_W_j"
      },
      "source": [
        "10 vendedores fazem parte desse marketplace. \n",
        "Vamos verificar de qual estado esses vendedores são:\n",
        "\n",
        "(Olhando a tabela, por ser pequena, é fácil verificar isso. Porém se tivéssemos mais vendedores, seria difícil. Por questão de organização, vamos fazer uma contagem para cada estado de cada vendedor),"
      ]
    },
    {
      "cell_type": "code",
      "metadata": {
        "id": "4jmBVru6DguC",
        "outputId": "d1306a2d-e55d-4e9f-9af6-729acf488e78",
        "colab": {
          "base_uri": "https://localhost:8080/",
          "height": 357
        }
      },
      "source": [
        "plt.figure(figsize=(12,5))\n",
        "ax = sns.countplot(x = 'state', data=dados_accounts, palette='Paired')\n",
        "ax.set_title('Número de vendedores por estado', fontsize=16)\n",
        "ax.set_xlabel('Estados', fontsize=14 )\n",
        "ax.set_ylabel('Vendedores', fontsize=14)\n",
        "\n",
        "\n",
        "plt.show()"
      ],
      "execution_count": 6,
      "outputs": [
        {
          "output_type": "display_data",
          "data": {
            "image/png": "[encoded data removed]",
            "text/plain": [
              "<Figure size 864x360 with 1 Axes>"
            ]
          },
          "metadata": {
            "tags": [],
            "needs_background": "light"
          }
        }
      ]
    },
    {
      "cell_type": "markdown",
      "metadata": {
        "id": "HPxZLZTiAAsB"
      },
      "source": [
        "Como podemos ver, a maior parte dos vendedores é da região Sul do país, do estado de Santa Catarina.\n"
      ]
    },
    {
      "cell_type": "markdown",
      "metadata": {
        "id": "bNQiEIVOBUAt"
      },
      "source": [
        "Vamos analisar agora a tabela customers e checar a quantidade e os 4 primeiros  clientes da tabela:"
      ]
    },
    {
      "cell_type": "code",
      "metadata": {
        "id": "OfVURbGXsvA8",
        "outputId": "a06282f3-a523-4c80-ae79-9e1300fabd6a",
        "colab": {
          "base_uri": "https://localhost:8080/",
          "height": 190
        }
      },
      "source": [
        "tamanho_clientes = dados_customers.shape\n",
        "print('Número total de clientes:', tamanho_clientes[0])\n",
        "dados_customers.head(4)"
      ],
      "execution_count": 7,
      "outputs": [
        {
          "output_type": "stream",
          "text": [
            "Número total de clientes: 230\n"
          ],
          "name": "stdout"
        },
        {
          "output_type": "execute_result",
          "data": {
            "text/html": [
              "<div>\n",
              "<style scoped>\n",
              "    .dataframe tbody tr th:only-of-type {\n",
              "        vertical-align: middle;\n",
              "    }\n",
              "\n",
              "    .dataframe tbody tr th {\n",
              "        vertical-align: top;\n",
              "    }\n",
              "\n",
              "    .dataframe thead th {\n",
              "        text-align: right;\n",
              "    }\n",
              "</style>\n",
              "<table border=\"1\" class=\"dataframe\">\n",
              "  <thead>\n",
              "    <tr style=\"text-align: right;\">\n",
              "      <th></th>\n",
              "      <th>_id</th>\n",
              "      <th>card_hold_name</th>\n",
              "      <th>name</th>\n",
              "      <th>birth_date</th>\n",
              "      <th>state</th>\n",
              "      <th>phone</th>\n",
              "    </tr>\n",
              "  </thead>\n",
              "  <tbody>\n",
              "    <tr>\n",
              "      <th>0</th>\n",
              "      <td>5f50dd2029c6ea7c92c985c1</td>\n",
              "      <td>Joann Simpson</td>\n",
              "      <td>Joann Simpson</td>\n",
              "      <td>1995-10-14</td>\n",
              "      <td>AC/BR</td>\n",
              "      <td>68988813295</td>\n",
              "    </tr>\n",
              "    <tr>\n",
              "      <th>1</th>\n",
              "      <td>5f50dd203211f2d1443d8f86</td>\n",
              "      <td>Cathryn Shelton</td>\n",
              "      <td>Cathryn Shelton</td>\n",
              "      <td>1991-06-03</td>\n",
              "      <td>AC/BR</td>\n",
              "      <td>68981367703</td>\n",
              "    </tr>\n",
              "    <tr>\n",
              "      <th>2</th>\n",
              "      <td>5f50dd20b4f2f9b3d726efb2</td>\n",
              "      <td>Gregory Santos</td>\n",
              "      <td>Gregory Santos</td>\n",
              "      <td>2002-04-24</td>\n",
              "      <td>AC/BR</td>\n",
              "      <td>68985394411</td>\n",
              "    </tr>\n",
              "    <tr>\n",
              "      <th>3</th>\n",
              "      <td>5f50dd205130b01513d28083</td>\n",
              "      <td>Tameka Levine</td>\n",
              "      <td>Tameka Levine</td>\n",
              "      <td>1963-06-18</td>\n",
              "      <td>AC/BR</td>\n",
              "      <td>47985268507</td>\n",
              "    </tr>\n",
              "  </tbody>\n",
              "</table>\n",
              "</div>"
            ],
            "text/plain": [
              "                        _id   card_hold_name  ...  state        phone\n",
              "0  5f50dd2029c6ea7c92c985c1    Joann Simpson  ...  AC/BR  68988813295\n",
              "1  5f50dd203211f2d1443d8f86  Cathryn Shelton  ...  AC/BR  68981367703\n",
              "2  5f50dd20b4f2f9b3d726efb2   Gregory Santos  ...  AC/BR  68985394411\n",
              "3  5f50dd205130b01513d28083    Tameka Levine  ...  AC/BR  47985268507\n",
              "\n",
              "[4 rows x 6 columns]"
            ]
          },
          "metadata": {
            "tags": []
          },
          "execution_count": 7
        }
      ]
    },
    {
      "cell_type": "markdown",
      "metadata": {
        "id": "5kgvILDxCZKI"
      },
      "source": [
        "Ao todo, há 230 clientes. Podemos ver que os 4 primeiros são do estado do Acre. \n",
        "Vamos ver de quais estados esses clientes pertencem:"
      ]
    },
    {
      "cell_type": "code",
      "metadata": {
        "id": "X0LaXj8aCoAm",
        "outputId": "374cef3f-b846-4bbf-fc3a-f51c5352eed7",
        "colab": {
          "base_uri": "https://localhost:8080/",
          "height": 357
        }
      },
      "source": [
        "plt.figure(figsize=(12,5))\n",
        "ax = sns.countplot(x='state', data=dados_customers, palette='Set2')\n",
        "ax.set_title('Número de clientes por estado', fontsize=16)\n",
        "ax.set_xlabel('Estados', fontsize=14 )\n",
        "ax.set_ylabel('Clientes', fontsize=14)\n",
        "plt.show()"
      ],
      "execution_count": 8,
      "outputs": [
        {
          "output_type": "display_data",
          "data": {
            "image/png": "[encoded data removed]",
            "text/plain": [
              "<Figure size 864x360 with 1 Axes>"
            ]
          },
          "metadata": {
            "tags": [],
            "needs_background": "light"
          }
        }
      ]
    },
    {
      "cell_type": "markdown",
      "metadata": {
        "id": "zWJUr9M1FZBP"
      },
      "source": [
        "A maior parte dos vendedores é do estado de Santa Catarina, mas há vendedores de diversos outros estados."
      ]
    },
    {
      "cell_type": "markdown",
      "metadata": {
        "id": "5MG8DjS9GXqo"
      },
      "source": [
        "Vamos verificar a tabela payments agora, que consiste no pagamento realizado aos vendedores:"
      ]
    },
    {
      "cell_type": "code",
      "metadata": {
        "id": "M4klrsi2GdUQ",
        "outputId": "375bb491-7947-4703-ec84-2aee25445acd",
        "colab": {
          "base_uri": "https://localhost:8080/",
          "height": 419
        }
      },
      "source": [
        "dados_payments"
      ],
      "execution_count": 9,
      "outputs": [
        {
          "output_type": "execute_result",
          "data": {
            "text/html": [
              "<div>\n",
              "<style scoped>\n",
              "    .dataframe tbody tr th:only-of-type {\n",
              "        vertical-align: middle;\n",
              "    }\n",
              "\n",
              "    .dataframe tbody tr th {\n",
              "        vertical-align: top;\n",
              "    }\n",
              "\n",
              "    .dataframe thead th {\n",
              "        text-align: right;\n",
              "    }\n",
              "</style>\n",
              "<table border=\"1\" class=\"dataframe\">\n",
              "  <thead>\n",
              "    <tr style=\"text-align: right;\">\n",
              "      <th></th>\n",
              "      <th>_id</th>\n",
              "      <th>account_id</th>\n",
              "      <th>paid_at</th>\n",
              "      <th>amount_paid</th>\n",
              "      <th>marketplace_fee</th>\n",
              "      <th>ip_location</th>\n",
              "      <th>customer_id</th>\n",
              "    </tr>\n",
              "  </thead>\n",
              "  <tbody>\n",
              "    <tr>\n",
              "      <th>0</th>\n",
              "      <td>5f50dd204d48a59e845519fe</td>\n",
              "      <td>5f50e19a299538c596304d31</td>\n",
              "      <td>2020-02-07 09:55:00 UTC</td>\n",
              "      <td>2899.77</td>\n",
              "      <td>29.00</td>\n",
              "      <td>SP/BR</td>\n",
              "      <td>5f50dd201df56aef0d42f1e6</td>\n",
              "    </tr>\n",
              "    <tr>\n",
              "      <th>1</th>\n",
              "      <td>5f50dd201c9cf367e64803f8</td>\n",
              "      <td>5f50e19a299538c596304d31</td>\n",
              "      <td>2020-08-23 06:18:00 UTC</td>\n",
              "      <td>1676.89</td>\n",
              "      <td>16.77</td>\n",
              "      <td>SP/BR</td>\n",
              "      <td>5f50dd20daf722fb0fc25a5d</td>\n",
              "    </tr>\n",
              "    <tr>\n",
              "      <th>2</th>\n",
              "      <td>5f50dd204f7299059f441c58</td>\n",
              "      <td>5f50e19a299538c596304d31</td>\n",
              "      <td>2020-03-28 12:17:00 UTC</td>\n",
              "      <td>838.45</td>\n",
              "      <td>8.38</td>\n",
              "      <td>SP/BR</td>\n",
              "      <td>5f50dd20a96a43441cdfdaa0</td>\n",
              "    </tr>\n",
              "    <tr>\n",
              "      <th>3</th>\n",
              "      <td>5f50dd20a18128c90922d868</td>\n",
              "      <td>5f50e19a299538c596304d31</td>\n",
              "      <td>2020-09-02 12:13:00 UTC</td>\n",
              "      <td>887.39</td>\n",
              "      <td>8.87</td>\n",
              "      <td>SP/BR</td>\n",
              "      <td>5f50dd20981542a0cd0495fd</td>\n",
              "    </tr>\n",
              "    <tr>\n",
              "      <th>4</th>\n",
              "      <td>5f50dd205f44f510e938126c</td>\n",
              "      <td>5f50e19a299538c596304d31</td>\n",
              "      <td>2020-06-29 11:50:00 UTC</td>\n",
              "      <td>993.56</td>\n",
              "      <td>9.94</td>\n",
              "      <td>SP/BR</td>\n",
              "      <td>5f50dd201d455546b2fd0572</td>\n",
              "    </tr>\n",
              "    <tr>\n",
              "      <th>...</th>\n",
              "      <td>...</td>\n",
              "      <td>...</td>\n",
              "      <td>...</td>\n",
              "      <td>...</td>\n",
              "      <td>...</td>\n",
              "      <td>...</td>\n",
              "      <td>...</td>\n",
              "    </tr>\n",
              "    <tr>\n",
              "      <th>225</th>\n",
              "      <td>5f50dd201e18bad3e16f5d3e</td>\n",
              "      <td>5f50e19afd9e92e2ab3a0487</td>\n",
              "      <td>2020-08-16 06:09:00 UTC</td>\n",
              "      <td>790.27</td>\n",
              "      <td>31.61</td>\n",
              "      <td>SC/BR</td>\n",
              "      <td>5f50dd200184054db308f6b2</td>\n",
              "    </tr>\n",
              "    <tr>\n",
              "      <th>226</th>\n",
              "      <td>5f50dd201a773b40d26f8acd</td>\n",
              "      <td>5f50e19afd9e92e2ab3a0487</td>\n",
              "      <td>2020-08-09 04:50:00 UTC</td>\n",
              "      <td>210.31</td>\n",
              "      <td>8.41</td>\n",
              "      <td>SC/BR</td>\n",
              "      <td>5f50dd203a5b6bcaf0e7aea8</td>\n",
              "    </tr>\n",
              "    <tr>\n",
              "      <th>227</th>\n",
              "      <td>5f50dd208a6c9e813294c3b5</td>\n",
              "      <td>5f50e19afd9e92e2ab3a0487</td>\n",
              "      <td>2020-01-31 09:49:00 UTC</td>\n",
              "      <td>792.46</td>\n",
              "      <td>31.70</td>\n",
              "      <td>SC/BR</td>\n",
              "      <td>5f50dd20eb1fd423605960b3</td>\n",
              "    </tr>\n",
              "    <tr>\n",
              "      <th>228</th>\n",
              "      <td>5f50dd20c53c06e62efca58d</td>\n",
              "      <td>5f50e19afd9e92e2ab3a0487</td>\n",
              "      <td>2020-07-14 01:09:00 UTC</td>\n",
              "      <td>630.77</td>\n",
              "      <td>25.23</td>\n",
              "      <td>SC/BR</td>\n",
              "      <td>5f50dd20cc033cc951e38652</td>\n",
              "    </tr>\n",
              "    <tr>\n",
              "      <th>229</th>\n",
              "      <td>5f50dd20cde4cbc0382c5232</td>\n",
              "      <td>5f50e19afd9e92e2ab3a0487</td>\n",
              "      <td>2020-02-21 12:52:00 UTC</td>\n",
              "      <td>636.73</td>\n",
              "      <td>25.47</td>\n",
              "      <td>SP/BR</td>\n",
              "      <td>5f50dd203cce67b0a20341f7</td>\n",
              "    </tr>\n",
              "  </tbody>\n",
              "</table>\n",
              "<p>230 rows × 7 columns</p>\n",
              "</div>"
            ],
            "text/plain": [
              "                          _id  ...               customer_id\n",
              "0    5f50dd204d48a59e845519fe  ...  5f50dd201df56aef0d42f1e6\n",
              "1    5f50dd201c9cf367e64803f8  ...  5f50dd20daf722fb0fc25a5d\n",
              "2    5f50dd204f7299059f441c58  ...  5f50dd20a96a43441cdfdaa0\n",
              "3    5f50dd20a18128c90922d868  ...  5f50dd20981542a0cd0495fd\n",
              "4    5f50dd205f44f510e938126c  ...  5f50dd201d455546b2fd0572\n",
              "..                        ...  ...                       ...\n",
              "225  5f50dd201e18bad3e16f5d3e  ...  5f50dd200184054db308f6b2\n",
              "226  5f50dd201a773b40d26f8acd  ...  5f50dd203a5b6bcaf0e7aea8\n",
              "227  5f50dd208a6c9e813294c3b5  ...  5f50dd20eb1fd423605960b3\n",
              "228  5f50dd20c53c06e62efca58d  ...  5f50dd20cc033cc951e38652\n",
              "229  5f50dd20cde4cbc0382c5232  ...  5f50dd203cce67b0a20341f7\n",
              "\n",
              "[230 rows x 7 columns]"
            ]
          },
          "metadata": {
            "tags": []
          },
          "execution_count": 9
        }
      ]
    },
    {
      "cell_type": "markdown",
      "metadata": {
        "id": "yYnR--2WGqTa"
      },
      "source": [
        "Com essa tabela, podemos extrair informações bem importantes, tais como:\n",
        "- Qual o valor total em vendas?\n",
        "- Qual foi o vendedor que mais vendeu produtos? De qual estado ele pertence?\n",
        "- Esse que mais vendeu produtos, necessariamente teve o maior lucro?\n",
        "- Qual vendedor teve o maior lucro?\n",
        "- Qual o valor total da taxa de venda?\n",
        "\n",
        "\n"
      ]
    },
    {
      "cell_type": "markdown",
      "metadata": {
        "id": "gbS93I5JS3e8"
      },
      "source": [
        "Primeiramente, vamos mudar o id dos vendedores para facilitar a manipulação e nossas análises. \n",
        "\n",
        "Sabemos que há 10 vendedores nesse marketplace, então, vamos numerá-los de 1 a 10:\n"
      ]
    },
    {
      "cell_type": "code",
      "metadata": {
        "id": "NV9jySQ9TCyg",
        "outputId": "8da8e7e5-8f15-471f-9a75-b487f004e0fb",
        "colab": {
          "base_uri": "https://localhost:8080/"
        }
      },
      "source": [
        "dados_payments['account_id'].value_counts()\n",
        "\n"
      ],
      "execution_count": 10,
      "outputs": [
        {
          "output_type": "execute_result",
          "data": {
            "text/plain": [
              "5f50e19a60ba4ea5c03c8c50    31\n",
              "5f50e19a836e1cd15acb2fd7    27\n",
              "5f50e19a413ccfef1bdd2143    26\n",
              "5f50e19aaef534168542f82c    26\n",
              "5f50e19a299538c596304d31    22\n",
              "5f50e19a411bd6dd38f5a9d8    22\n",
              "5f50e19afb1971f2b473a181    21\n",
              "5f50e19ad05c511af0a89fff    20\n",
              "5f50e19ab61a843cbaaf0d5a    18\n",
              "5f50e19afd9e92e2ab3a0487    17\n",
              "Name: account_id, dtype: int64"
            ]
          },
          "metadata": {
            "tags": []
          },
          "execution_count": 10
        }
      ]
    },
    {
      "cell_type": "markdown",
      "metadata": {
        "id": "dotGuytCceMn"
      },
      "source": [
        "Vamos criar um loop para ir adicionando uma numeração de acordo com os dois últimos dígitos do id do vendedor:"
      ]
    },
    {
      "cell_type": "code",
      "metadata": {
        "id": "zYSYm4ISY73b"
      },
      "source": [
        "id_vendedor = []\n",
        "for vendedor in dados_payments['account_id']:\n",
        "  if vendedor.endswith('50'):\n",
        "    id_vendedor.append(1)\n",
        "  elif vendedor.endswith('d7'):\n",
        "    id_vendedor.append(2)\n",
        "  elif vendedor.endswith('43'):\n",
        "    id_vendedor.append(3)\n",
        "  elif vendedor.endswith('2c'):\n",
        "    id_vendedor.append(4)\n",
        "  elif vendedor.endswith('d8'):\n",
        "    id_vendedor.append(5)\n",
        "  elif vendedor.endswith('31'):\n",
        "    id_vendedor.append(6)\n",
        "  elif vendedor.endswith('81'):\n",
        "    id_vendedor.append(7)\n",
        "  elif vendedor.endswith('ff'):\n",
        "    id_vendedor.append(8)\n",
        "  elif vendedor.endswith('5a'):\n",
        "    id_vendedor.append(9)\n",
        "  elif vendedor.endswith('87'):\n",
        "    id_vendedor.append(10)"
      ],
      "execution_count": 11,
      "outputs": []
    },
    {
      "cell_type": "markdown",
      "metadata": {
        "id": "nmidkuXPdEgl"
      },
      "source": [
        "Vamos agora adicionar mais uma coluna em nossa tabela associando os novos valores aos id's dos vendedores:"
      ]
    },
    {
      "cell_type": "code",
      "metadata": {
        "id": "berFKOJTcq1f"
      },
      "source": [
        "dados_payments.insert(2, column='numero_vendedor', value=id_vendedor)"
      ],
      "execution_count": 12,
      "outputs": []
    },
    {
      "cell_type": "markdown",
      "metadata": {
        "id": "Bxzc26E7fP_q"
      },
      "source": [
        "Vamos verificar se a inserção foi realizada:"
      ]
    },
    {
      "cell_type": "code",
      "metadata": {
        "id": "Xarp1iI9dYm2",
        "outputId": "dbcb507e-ea8c-4547-bb4f-50ef737b74c5",
        "colab": {
          "base_uri": "https://localhost:8080/",
          "height": 272
        }
      },
      "source": [
        "dados_payments.head()"
      ],
      "execution_count": 13,
      "outputs": [
        {
          "output_type": "execute_result",
          "data": {
            "text/html": [
              "<div>\n",
              "<style scoped>\n",
              "    .dataframe tbody tr th:only-of-type {\n",
              "        vertical-align: middle;\n",
              "    }\n",
              "\n",
              "    .dataframe tbody tr th {\n",
              "        vertical-align: top;\n",
              "    }\n",
              "\n",
              "    .dataframe thead th {\n",
              "        text-align: right;\n",
              "    }\n",
              "</style>\n",
              "<table border=\"1\" class=\"dataframe\">\n",
              "  <thead>\n",
              "    <tr style=\"text-align: right;\">\n",
              "      <th></th>\n",
              "      <th>_id</th>\n",
              "      <th>account_id</th>\n",
              "      <th>numero_vendedor</th>\n",
              "      <th>paid_at</th>\n",
              "      <th>amount_paid</th>\n",
              "      <th>marketplace_fee</th>\n",
              "      <th>ip_location</th>\n",
              "      <th>customer_id</th>\n",
              "    </tr>\n",
              "  </thead>\n",
              "  <tbody>\n",
              "    <tr>\n",
              "      <th>0</th>\n",
              "      <td>5f50dd204d48a59e845519fe</td>\n",
              "      <td>5f50e19a299538c596304d31</td>\n",
              "      <td>6</td>\n",
              "      <td>2020-02-07 09:55:00 UTC</td>\n",
              "      <td>2899.77</td>\n",
              "      <td>29.00</td>\n",
              "      <td>SP/BR</td>\n",
              "      <td>5f50dd201df56aef0d42f1e6</td>\n",
              "    </tr>\n",
              "    <tr>\n",
              "      <th>1</th>\n",
              "      <td>5f50dd201c9cf367e64803f8</td>\n",
              "      <td>5f50e19a299538c596304d31</td>\n",
              "      <td>6</td>\n",
              "      <td>2020-08-23 06:18:00 UTC</td>\n",
              "      <td>1676.89</td>\n",
              "      <td>16.77</td>\n",
              "      <td>SP/BR</td>\n",
              "      <td>5f50dd20daf722fb0fc25a5d</td>\n",
              "    </tr>\n",
              "    <tr>\n",
              "      <th>2</th>\n",
              "      <td>5f50dd204f7299059f441c58</td>\n",
              "      <td>5f50e19a299538c596304d31</td>\n",
              "      <td>6</td>\n",
              "      <td>2020-03-28 12:17:00 UTC</td>\n",
              "      <td>838.45</td>\n",
              "      <td>8.38</td>\n",
              "      <td>SP/BR</td>\n",
              "      <td>5f50dd20a96a43441cdfdaa0</td>\n",
              "    </tr>\n",
              "    <tr>\n",
              "      <th>3</th>\n",
              "      <td>5f50dd20a18128c90922d868</td>\n",
              "      <td>5f50e19a299538c596304d31</td>\n",
              "      <td>6</td>\n",
              "      <td>2020-09-02 12:13:00 UTC</td>\n",
              "      <td>887.39</td>\n",
              "      <td>8.87</td>\n",
              "      <td>SP/BR</td>\n",
              "      <td>5f50dd20981542a0cd0495fd</td>\n",
              "    </tr>\n",
              "    <tr>\n",
              "      <th>4</th>\n",
              "      <td>5f50dd205f44f510e938126c</td>\n",
              "      <td>5f50e19a299538c596304d31</td>\n",
              "      <td>6</td>\n",
              "      <td>2020-06-29 11:50:00 UTC</td>\n",
              "      <td>993.56</td>\n",
              "      <td>9.94</td>\n",
              "      <td>SP/BR</td>\n",
              "      <td>5f50dd201d455546b2fd0572</td>\n",
              "    </tr>\n",
              "  </tbody>\n",
              "</table>\n",
              "</div>"
            ],
            "text/plain": [
              "                        _id  ...               customer_id\n",
              "0  5f50dd204d48a59e845519fe  ...  5f50dd201df56aef0d42f1e6\n",
              "1  5f50dd201c9cf367e64803f8  ...  5f50dd20daf722fb0fc25a5d\n",
              "2  5f50dd204f7299059f441c58  ...  5f50dd20a96a43441cdfdaa0\n",
              "3  5f50dd20a18128c90922d868  ...  5f50dd20981542a0cd0495fd\n",
              "4  5f50dd205f44f510e938126c  ...  5f50dd201d455546b2fd0572\n",
              "\n",
              "[5 rows x 8 columns]"
            ]
          },
          "metadata": {
            "tags": []
          },
          "execution_count": 13
        }
      ]
    },
    {
      "cell_type": "markdown",
      "metadata": {
        "id": "YCyjFsVofZ4j"
      },
      "source": [
        "Legal! Inserção realizada! Vamos às análises:"
      ]
    },
    {
      "cell_type": "markdown",
      "metadata": {
        "id": "K_MMqmadN9vb"
      },
      "source": [
        "Vamos verificar o valor total em vendas:\n"
      ]
    },
    {
      "cell_type": "code",
      "metadata": {
        "id": "mx3IqE-gNqTp",
        "outputId": "e3b0549d-6193-4671-d829-04c4cf7b0caf",
        "colab": {
          "base_uri": "https://localhost:8080/"
        }
      },
      "source": [
        "total_payment = dados_payments['amount_paid'].sum()\n",
        "print('Valor total em vendas: R$', total_payment)"
      ],
      "execution_count": 14,
      "outputs": [
        {
          "output_type": "stream",
          "text": [
            "Valor total em vendas: R$ 123474.75999999998\n"
          ],
          "name": "stdout"
        }
      ]
    },
    {
      "cell_type": "markdown",
      "metadata": {
        "id": "-nE56oZKPK0J"
      },
      "source": [
        "Vamos agora distribuir esse valor entre os vendedores e saber qual foi o vendedor que mais vendeu:"
      ]
    },
    {
      "cell_type": "code",
      "metadata": {
        "id": "4KZmnwbmjKQi"
      },
      "source": [
        "account_id = dados_payments.groupby('numero_vendedor')"
      ],
      "execution_count": 15,
      "outputs": []
    },
    {
      "cell_type": "code",
      "metadata": {
        "id": "YY8YQv06Ikv1",
        "outputId": "73b0c152-6694-4dfd-cf2d-f31089b4038f",
        "colab": {
          "base_uri": "https://localhost:8080/",
          "height": 390
        }
      },
      "source": [
        "numero_venda_total_por_vendedor = account_id.agg('count').sort_values('amount_paid', ascending = False)\n",
        "numero_venda_total_por_vendedor\n"
      ],
      "execution_count": 16,
      "outputs": [
        {
          "output_type": "execute_result",
          "data": {
            "text/html": [
              "<div>\n",
              "<style scoped>\n",
              "    .dataframe tbody tr th:only-of-type {\n",
              "        vertical-align: middle;\n",
              "    }\n",
              "\n",
              "    .dataframe tbody tr th {\n",
              "        vertical-align: top;\n",
              "    }\n",
              "\n",
              "    .dataframe thead th {\n",
              "        text-align: right;\n",
              "    }\n",
              "</style>\n",
              "<table border=\"1\" class=\"dataframe\">\n",
              "  <thead>\n",
              "    <tr style=\"text-align: right;\">\n",
              "      <th></th>\n",
              "      <th>_id</th>\n",
              "      <th>account_id</th>\n",
              "      <th>paid_at</th>\n",
              "      <th>amount_paid</th>\n",
              "      <th>marketplace_fee</th>\n",
              "      <th>ip_location</th>\n",
              "      <th>customer_id</th>\n",
              "    </tr>\n",
              "    <tr>\n",
              "      <th>numero_vendedor</th>\n",
              "      <th></th>\n",
              "      <th></th>\n",
              "      <th></th>\n",
              "      <th></th>\n",
              "      <th></th>\n",
              "      <th></th>\n",
              "      <th></th>\n",
              "    </tr>\n",
              "  </thead>\n",
              "  <tbody>\n",
              "    <tr>\n",
              "      <th>1</th>\n",
              "      <td>31</td>\n",
              "      <td>31</td>\n",
              "      <td>31</td>\n",
              "      <td>31</td>\n",
              "      <td>31</td>\n",
              "      <td>31</td>\n",
              "      <td>31</td>\n",
              "    </tr>\n",
              "    <tr>\n",
              "      <th>2</th>\n",
              "      <td>27</td>\n",
              "      <td>27</td>\n",
              "      <td>27</td>\n",
              "      <td>27</td>\n",
              "      <td>27</td>\n",
              "      <td>27</td>\n",
              "      <td>27</td>\n",
              "    </tr>\n",
              "    <tr>\n",
              "      <th>3</th>\n",
              "      <td>26</td>\n",
              "      <td>26</td>\n",
              "      <td>26</td>\n",
              "      <td>26</td>\n",
              "      <td>26</td>\n",
              "      <td>26</td>\n",
              "      <td>26</td>\n",
              "    </tr>\n",
              "    <tr>\n",
              "      <th>4</th>\n",
              "      <td>26</td>\n",
              "      <td>26</td>\n",
              "      <td>26</td>\n",
              "      <td>26</td>\n",
              "      <td>26</td>\n",
              "      <td>26</td>\n",
              "      <td>26</td>\n",
              "    </tr>\n",
              "    <tr>\n",
              "      <th>5</th>\n",
              "      <td>22</td>\n",
              "      <td>22</td>\n",
              "      <td>22</td>\n",
              "      <td>22</td>\n",
              "      <td>22</td>\n",
              "      <td>22</td>\n",
              "      <td>22</td>\n",
              "    </tr>\n",
              "    <tr>\n",
              "      <th>6</th>\n",
              "      <td>22</td>\n",
              "      <td>22</td>\n",
              "      <td>22</td>\n",
              "      <td>22</td>\n",
              "      <td>22</td>\n",
              "      <td>22</td>\n",
              "      <td>22</td>\n",
              "    </tr>\n",
              "    <tr>\n",
              "      <th>7</th>\n",
              "      <td>21</td>\n",
              "      <td>21</td>\n",
              "      <td>21</td>\n",
              "      <td>21</td>\n",
              "      <td>21</td>\n",
              "      <td>21</td>\n",
              "      <td>21</td>\n",
              "    </tr>\n",
              "    <tr>\n",
              "      <th>8</th>\n",
              "      <td>20</td>\n",
              "      <td>20</td>\n",
              "      <td>20</td>\n",
              "      <td>20</td>\n",
              "      <td>20</td>\n",
              "      <td>20</td>\n",
              "      <td>20</td>\n",
              "    </tr>\n",
              "    <tr>\n",
              "      <th>9</th>\n",
              "      <td>18</td>\n",
              "      <td>18</td>\n",
              "      <td>18</td>\n",
              "      <td>18</td>\n",
              "      <td>18</td>\n",
              "      <td>18</td>\n",
              "      <td>18</td>\n",
              "    </tr>\n",
              "    <tr>\n",
              "      <th>10</th>\n",
              "      <td>17</td>\n",
              "      <td>17</td>\n",
              "      <td>17</td>\n",
              "      <td>17</td>\n",
              "      <td>17</td>\n",
              "      <td>17</td>\n",
              "      <td>17</td>\n",
              "    </tr>\n",
              "  </tbody>\n",
              "</table>\n",
              "</div>"
            ],
            "text/plain": [
              "                 _id  account_id  ...  ip_location  customer_id\n",
              "numero_vendedor                   ...                          \n",
              "1                 31          31  ...           31           31\n",
              "2                 27          27  ...           27           27\n",
              "3                 26          26  ...           26           26\n",
              "4                 26          26  ...           26           26\n",
              "5                 22          22  ...           22           22\n",
              "6                 22          22  ...           22           22\n",
              "7                 21          21  ...           21           21\n",
              "8                 20          20  ...           20           20\n",
              "9                 18          18  ...           18           18\n",
              "10                17          17  ...           17           17\n",
              "\n",
              "[10 rows x 7 columns]"
            ]
          },
          "metadata": {
            "tags": []
          },
          "execution_count": 16
        }
      ]
    },
    {
      "cell_type": "markdown",
      "metadata": {
        "id": "Oxk4gh0K3ClV"
      },
      "source": [
        "Pela tabela acima, vemos que o vendedor de número 1 possui mais vendas. Ao todo, ele vendeu 31 vezes. \n",
        "Mas será que o fato de ter vendido mais produtos, significa que ele vendeu mais em reais?\n",
        "Vamos conferir:"
      ]
    },
    {
      "cell_type": "code",
      "metadata": {
        "id": "NjNiWYDEz6r0",
        "outputId": "9f2ae581-085b-4766-d62c-3e464df1363b",
        "colab": {
          "base_uri": "https://localhost:8080/",
          "height": 390
        }
      },
      "source": [
        "venda_total_por_vendedor = account_id.agg('sum').sort_values('amount_paid', ascending = False)\n",
        "venda_total_por_vendedor\n"
      ],
      "execution_count": 17,
      "outputs": [
        {
          "output_type": "execute_result",
          "data": {
            "text/html": [
              "<div>\n",
              "<style scoped>\n",
              "    .dataframe tbody tr th:only-of-type {\n",
              "        vertical-align: middle;\n",
              "    }\n",
              "\n",
              "    .dataframe tbody tr th {\n",
              "        vertical-align: top;\n",
              "    }\n",
              "\n",
              "    .dataframe thead th {\n",
              "        text-align: right;\n",
              "    }\n",
              "</style>\n",
              "<table border=\"1\" class=\"dataframe\">\n",
              "  <thead>\n",
              "    <tr style=\"text-align: right;\">\n",
              "      <th></th>\n",
              "      <th>amount_paid</th>\n",
              "      <th>marketplace_fee</th>\n",
              "    </tr>\n",
              "    <tr>\n",
              "      <th>numero_vendedor</th>\n",
              "      <th></th>\n",
              "      <th></th>\n",
              "    </tr>\n",
              "  </thead>\n",
              "  <tbody>\n",
              "    <tr>\n",
              "      <th>6</th>\n",
              "      <td>26939.73</td>\n",
              "      <td>269.39</td>\n",
              "    </tr>\n",
              "    <tr>\n",
              "      <th>4</th>\n",
              "      <td>16466.33</td>\n",
              "      <td>98.80</td>\n",
              "    </tr>\n",
              "    <tr>\n",
              "      <th>1</th>\n",
              "      <td>14002.42</td>\n",
              "      <td>980.18</td>\n",
              "    </tr>\n",
              "    <tr>\n",
              "      <th>3</th>\n",
              "      <td>13422.84</td>\n",
              "      <td>671.14</td>\n",
              "    </tr>\n",
              "    <tr>\n",
              "      <th>8</th>\n",
              "      <td>11737.08</td>\n",
              "      <td>117.36</td>\n",
              "    </tr>\n",
              "    <tr>\n",
              "      <th>5</th>\n",
              "      <td>11028.45</td>\n",
              "      <td>110.27</td>\n",
              "    </tr>\n",
              "    <tr>\n",
              "      <th>7</th>\n",
              "      <td>9495.41</td>\n",
              "      <td>94.94</td>\n",
              "    </tr>\n",
              "    <tr>\n",
              "      <th>10</th>\n",
              "      <td>8662.87</td>\n",
              "      <td>346.53</td>\n",
              "    </tr>\n",
              "    <tr>\n",
              "      <th>9</th>\n",
              "      <td>8616.13</td>\n",
              "      <td>1292.43</td>\n",
              "    </tr>\n",
              "    <tr>\n",
              "      <th>2</th>\n",
              "      <td>3103.50</td>\n",
              "      <td>31.05</td>\n",
              "    </tr>\n",
              "  </tbody>\n",
              "</table>\n",
              "</div>"
            ],
            "text/plain": [
              "                 amount_paid  marketplace_fee\n",
              "numero_vendedor                              \n",
              "6                   26939.73           269.39\n",
              "4                   16466.33            98.80\n",
              "1                   14002.42           980.18\n",
              "3                   13422.84           671.14\n",
              "8                   11737.08           117.36\n",
              "5                   11028.45           110.27\n",
              "7                    9495.41            94.94\n",
              "10                   8662.87           346.53\n",
              "9                    8616.13          1292.43\n",
              "2                    3103.50            31.05"
            ]
          },
          "metadata": {
            "tags": []
          },
          "execution_count": 17
        }
      ]
    },
    {
      "cell_type": "markdown",
      "metadata": {
        "id": "aBiq9mUh3lQB"
      },
      "source": [
        "Vemos que o vendedor de número 6 foi quem vendeu mais, embora tenha um número menor de vendas(22 vendas). Provavelmente, ele vendeu um produto que fosse mais caro, compensando assim a diferença de 22 vendas para 31 vendas do número 1.\n",
        "Vamos ver a distribuição graficamente:"
      ]
    },
    {
      "cell_type": "code",
      "metadata": {
        "id": "sY1qGpUfRbVK",
        "outputId": "ac15096f-17cb-4b26-f368-6e6ca868eeec",
        "colab": {
          "base_uri": "https://localhost:8080/",
          "height": 411
        }
      },
      "source": [
        "plt.figure(figsize=(12,6))\n",
        "ax = sns.barplot(x = venda_total_por_vendedor.index, y='amount_paid', data=venda_total_por_vendedor, palette='Accent')\n",
        "ax.set_title('Valor total de venda de cada vendedor', fontsize=16)\n",
        "ax.yaxis.set_major_formatter(ticker.StrMethodFormatter('R${x:,.2f}'))\n",
        "ax.set_xlabel('Código do vendedor', fontsize=14 )\n",
        "ax.set_ylabel('Valor em reais', fontsize=14)\n",
        "plt.show()"
      ],
      "execution_count": 18,
      "outputs": [
        {
          "output_type": "display_data",
          "data": {
            "image/png": "[encoded data removed]",
            "text/plain": [
              "<Figure size 864x432 with 1 Axes>"
            ]
          },
          "metadata": {
            "tags": [],
            "needs_background": "light"
          }
        }
      ]
    },
    {
      "cell_type": "markdown",
      "metadata": {
        "id": "EicyqiKR6Pbi"
      },
      "source": [
        "Claramente, vemos que o vendedor de número 6 possui um lucro bem superior que os demais, acima de R$ 25.000,00 reais"
      ]
    },
    {
      "cell_type": "markdown",
      "metadata": {
        "id": "tmhHOf2b6aiP"
      },
      "source": [
        "Vamos ver abaixo a distribuição  dos valores de vendas totais num boxplot:"
      ]
    },
    {
      "cell_type": "code",
      "metadata": {
        "id": "mk_4_uzj1L8M",
        "outputId": "aa9d6562-9ccc-4a7d-e1d1-cb0fdb6f78ee",
        "colab": {
          "base_uri": "https://localhost:8080/",
          "height": 299
        }
      },
      "source": [
        "ax = sns.boxplot(data = venda_total_por_vendedor, x='amount_paid', color = 'green' )\n",
        "ax.set_xlabel('Valor total de venda', fontsize=14 )\n",
        "ax.set_title('Distribuição do lucro dos vendedores')\n",
        "plt.show()"
      ],
      "execution_count": 19,
      "outputs": [
        {
          "output_type": "display_data",
          "data": {
            "image/png": "[encoded data removed]",
            "text/plain": [
              "<Figure size 432x288 with 1 Axes>"
            ]
          },
          "metadata": {
            "tags": [],
            "needs_background": "light"
          }
        }
      ]
    },
    {
      "cell_type": "markdown",
      "metadata": {
        "id": "gv8-XZSb6oBQ"
      },
      "source": [
        "Podemos ver que o lucro total concentra-se entre mais ou menos 8.000 a 13.000.\n",
        "Há um valor fora dessa distribuição, um outlier. Outlier, pois dentro dessa distribuição o lucro foi bem mais alto comparado aos demais vendedores.\n",
        "\n",
        "Vamos ver qual foi o valor médio e o mediano de lucro:"
      ]
    },
    {
      "cell_type": "code",
      "metadata": {
        "id": "0jBI498o7AIH",
        "outputId": "6dc8d720-3d2f-4b2b-a46c-dc91cc42d4b1",
        "colab": {
          "base_uri": "https://localhost:8080/"
        }
      },
      "source": [
        "mediana = venda_total_por_vendedor['amount_paid'].median()\n",
        "media = venda_total_por_vendedor['amount_paid'].mean()\n",
        "print('Valor médio do lucro total:', media)\n",
        "print('Valor mediano do lucro total:', mediana)"
      ],
      "execution_count": 20,
      "outputs": [
        {
          "output_type": "stream",
          "text": [
            "Valor médio do lucro total: 12347.475999999999\n",
            "Valor mediano do lucro total: 11382.765\n"
          ],
          "name": "stdout"
        }
      ]
    },
    {
      "cell_type": "markdown",
      "metadata": {
        "id": "1jtP34ST7rPi"
      },
      "source": [
        "Vamos verificar a diferença entre o vendedor 1 e o vendedor 6.\n",
        "\n",
        "O vendedor 1 teve um lucro menor, porém vendeu mais produtos e o vendedor 6 teve um lucro maior porém vendeu menos produtos.\n",
        "\n",
        "Vamos analisar:"
      ]
    },
    {
      "cell_type": "code",
      "metadata": {
        "id": "gJztTtNZ8JIh",
        "outputId": "8f187dbf-dd80-44a5-ad1a-86889e977341",
        "colab": {
          "base_uri": "https://localhost:8080/",
          "height": 494
        }
      },
      "source": [
        "fig = plt.figure(figsize=(15,6))\n",
        "fig.add_subplot(1,2,1)\n",
        "vendedor_1 = dados_payments[dados_payments['numero_vendedor']== 1]\n",
        "ax = sns.boxplot(vendedor_1['amount_paid'], color='#7fc97f')\n",
        "ax.set_title('Vendedor 1', fontsize=16)\n",
        "ax.set_xlabel('Valor em reais')\n",
        "\n",
        "fig.add_subplot(1,2,2)\n",
        "vendedor_6 = dados_payments[dados_payments['numero_vendedor']== 6]\n",
        "ax1 = sns.boxplot(vendedor_6['amount_paid'], color='#fdc086')\n",
        "ax1.set_title('Vendedor 6', fontsize=16)\n",
        "ax1.set_xlabel('Valor em reais')\n",
        "plt.show()\n"
      ],
      "execution_count": 21,
      "outputs": [
        {
          "output_type": "stream",
          "text": [
            "/usr/local/lib/python3.6/dist-packages/seaborn/_decorators.py:43: FutureWarning: Pass the following variable as a keyword arg: x. From version 0.12, the only valid positional argument will be `data`, and passing other arguments without an explicit keyword will result in an error or misinterpretation.\n",
            "  FutureWarning\n",
            "/usr/local/lib/python3.6/dist-packages/seaborn/_decorators.py:43: FutureWarning: Pass the following variable as a keyword arg: x. From version 0.12, the only valid positional argument will be `data`, and passing other arguments without an explicit keyword will result in an error or misinterpretation.\n",
            "  FutureWarning\n"
          ],
          "name": "stderr"
        },
        {
          "output_type": "display_data",
          "data": {
            "image/png": "[encoded data removed]",
            "text/plain": [
              "<Figure size 1080x432 with 2 Axes>"
            ]
          },
          "metadata": {
            "tags": [],
            "needs_background": "light"
          }
        }
      ]
    },
    {
      "cell_type": "markdown",
      "metadata": {
        "id": "p3v77jFOzJNQ"
      },
      "source": [
        "Vemos acima a distribuição de venda de cada um dois vendedores.\n",
        "\n",
        "Comparando as duas distribuições, conseguimos provar nossa hipóstese e  entender porque o vendedor 2 apesar de vender menos, teve um lucro maior. \n",
        "Sua distribuição está situada entre 800,00 a 1.500,00 reais, ou seja, essa é a faixa de valores de produtos mais abundante na distribuição do vendedor 6. Ele também vendeu produtos entre 2.000,00 e 3.000,00 reais.\n",
        "\n",
        "Já o vendedor 1 vendeu em sua maior parte na faixa de 200,00 a 600,00 reais. \n",
        "Vendeu mais produtos, porém com baixo valor!\n"
      ]
    },
    {
      "cell_type": "markdown",
      "metadata": {
        "id": "f2xKyPJY1igy"
      },
      "source": [
        "Vamos verificar qual foi o maior valor de venda do vendedor 1 e 6, assim como o menor valor de venda também:"
      ]
    },
    {
      "cell_type": "code",
      "metadata": {
        "id": "Akax6nwX9WYt"
      },
      "source": [
        "maior_venda_1 = vendedor_1.nlargest(1, 'amount_paid')\n",
        "maior_venda_6 = vendedor_6.nlargest(1, 'amount_paid')\n",
        "menor_venda_1 = vendedor_1.nsmallest(1, 'amount_paid')\n",
        "menor_venda_6 = vendedor_6.nsmallest(1, 'amount_paid')\n",
        "venda_total_1 = vendedor_1['amount_paid'].sum()\n",
        "venda_total_6 = vendedor_6['amount_paid'].sum()"
      ],
      "execution_count": 22,
      "outputs": []
    },
    {
      "cell_type": "code",
      "metadata": {
        "id": "Rvr_vLE41_mf",
        "outputId": "849a5471-6040-410e-de2b-aaf710fd2585",
        "colab": {
          "base_uri": "https://localhost:8080/"
        }
      },
      "source": [
        "print('Menor valor de venda do vendedor 1:', menor_venda_1['amount_paid'].values)\n",
        "print('Maior valor de venda do vendedor 1:', maior_venda_1['amount_paid'].values)\n",
        "print('Menor valor de venda do vendedor 6:', menor_venda_6['amount_paid'].values)\n",
        "print('Maior valor de venda do vendedor 6:', maior_venda_6['amount_paid'].values)\n",
        "print()\n",
        "print('Venda total do vendedor 1:', venda_total_1)\n",
        "print('Venda total do vendedor 6:', venda_total_6)"
      ],
      "execution_count": 23,
      "outputs": [
        {
          "output_type": "stream",
          "text": [
            "Menor valor de venda do vendedor 1: [21.26]\n",
            "Maior valor de venda do vendedor 1: [968.27]\n",
            "Menor valor de venda do vendedor 6: [292.34]\n",
            "Maior valor de venda do vendedor 6: [2899.77]\n",
            "\n",
            "Venda total do vendedor 1: 14002.419999999998\n",
            "Venda total do vendedor 6: 26939.729999999996\n"
          ],
          "name": "stdout"
        }
      ]
    },
    {
      "cell_type": "markdown",
      "metadata": {
        "id": "qyWCbpYp-IGA"
      },
      "source": [
        "Vamos dar uma olhada na tabela account_balance, que mostra o saldo das contas dos vendedores. \n",
        "Vamos focar no vendedor de número 6. Porém primeiro, precisamos inserir um nova coluna com os novos códigos que criamos para os vendedores:"
      ]
    },
    {
      "cell_type": "code",
      "metadata": {
        "id": "YYrfrwiCkB9U"
      },
      "source": [
        "#Vamos realizar o loop novamente alterando o nome do dataset:\n",
        "\n",
        "id_vendedor_2 = []\n",
        "for vendedor in dados_account_balance['account_id']:\n",
        "  if vendedor.endswith('50'):\n",
        "    id_vendedor_2.append(1)\n",
        "  elif vendedor.endswith('d7'):\n",
        "    id_vendedor_2.append(2)\n",
        "  elif vendedor.endswith('43'):\n",
        "    id_vendedor_2.append(3)\n",
        "  elif vendedor.endswith('2c'):\n",
        "    id_vendedor_2.append(4)\n",
        "  elif vendedor.endswith('d8'):\n",
        "    id_vendedor_2.append(5)\n",
        "  elif vendedor.endswith('31'):\n",
        "    id_vendedor_2.append(6)\n",
        "  elif vendedor.endswith('81'):\n",
        "    id_vendedor_2.append(7)\n",
        "  elif vendedor.endswith('ff'):\n",
        "    id_vendedor_2.append(8)\n",
        "  elif vendedor.endswith('5a'):\n",
        "    id_vendedor_2.append(9)\n",
        "  elif vendedor.endswith('87'):\n",
        "    id_vendedor_2.append(10)"
      ],
      "execution_count": 24,
      "outputs": []
    },
    {
      "cell_type": "code",
      "metadata": {
        "id": "qU-rvovYs5ZL"
      },
      "source": [
        "dados_account_balance.insert(2, 'numero_vendedor', value=id_vendedor_2)"
      ],
      "execution_count": null,
      "outputs": []
    },
    {
      "cell_type": "code",
      "metadata": {
        "id": "mgWodCt9dfGZ",
        "outputId": "6ccf2864-e707-4f46-d098-1a3643474b5c",
        "colab": {
          "base_uri": "https://localhost:8080/",
          "height": 204
        }
      },
      "source": [
        "dados_account_balance.head()"
      ],
      "execution_count": 30,
      "outputs": [
        {
          "output_type": "execute_result",
          "data": {
            "text/html": [
              "<div>\n",
              "<style scoped>\n",
              "    .dataframe tbody tr th:only-of-type {\n",
              "        vertical-align: middle;\n",
              "    }\n",
              "\n",
              "    .dataframe tbody tr th {\n",
              "        vertical-align: top;\n",
              "    }\n",
              "\n",
              "    .dataframe thead th {\n",
              "        text-align: right;\n",
              "    }\n",
              "</style>\n",
              "<table border=\"1\" class=\"dataframe\">\n",
              "  <thead>\n",
              "    <tr style=\"text-align: right;\">\n",
              "      <th></th>\n",
              "      <th>_id</th>\n",
              "      <th>account_id</th>\n",
              "      <th>numero_vendedor</th>\n",
              "      <th>created_at</th>\n",
              "      <th>available_at</th>\n",
              "      <th>amount_moved</th>\n",
              "      <th>fee</th>\n",
              "      <th>reference_id</th>\n",
              "      <th>movement_type</th>\n",
              "    </tr>\n",
              "  </thead>\n",
              "  <tbody>\n",
              "    <tr>\n",
              "      <th>0</th>\n",
              "      <td>mgif3fl5d47hbv261zhnn4qd</td>\n",
              "      <td>5f50e19a299538c596304d31</td>\n",
              "      <td>6</td>\n",
              "      <td>2019-07-14</td>\n",
              "      <td>2019-07-14</td>\n",
              "      <td>-590.77</td>\n",
              "      <td>NaN</td>\n",
              "      <td>r7vbgxfc2rgpc0ltewvih5oq</td>\n",
              "      <td>bank_transfer</td>\n",
              "    </tr>\n",
              "    <tr>\n",
              "      <th>1</th>\n",
              "      <td>e0pmbrvrzybyjqg4v8u2efyb</td>\n",
              "      <td>5f50e19a299538c596304d31</td>\n",
              "      <td>6</td>\n",
              "      <td>2019-08-09</td>\n",
              "      <td>2019-08-09</td>\n",
              "      <td>-57.90</td>\n",
              "      <td>NaN</td>\n",
              "      <td>whje4gkeexcjvis665xbg0t7</td>\n",
              "      <td>bank_transfer</td>\n",
              "    </tr>\n",
              "    <tr>\n",
              "      <th>2</th>\n",
              "      <td>1ni2g3yptbsfwotx3p61h37e</td>\n",
              "      <td>5f50e19a299538c596304d31</td>\n",
              "      <td>6</td>\n",
              "      <td>2019-08-12</td>\n",
              "      <td>2019-08-12</td>\n",
              "      <td>-590.76</td>\n",
              "      <td>NaN</td>\n",
              "      <td>3v5wllyy9q7x9ovswzy7xp11</td>\n",
              "      <td>bank_transfer</td>\n",
              "    </tr>\n",
              "    <tr>\n",
              "      <th>3</th>\n",
              "      <td>lmrrvcmft78s93vkdd4ldse3</td>\n",
              "      <td>5f50e19a299538c596304d31</td>\n",
              "      <td>6</td>\n",
              "      <td>2019-08-13</td>\n",
              "      <td>2019-08-13</td>\n",
              "      <td>-196.32</td>\n",
              "      <td>NaN</td>\n",
              "      <td>31c0f91nehloocbn0xhecj2c</td>\n",
              "      <td>bank_transfer</td>\n",
              "    </tr>\n",
              "    <tr>\n",
              "      <th>4</th>\n",
              "      <td>8v35bfebp8vwe1jteo3zassg</td>\n",
              "      <td>5f50e19a299538c596304d31</td>\n",
              "      <td>6</td>\n",
              "      <td>2019-09-11</td>\n",
              "      <td>2019-09-11</td>\n",
              "      <td>-57.88</td>\n",
              "      <td>NaN</td>\n",
              "      <td>md9lxf7w7l75w7u2gq4w7q3z</td>\n",
              "      <td>bank_transfer</td>\n",
              "    </tr>\n",
              "  </tbody>\n",
              "</table>\n",
              "</div>"
            ],
            "text/plain": [
              "                        _id  ...  movement_type\n",
              "0  mgif3fl5d47hbv261zhnn4qd  ...  bank_transfer\n",
              "1  e0pmbrvrzybyjqg4v8u2efyb  ...  bank_transfer\n",
              "2  1ni2g3yptbsfwotx3p61h37e  ...  bank_transfer\n",
              "3  lmrrvcmft78s93vkdd4ldse3  ...  bank_transfer\n",
              "4  8v35bfebp8vwe1jteo3zassg  ...  bank_transfer\n",
              "\n",
              "[5 rows x 9 columns]"
            ]
          },
          "metadata": {
            "tags": []
          },
          "execution_count": 30
        }
      ]
    },
    {
      "cell_type": "markdown",
      "metadata": {
        "id": "CIP3pil6dzrT"
      },
      "source": [
        "Pronto. Inserção realizada, temos a nossa tabela acima. Nela vemos o código do vendedor, a quantidade de dinheiro que foi tranferida e a data.\n",
        "\n",
        "Vamos abrir a tabela bank_tranfers também e analisar conjuntamente, tendo em vista que ambas se tratam de transações bancárias.\n",
        "\n",
        "Porém vamos realizar o mesmo procedimento para adicionar uma nova coluna de identificação do vendedor.\n",
        "Lembrando que nosso objeto de análise será focado no vendedor 6, que foi o que mais teve lucro."
      ]
    },
    {
      "cell_type": "code",
      "metadata": {
        "id": "2xP7yy8neE1G"
      },
      "source": [
        "#Vamos realizar o loop novamente alterando o nome do dataset:\n",
        "\n",
        "id_vendedor_3 = []\n",
        "for vendedor in dados_bank_transfers['account_id']:\n",
        "  if vendedor.endswith('50'):\n",
        "    id_vendedor_3.append(1)\n",
        "  elif vendedor.endswith('d7'):\n",
        "    id_vendedor_3.append(2)\n",
        "  elif vendedor.endswith('43'):\n",
        "    id_vendedor_3.append(3)\n",
        "  elif vendedor.endswith('2c'):\n",
        "    id_vendedor_3.append(4)\n",
        "  elif vendedor.endswith('d8'):\n",
        "    id_vendedor_3.append(5)\n",
        "  elif vendedor.endswith('31'):\n",
        "    id_vendedor_3.append(6)\n",
        "  elif vendedor.endswith('81'):\n",
        "    id_vendedor_3.append(7)\n",
        "  elif vendedor.endswith('ff'):\n",
        "    id_vendedor_3.append(8)\n",
        "  elif vendedor.endswith('5a'):\n",
        "    id_vendedor_3.append(9)\n",
        "  elif vendedor.endswith('87'):\n",
        "    id_vendedor_3.append(10)"
      ],
      "execution_count": 32,
      "outputs": []
    },
    {
      "cell_type": "code",
      "metadata": {
        "id": "vzE3qrZLfGk-"
      },
      "source": [
        "dados_bank_transfers.insert(2, 'numero_vendedor', value=id_vendedor_3)"
      ],
      "execution_count": 33,
      "outputs": []
    },
    {
      "cell_type": "code",
      "metadata": {
        "id": "BPXY1S1AfMsn",
        "outputId": "7c289fee-0c6e-40a6-9dfd-dc024b2e1d86",
        "colab": {
          "base_uri": "https://localhost:8080/",
          "height": 224
        }
      },
      "source": [
        "dados_bank_transfers.head()"
      ],
      "execution_count": 34,
      "outputs": [
        {
          "output_type": "execute_result",
          "data": {
            "text/html": [
              "<div>\n",
              "<style scoped>\n",
              "    .dataframe tbody tr th:only-of-type {\n",
              "        vertical-align: middle;\n",
              "    }\n",
              "\n",
              "    .dataframe tbody tr th {\n",
              "        vertical-align: top;\n",
              "    }\n",
              "\n",
              "    .dataframe thead th {\n",
              "        text-align: right;\n",
              "    }\n",
              "</style>\n",
              "<table border=\"1\" class=\"dataframe\">\n",
              "  <thead>\n",
              "    <tr style=\"text-align: right;\">\n",
              "      <th></th>\n",
              "      <th>_id</th>\n",
              "      <th>account_id</th>\n",
              "      <th>numero_vendedor</th>\n",
              "      <th>created_at</th>\n",
              "      <th>available_at</th>\n",
              "      <th>amount_transferred</th>\n",
              "      <th>status</th>\n",
              "      <th>account_number</th>\n",
              "      <th>bank_code</th>\n",
              "      <th>rounting_number</th>\n",
              "      <th>document_number</th>\n",
              "    </tr>\n",
              "  </thead>\n",
              "  <tbody>\n",
              "    <tr>\n",
              "      <th>0</th>\n",
              "      <td>hpeejoc3bi544y4rsy0h5wes</td>\n",
              "      <td>5f50e19aaef534168542f82c</td>\n",
              "      <td>4</td>\n",
              "      <td>2019-06-13</td>\n",
              "      <td>NaN</td>\n",
              "      <td>9.71</td>\n",
              "      <td>FAILED</td>\n",
              "      <td>10925769-0</td>\n",
              "      <td>982</td>\n",
              "      <td>4533</td>\n",
              "      <td>82000170668</td>\n",
              "    </tr>\n",
              "    <tr>\n",
              "      <th>1</th>\n",
              "      <td>45uozt5criyxvyis9ne8f3b7</td>\n",
              "      <td>5f50e19afb1971f2b473a181</td>\n",
              "      <td>7</td>\n",
              "      <td>2020-04-18</td>\n",
              "      <td>NaN</td>\n",
              "      <td>59.33</td>\n",
              "      <td>FAILED</td>\n",
              "      <td>07976606-3</td>\n",
              "      <td>171</td>\n",
              "      <td>5996</td>\n",
              "      <td>16771837491</td>\n",
              "    </tr>\n",
              "    <tr>\n",
              "      <th>2</th>\n",
              "      <td>tdgnu4yx1s69hj6bvbif19sn</td>\n",
              "      <td>5f50e19ab61a843cbaaf0d5a</td>\n",
              "      <td>9</td>\n",
              "      <td>2020-11-11</td>\n",
              "      <td>NaN</td>\n",
              "      <td>170.20</td>\n",
              "      <td>FAILED</td>\n",
              "      <td>46255072-4</td>\n",
              "      <td>320</td>\n",
              "      <td>892</td>\n",
              "      <td>22801179944</td>\n",
              "    </tr>\n",
              "    <tr>\n",
              "      <th>3</th>\n",
              "      <td>r70banseae19j2fmhiidwbm5</td>\n",
              "      <td>5f50e19a60ba4ea5c03c8c50</td>\n",
              "      <td>1</td>\n",
              "      <td>2021-01-11</td>\n",
              "      <td>NaN</td>\n",
              "      <td>292.18</td>\n",
              "      <td>FAILED</td>\n",
              "      <td>51165044</td>\n",
              "      <td>672</td>\n",
              "      <td>2672</td>\n",
              "      <td>47148953917867</td>\n",
              "    </tr>\n",
              "    <tr>\n",
              "      <th>4</th>\n",
              "      <td>r7vbgxfc2rgpc0ltewvih5oq</td>\n",
              "      <td>5f50e19a299538c596304d31</td>\n",
              "      <td>6</td>\n",
              "      <td>2019-07-14</td>\n",
              "      <td>2019-07-14</td>\n",
              "      <td>590.77</td>\n",
              "      <td>COMPLETED</td>\n",
              "      <td>01416423-0</td>\n",
              "      <td>658</td>\n",
              "      <td>1706</td>\n",
              "      <td>66017499733803</td>\n",
              "    </tr>\n",
              "  </tbody>\n",
              "</table>\n",
              "</div>"
            ],
            "text/plain": [
              "                        _id  ... document_number\n",
              "0  hpeejoc3bi544y4rsy0h5wes  ...     82000170668\n",
              "1  45uozt5criyxvyis9ne8f3b7  ...     16771837491\n",
              "2  tdgnu4yx1s69hj6bvbif19sn  ...     22801179944\n",
              "3  r70banseae19j2fmhiidwbm5  ...  47148953917867\n",
              "4  r7vbgxfc2rgpc0ltewvih5oq  ...  66017499733803\n",
              "\n",
              "[5 rows x 11 columns]"
            ]
          },
          "metadata": {
            "tags": []
          },
          "execution_count": 34
        }
      ]
    },
    {
      "cell_type": "markdown",
      "metadata": {
        "id": "12LU68n_vrcv"
      },
      "source": [
        "Coluna inserida, vamos focar no vendedor de número 6. \n",
        "Vamos à tabela payment e vamos relembrar o lucro total do vendedor 6:"
      ]
    },
    {
      "cell_type": "code",
      "metadata": {
        "id": "StS6pYBSv2iq",
        "outputId": "ba0e45ef-34ee-4444-bf36-fe9970f0aa48",
        "colab": {
          "base_uri": "https://localhost:8080/"
        }
      },
      "source": [
        "lucro_vendedor_6 = vendedor_6['amount_paid'].sum()\n",
        "print('Lucro do vendedor 6:', lucro_vendedor_6)"
      ],
      "execution_count": 79,
      "outputs": [
        {
          "output_type": "stream",
          "text": [
            "Lucro do vendedor 6: 26939.729999999996\n"
          ],
          "name": "stdout"
        }
      ]
    },
    {
      "cell_type": "markdown",
      "metadata": {
        "id": "1Vn9gQL7wSj9"
      },
      "source": [
        "Temos o valor de 26.939,73 reais como o lucro total do vendedor 6. Porém temos de deduzir a taxa, o marketplace_fee, que corresponde a 1% do valor do produto.\n",
        "\n",
        "Vamos calcular de quanto foi e então deduzir desse valor, para então sabermos o lucro total do vendedor 6:"
      ]
    },
    {
      "cell_type": "code",
      "metadata": {
        "id": "d1loaC-bwr5r",
        "outputId": "6c679e00-7c6d-4266-ebdb-0201d9cba926",
        "colab": {
          "base_uri": "https://localhost:8080/"
        }
      },
      "source": [
        "marketplace_fee_vendedor_6 = vendedor_6['marketplace_fee'].sum()\n",
        "print('Taxa total:', marketplace_fee_vendedor_6)"
      ],
      "execution_count": 77,
      "outputs": [
        {
          "output_type": "stream",
          "text": [
            "Taxa total: 269.39000000000004\n"
          ],
          "name": "stdout"
        }
      ]
    },
    {
      "cell_type": "markdown",
      "metadata": {
        "id": "H9Y2PpnUx3Kx"
      },
      "source": [
        "Calculemos agora o lucro líquido descontando a taxa:"
      ]
    },
    {
      "cell_type": "code",
      "metadata": {
        "id": "2bwlL6pHx8xg",
        "outputId": "f9dcdcc8-9e55-4bd2-c60c-a5391e678b26",
        "colab": {
          "base_uri": "https://localhost:8080/"
        }
      },
      "source": [
        "lucro_liquido_vendedor_6 = lucro_total_vendedor_6 - marketplace_fee_vendedor_6\n",
        "print('Lucro líquido:', lucro_liquido_vendedor_6)"
      ],
      "execution_count": 80,
      "outputs": [
        {
          "output_type": "stream",
          "text": [
            "Lucro líquido: 26670.339999999997\n"
          ],
          "name": "stdout"
        }
      ]
    },
    {
      "cell_type": "markdown",
      "metadata": {
        "id": "kBnyI3LsyrtU"
      },
      "source": [
        "Esse foi o lucro líquido do vendedor 6: 26.670, 34 reais.\n",
        "\n",
        "Vamos analisar agora a transferência dessa quantia pela tabela bannk_tranfers:"
      ]
    },
    {
      "cell_type": "code",
      "metadata": {
        "id": "7hhsvwvZzeTZ"
      },
      "source": [
        "transferencias_vendedor_6 = dados_bank_transfers[dados_bank_transfers['numero_vendedor'] == 6].sort_values('created_at', ascending = True)"
      ],
      "execution_count": 92,
      "outputs": []
    },
    {
      "cell_type": "code",
      "metadata": {
        "id": "c9BHgw6zoryE",
        "outputId": "06a14802-5f07-4c6e-e86b-fe6ee5aebd68",
        "colab": {
          "base_uri": "https://localhost:8080/",
          "height": 407
        }
      },
      "source": [
        "ax = transferencias_vendedor_6.plot(x='created_at', y='amount_transferred', figsize=(12,6))\n",
        "plt.title('Transferências bancárias realizadas para o vendedor 6', fontsize = 16)\n",
        "plt.xlabel('Data')\n",
        "plt.ylabel('Valor em reais')\n",
        "ax.yaxis.set_major_formatter(ticker.StrMethodFormatter('R${x:,.2f}'))\n",
        "\n",
        "plt.show()"
      ],
      "execution_count": 96,
      "outputs": [
        {
          "output_type": "display_data",
          "data": {
            "image/png": "[encoded data removed]",
            "text/plain": [
              "<Figure size 864x432 with 1 Axes>"
            ]
          },
          "metadata": {
            "tags": [],
            "needs_background": "light"
          }
        }
      ]
    },
    {
      "cell_type": "markdown",
      "metadata": {
        "id": "Qh2Fbw5w25Am"
      },
      "source": [
        "Vamos calcular agora o valor total transferido:"
      ]
    },
    {
      "cell_type": "code",
      "metadata": {
        "id": "bojWqvU4pH0X",
        "outputId": "ff4ad48d-d168-472f-d210-0372b3e7a2bd",
        "colab": {
          "base_uri": "https://localhost:8080/"
        }
      },
      "source": [
        "transferencias_vendedor_6['amount_transferred'].sum()"
      ],
      "execution_count": 44,
      "outputs": [
        {
          "output_type": "execute_result",
          "data": {
            "text/plain": [
              "26546.290000000005"
            ]
          },
          "metadata": {
            "tags": []
          },
          "execution_count": 44
        }
      ]
    },
    {
      "cell_type": "markdown",
      "metadata": {
        "id": "j9vF8_IY3DlA"
      },
      "source": [
        "Bom, o valor de lucro totl que foi calculado acima, foi de 26.670, 34 reais e o valor total de transferência foi de 26.546,29 reais.\n",
        "\n",
        "A conta não fecha. \n",
        "\n",
        "Duas hipóteses para o ocorrido: \n",
        "\n",
        "1° Olhando na tabela, a coluna status possui dois valores: 'COMPLETED' e 'FAILED'.\n",
        "Considerou-se todas as linhas para fazer o cálculo, porém se uma linha tiver o status 'FAILED', o cálculo está errado.\n",
        "Resolver isso é fácil: basta extrair as linhas que possuem apenas o status 'COMPLETED'.\n",
        "\n",
        "2° Talvez até o presente momento, simplesmente a quantia que falta para a conta fechar não está presente em conta ainda.\n",
        "\n",
        "Vamos verificar a primeira hipótese:"
      ]
    },
    {
      "cell_type": "code",
      "metadata": {
        "id": "DgV6RTtFqMpY",
        "outputId": "ba575cce-f19b-4905-8810-33511970a22f",
        "colab": {
          "base_uri": "https://localhost:8080/"
        }
      },
      "source": [
        "completo = dados_bank_transfers.query(\"numero_vendedor == 6 and status == 'COMPLETED'\")\n",
        "total = completo['amount_transferred'].sum()\n",
        "print('Valor transferido:', total)"
      ],
      "execution_count": 99,
      "outputs": [
        {
          "output_type": "stream",
          "text": [
            "Valor transferido: 26546.290000000005\n"
          ],
          "name": "stdout"
        }
      ]
    },
    {
      "cell_type": "markdown",
      "metadata": {
        "id": "oMQfdGB24i9q"
      },
      "source": [
        "O valor bate exatamente com o valor do primeiro cálculo, considerando-se a coluna status. Logo, todas as transferências realizadas foram completas, nenhuma falhou.\n",
        "\n",
        "O valor que falta, associaremos à hipótese 2.\n",
        "\n"
      ]
    },
    {
      "cell_type": "markdown",
      "metadata": {
        "id": "EbW02NXW46Eb"
      },
      "source": [
        "Para finzalizar o relatório, vamos fazer uma análise rápida do vendedor que obteve menor lucro:"
      ]
    },
    {
      "cell_type": "code",
      "metadata": {
        "id": "cxuCGTBg5Cud",
        "outputId": "75ca2616-98a8-4a28-a3bd-79d400efedf6",
        "colab": {
          "base_uri": "https://localhost:8080/",
          "height": 411
        }
      },
      "source": [
        "plt.figure(figsize=(12,6))\n",
        "ax = sns.barplot(x = venda_total_por_vendedor.index, y='amount_paid', data=venda_total_por_vendedor, palette='Accent')\n",
        "ax.set_title('Valor total de venda de cada vendedor', fontsize=16)\n",
        "ax.yaxis.set_major_formatter(ticker.StrMethodFormatter('R${x:,.2f}'))\n",
        "ax.set_xlabel('Código do vendedor', fontsize=14 )\n",
        "ax.set_ylabel('Valor em reais', fontsize=14)\n",
        "plt.show()"
      ],
      "execution_count": 101,
      "outputs": [
        {
          "output_type": "display_data",
          "data": {
            "image/png": "[encoded data removed]",
            "text/plain": [
              "<Figure size 864x432 with 1 Axes>"
            ]
          },
          "metadata": {
            "tags": [],
            "needs_background": "light"
          }
        }
      ]
    },
    {
      "cell_type": "markdown",
      "metadata": {
        "id": "eJf_n6gh5gE1"
      },
      "source": [
        "Observando o gráfico, podemos observar que o vendedor que obteve menor lucro foi o 2.\n",
        "\n",
        "Vejamos o lucro desse vendedor:"
      ]
    },
    {
      "cell_type": "code",
      "metadata": {
        "id": "-UKum3wA5pDs",
        "outputId": "e61c09ad-078d-44c5-ab9e-5a8a10d9e51b",
        "colab": {
          "base_uri": "https://localhost:8080/"
        }
      },
      "source": [
        "venda_total_por_vendedor.loc[2]"
      ],
      "execution_count": 106,
      "outputs": [
        {
          "output_type": "execute_result",
          "data": {
            "text/plain": [
              "amount_paid        3103.50\n",
              "marketplace_fee      31.05\n",
              "Name: 2, dtype: float64"
            ]
          },
          "metadata": {
            "tags": []
          },
          "execution_count": 106
        }
      ]
    },
    {
      "cell_type": "markdown",
      "metadata": {
        "id": "F-7kZwEQ562Z"
      },
      "source": [
        "O lucro total desse vendedor descontando a taxa, foi de R$ 3.072,45 reais.\n",
        "\n",
        "Vamos ver a distribuição gráfica do seu lucro:"
      ]
    },
    {
      "cell_type": "code",
      "metadata": {
        "id": "Okuqp7B17f30"
      },
      "source": [
        "vendedor_2 = dados_payments[dados_payments['numero_vendedor'] == 2]"
      ],
      "execution_count": 111,
      "outputs": []
    },
    {
      "cell_type": "code",
      "metadata": {
        "id": "8iJUg5qA28_H",
        "outputId": "3298df21-3aff-4623-d2b5-4404c41c14ca",
        "colab": {
          "base_uri": "https://localhost:8080/",
          "height": 299
        }
      },
      "source": [
        "ax = sns.boxplot(data = vendedor_2, x='amount_paid', color = '#ccebc5' )\n",
        "ax.set_xlabel('Valor total de venda', fontsize=14 )\n",
        "ax.set_title('Distribuição do lucro dos vendedores')\n",
        "plt.show()"
      ],
      "execution_count": 117,
      "outputs": [
        {
          "output_type": "display_data",
          "data": {
            "image/png": "[encoded data removed]",
            "text/plain": [
              "<Figure size 432x288 with 1 Axes>"
            ]
          },
          "metadata": {
            "tags": [],
            "needs_background": "light"
          }
        }
      ]
    },
    {
      "cell_type": "markdown",
      "metadata": {
        "id": "0AIbvux4-0M2"
      },
      "source": [
        "Percebe-se que o menor valor de venda do vendedor 2 foi de 60,00 reais, e seu valor máximo de 160,00."
      ]
    },
    {
      "cell_type": "markdown",
      "metadata": {
        "id": "n4P9iRvx_Dud"
      },
      "source": [
        "# Conclusão\n",
        "\n",
        "Finalizando esse relatório, passamos por alguns pontos importantes, conhecemos de onde são os vendedores, de onde são os clientes, vimos os vendedores que mais venderam em produtos, assim como vendedores que mais venderam em reais.\n",
        "\n",
        "À organização, fica a sugestão de conhecer mais o vendedor 2 (id = 5f50e19a836e1cd15acb2fd7) e tentar descobrir o porque de pouco lucro. Talvez investir mais em treinamentos, em marketing.\n",
        "Com relação ao vendedor 6 (id = 5f50e19a299538c596304d31), parabenizá-lo pelo seu excelente desempenho. Continuar estimulando o vendedor através de cursos e treinamentos para que esse desempenho seja mantido e/ou aumentado.\n",
        "\n",
        "**Obs**.: Para a análise, parte-se do pressuposto que todos os vendedores estejam vendendo a mesma coisa, como livros, sapatos, roupas, por exemplo, em vários dias. Essa hipótese foi criada para auxiliar nas análises e ajudar nas devidas comparações. \n",
        "\n",
        "Sabemos que o vendedor 6 vendeu mais em reais porém menos em produtos. Pois vendeu num dia mais que o vendedor 2 (que vendeu mais em produtos e menos em reais). Então, a análise é diária. Por mais que o vendedor 2 tenha vendido mais produtos ao logo de todos os dias, num mesmo dia, provavelmente, o vendedor 6 vendeu mais livros, por exemplo, vendendo assim, mais em reais e tendo um lucro maior.\n",
        "\n",
        "\n",
        "Espero que esse relatório seja útil e as análises satisfatórias.\n",
        "\n",
        "Leonardo Guimarães."
      ]
    }
  ]
}