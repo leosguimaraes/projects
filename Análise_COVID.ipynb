{
  "nbformat": 4,
  "nbformat_minor": 0,
  "metadata": {
    "colab": {
      "name": "Análise_COVID.ipynb",
      "provenance": [],
      "collapsed_sections": []
    },
    "kernelspec": {
      "name": "python3",
      "display_name": "Python 3"
    }
  },
  "cells": [
    {
      "cell_type": "markdown",
      "metadata": {
        "id": "RsqPNiHpEG9i"
      },
      "source": [
        "# Análise de dados do COVID"
      ]
    },
    {
      "cell_type": "markdown",
      "metadata": {
        "id": "cYTgIGtw49MW"
      },
      "source": [
        "Os coronavírus são uma grande família de vírus comuns em muitas espécies diferentes de animais, incluindo camelos, gado, gatos e morcegos. Raramente, os coronavírus que infectam animais podem infectar pessoas, como exemplo do MERS-CoV e SARS-CoV. Recentemente, em dezembro de 2019, houve a transmissão de um novo coronavírus (SARS-CoV-2), o qual foi identificado em Wuhan na China e causou a COVID-19, sendo em seguida disseminada e transmitida pessoa a pessoa.\n",
        "\n",
        "A COVID-19 é uma doença causada pelo coronavírus, denominado SARS-CoV-2, que apresenta um espectro clínico variando de infecções assintomáticas a quadros graves. (Fonte: coronavirus.saude.gov.br)"
      ]
    },
    {
      "cell_type": "markdown",
      "metadata": {
        "id": "Vz6BFSUU5IBU"
      },
      "source": [
        "Nesse projeto, iremos analisar a distribuição do covid na região Sudeste, em especial no estado do Rio de Janeiro. Casos confirmados, número de mortes, mortes por estado, entre outros.\n",
        "Utilizaremos uma base de dados fornecida pelo projeto Brasil.IO.\n",
        "Esse dataset possui os casos relatados pelos boletins das Secretarias Estaduais de Saúde e, por isso, não possui valores para todos os municípios e todas as datas.\n",
        "\n",
        "O Brasil.IO é um portal de dados abertos acessíveis, construído pelo programador Álvaro Justen.\n",
        "A missão do portal é tornar acessíveis os dados brasileiros de interesse público, tendo como principal valor a transparência e colaboração. \n",
        "Segundo o portal, restringir acesso a dados públicos é elitizar a democracia.\n",
        "\n",
        "\n",
        "\n",
        "---\n",
        "\n",
        "\n"
      ]
    },
    {
      "cell_type": "markdown",
      "metadata": {
        "id": "dagnEAq17UfS"
      },
      "source": [
        "# Importando Bibliotecas"
      ]
    },
    {
      "cell_type": "markdown",
      "metadata": {
        "id": "6VwMsPUYERSu"
      },
      "source": [
        "Vamos importar algumas bibliotecas que usaremos ao longo de nossa análises:"
      ]
    },
    {
      "cell_type": "code",
      "metadata": {
        "id": "PeLQVB3a7qFP"
      },
      "source": [
        "import pandas as pd\n",
        "import gzip\n",
        "import matplotlib.pyplot as plt\n",
        "import matplotlib.ticker as ticker\n",
        "import seaborn as sns"
      ],
      "execution_count": 111,
      "outputs": []
    },
    {
      "cell_type": "markdown",
      "metadata": {
        "id": "ej8q9BJ_EgHn"
      },
      "source": [
        "Vamos iniciar nossa análise salvando a base de dados na variável 'dados'.\n",
        "Por ser grande, o arquivo está no formato 'gzip'. \n",
        "Vamos usar a biblioteca gzip para abrir a base de dados:"
      ]
    },
    {
      "cell_type": "code",
      "metadata": {
        "id": "bHaUdctm78By"
      },
      "source": [
        "arquivo = gzip.open('/content/COVID19-BRASILIO-06-11-2020.csv.gz')\n",
        "dados = pd.read_csv(arquivo)\n",
        "\n"
      ],
      "execution_count": 2,
      "outputs": []
    },
    {
      "cell_type": "markdown",
      "metadata": {
        "id": "w6rxZYfk7rJ3"
      },
      "source": [
        "Vamos verificar o tamanho do nosso dataset:"
      ]
    },
    {
      "cell_type": "code",
      "metadata": {
        "id": "zvSt1vH17t2l",
        "colab": {
          "base_uri": "https://localhost:8080/"
        },
        "outputId": "ee68dba7-43c1-436c-b057-2a17456c43c8"
      },
      "source": [
        "tamanho = dados.shape\n",
        "print('Número de linhas:', tamanho[0])\n",
        "print('Número de colunas:', tamanho[1])"
      ],
      "execution_count": 3,
      "outputs": [
        {
          "output_type": "stream",
          "text": [
            "Número de linhas: 936870\n",
            "Número de colunas: 13\n"
          ],
          "name": "stdout"
        }
      ]
    },
    {
      "cell_type": "markdown",
      "metadata": {
        "id": "nLis-Nwq8aIH"
      },
      "source": [
        "Nosso dataset possui um total de 936.870 observações agrupadas em 13 colunas"
      ]
    },
    {
      "cell_type": "markdown",
      "metadata": {
        "id": "e8i4bG6p7fj9"
      },
      "source": [
        "Vamos extrair as 5 primeiras linhas do nosso dataset para visualizarmos como estão os dados:"
      ]
    },
    {
      "cell_type": "code",
      "metadata": {
        "id": "V1-Sm4CsCUEl",
        "colab": {
          "base_uri": "https://localhost:8080/",
          "height": 309
        },
        "outputId": "58dfec8e-7ed4-4fd1-8288-df3b268a0c70"
      },
      "source": [
        "dados.head()"
      ],
      "execution_count": 4,
      "outputs": [
        {
          "output_type": "execute_result",
          "data": {
            "text/html": [
              "<div>\n",
              "<style scoped>\n",
              "    .dataframe tbody tr th:only-of-type {\n",
              "        vertical-align: middle;\n",
              "    }\n",
              "\n",
              "    .dataframe tbody tr th {\n",
              "        vertical-align: top;\n",
              "    }\n",
              "\n",
              "    .dataframe thead th {\n",
              "        text-align: right;\n",
              "    }\n",
              "</style>\n",
              "<table border=\"1\" class=\"dataframe\">\n",
              "  <thead>\n",
              "    <tr style=\"text-align: right;\">\n",
              "      <th></th>\n",
              "      <th>date</th>\n",
              "      <th>state</th>\n",
              "      <th>city</th>\n",
              "      <th>place_type</th>\n",
              "      <th>confirmed</th>\n",
              "      <th>deaths</th>\n",
              "      <th>order_for_place</th>\n",
              "      <th>is_last</th>\n",
              "      <th>estimated_population_2019</th>\n",
              "      <th>estimated_population</th>\n",
              "      <th>city_ibge_code</th>\n",
              "      <th>confirmed_per_100k_inhabitants</th>\n",
              "      <th>death_rate</th>\n",
              "    </tr>\n",
              "  </thead>\n",
              "  <tbody>\n",
              "    <tr>\n",
              "      <th>0</th>\n",
              "      <td>2020-11-05</td>\n",
              "      <td>AC</td>\n",
              "      <td>NaN</td>\n",
              "      <td>state</td>\n",
              "      <td>31248</td>\n",
              "      <td>697</td>\n",
              "      <td>234</td>\n",
              "      <td>True</td>\n",
              "      <td>881935.0</td>\n",
              "      <td>894470.0</td>\n",
              "      <td>12.0</td>\n",
              "      <td>3493.46540</td>\n",
              "      <td>0.0223</td>\n",
              "    </tr>\n",
              "    <tr>\n",
              "      <th>1</th>\n",
              "      <td>2020-11-04</td>\n",
              "      <td>AC</td>\n",
              "      <td>NaN</td>\n",
              "      <td>state</td>\n",
              "      <td>31218</td>\n",
              "      <td>696</td>\n",
              "      <td>233</td>\n",
              "      <td>False</td>\n",
              "      <td>881935.0</td>\n",
              "      <td>894470.0</td>\n",
              "      <td>12.0</td>\n",
              "      <td>3490.11146</td>\n",
              "      <td>0.0223</td>\n",
              "    </tr>\n",
              "    <tr>\n",
              "      <th>2</th>\n",
              "      <td>2020-11-03</td>\n",
              "      <td>AC</td>\n",
              "      <td>NaN</td>\n",
              "      <td>state</td>\n",
              "      <td>30962</td>\n",
              "      <td>695</td>\n",
              "      <td>232</td>\n",
              "      <td>False</td>\n",
              "      <td>881935.0</td>\n",
              "      <td>894470.0</td>\n",
              "      <td>12.0</td>\n",
              "      <td>3461.49116</td>\n",
              "      <td>0.0224</td>\n",
              "    </tr>\n",
              "    <tr>\n",
              "      <th>3</th>\n",
              "      <td>2020-11-02</td>\n",
              "      <td>AC</td>\n",
              "      <td>NaN</td>\n",
              "      <td>state</td>\n",
              "      <td>30954</td>\n",
              "      <td>693</td>\n",
              "      <td>231</td>\n",
              "      <td>False</td>\n",
              "      <td>881935.0</td>\n",
              "      <td>894470.0</td>\n",
              "      <td>12.0</td>\n",
              "      <td>3460.59678</td>\n",
              "      <td>0.0224</td>\n",
              "    </tr>\n",
              "    <tr>\n",
              "      <th>4</th>\n",
              "      <td>2020-11-01</td>\n",
              "      <td>AC</td>\n",
              "      <td>NaN</td>\n",
              "      <td>state</td>\n",
              "      <td>30951</td>\n",
              "      <td>693</td>\n",
              "      <td>230</td>\n",
              "      <td>False</td>\n",
              "      <td>881935.0</td>\n",
              "      <td>894470.0</td>\n",
              "      <td>12.0</td>\n",
              "      <td>3460.26138</td>\n",
              "      <td>0.0224</td>\n",
              "    </tr>\n",
              "  </tbody>\n",
              "</table>\n",
              "</div>"
            ],
            "text/plain": [
              "         date state  ... confirmed_per_100k_inhabitants death_rate\n",
              "0  2020-11-05    AC  ...                     3493.46540     0.0223\n",
              "1  2020-11-04    AC  ...                     3490.11146     0.0223\n",
              "2  2020-11-03    AC  ...                     3461.49116     0.0224\n",
              "3  2020-11-02    AC  ...                     3460.59678     0.0224\n",
              "4  2020-11-01    AC  ...                     3460.26138     0.0224\n",
              "\n",
              "[5 rows x 13 columns]"
            ]
          },
          "metadata": {
            "tags": []
          },
          "execution_count": 4
        }
      ]
    },
    {
      "cell_type": "markdown",
      "metadata": {
        "id": "lMXyFCvuFGrH"
      },
      "source": [
        "Vamos agora ver o nome de cada coluna e o que cada uma significa:"
      ]
    },
    {
      "cell_type": "code",
      "metadata": {
        "id": "x3fkcGGdED2I",
        "colab": {
          "base_uri": "https://localhost:8080/"
        },
        "outputId": "840c1734-6495-4a7e-988e-eecc5f57f5cd"
      },
      "source": [
        "colunas = dados.columns\n",
        "print('Nome das colunas:', colunas)"
      ],
      "execution_count": 9,
      "outputs": [
        {
          "output_type": "stream",
          "text": [
            "Nome das colunas: Index(['date', 'state', 'city', 'place_type', 'confirmed', 'deaths',\n",
            "       'order_for_place', 'is_last', 'estimated_population_2019',\n",
            "       'estimated_population', 'city_ibge_code',\n",
            "       'confirmed_per_100k_inhabitants', 'death_rate'],\n",
            "      dtype='object')\n"
          ],
          "name": "stdout"
        }
      ]
    },
    {
      "cell_type": "markdown",
      "metadata": {
        "id": "b-JrPJXwF0Ep"
      },
      "source": [
        "\n",
        "\n",
        "*   **'date'**: data de coleta dos dados.\n",
        "*   **'state'**: sigla da unidade federativa.\n",
        "*   **'city'**: nome do município (pode estar em branco quando o registro é referente ao estado, pode ser preenchido com Importados/Indefinidos também).\n",
        "*   **'place_type'**: tipo de local que esse registro descreve, pode ser city ou state.\n",
        "*   **'confirmed'**: número de casos confirmados.\n",
        "*   **'deaths'**: número de mortes.\n",
        "*   **'order_for_place'**: número que identifica a ordem do registro para este local.\n",
        "*   **'is_last'**: campo pré-computado que diz se esse registro é o mais novo para esse local, pode ser True ou False.\n",
        "*   **'estimated_population_2019'**: população estimada para esse município/estado em 2019.\n",
        "*   **'estimed_population'**: população estimada para esse município/estado em 2020.\n",
        "*   **'city_ibge_code'**: código IBGE do local.\n",
        "*   **'confirmed_per_100k_inhabitants'**: número de casos confirmados por 100.000 habitantes (baseado em estimated_population).\n",
        "*   **'death_rate'**: taxa de mortalidade (mortes / confirmados).\n",
        "\n",
        "\n",
        "\n",
        "\n"
      ]
    },
    {
      "cell_type": "markdown",
      "metadata": {
        "id": "ar57Vdm8m9Rd"
      },
      "source": [
        "Vamos verificar a data inicial e final de aquisição dos dados:"
      ]
    },
    {
      "cell_type": "code",
      "metadata": {
        "colab": {
          "base_uri": "https://localhost:8080/",
          "height": 609
        },
        "id": "XBOQ463UnFeJ",
        "outputId": "902b63d2-d82f-4270-e076-f9e48f3aee94"
      },
      "source": [
        "dados.sort_values('date', ascending=True)"
      ],
      "execution_count": 5,
      "outputs": [
        {
          "output_type": "execute_result",
          "data": {
            "text/html": [
              "<div>\n",
              "<style scoped>\n",
              "    .dataframe tbody tr th:only-of-type {\n",
              "        vertical-align: middle;\n",
              "    }\n",
              "\n",
              "    .dataframe tbody tr th {\n",
              "        vertical-align: top;\n",
              "    }\n",
              "\n",
              "    .dataframe thead th {\n",
              "        text-align: right;\n",
              "    }\n",
              "</style>\n",
              "<table border=\"1\" class=\"dataframe\">\n",
              "  <thead>\n",
              "    <tr style=\"text-align: right;\">\n",
              "      <th></th>\n",
              "      <th>date</th>\n",
              "      <th>state</th>\n",
              "      <th>city</th>\n",
              "      <th>place_type</th>\n",
              "      <th>confirmed</th>\n",
              "      <th>deaths</th>\n",
              "      <th>order_for_place</th>\n",
              "      <th>is_last</th>\n",
              "      <th>estimated_population_2019</th>\n",
              "      <th>estimated_population</th>\n",
              "      <th>city_ibge_code</th>\n",
              "      <th>confirmed_per_100k_inhabitants</th>\n",
              "      <th>death_rate</th>\n",
              "    </tr>\n",
              "  </thead>\n",
              "  <tbody>\n",
              "    <tr>\n",
              "      <th>822225</th>\n",
              "      <td>2020-02-25</td>\n",
              "      <td>SP</td>\n",
              "      <td>NaN</td>\n",
              "      <td>state</td>\n",
              "      <td>1</td>\n",
              "      <td>0</td>\n",
              "      <td>1</td>\n",
              "      <td>False</td>\n",
              "      <td>45919049.0</td>\n",
              "      <td>46289333.0</td>\n",
              "      <td>35.0</td>\n",
              "      <td>0.00216</td>\n",
              "      <td>0.0000</td>\n",
              "    </tr>\n",
              "    <tr>\n",
              "      <th>923951</th>\n",
              "      <td>2020-02-25</td>\n",
              "      <td>SP</td>\n",
              "      <td>São Paulo</td>\n",
              "      <td>city</td>\n",
              "      <td>1</td>\n",
              "      <td>0</td>\n",
              "      <td>1</td>\n",
              "      <td>False</td>\n",
              "      <td>12252023.0</td>\n",
              "      <td>12325232.0</td>\n",
              "      <td>3550308.0</td>\n",
              "      <td>0.00811</td>\n",
              "      <td>0.0000</td>\n",
              "    </tr>\n",
              "    <tr>\n",
              "      <th>822224</th>\n",
              "      <td>2020-02-26</td>\n",
              "      <td>SP</td>\n",
              "      <td>NaN</td>\n",
              "      <td>state</td>\n",
              "      <td>1</td>\n",
              "      <td>0</td>\n",
              "      <td>2</td>\n",
              "      <td>False</td>\n",
              "      <td>45919049.0</td>\n",
              "      <td>46289333.0</td>\n",
              "      <td>35.0</td>\n",
              "      <td>0.00216</td>\n",
              "      <td>0.0000</td>\n",
              "    </tr>\n",
              "    <tr>\n",
              "      <th>923950</th>\n",
              "      <td>2020-02-26</td>\n",
              "      <td>SP</td>\n",
              "      <td>São Paulo</td>\n",
              "      <td>city</td>\n",
              "      <td>1</td>\n",
              "      <td>0</td>\n",
              "      <td>2</td>\n",
              "      <td>False</td>\n",
              "      <td>12252023.0</td>\n",
              "      <td>12325232.0</td>\n",
              "      <td>3550308.0</td>\n",
              "      <td>0.00811</td>\n",
              "      <td>0.0000</td>\n",
              "    </tr>\n",
              "    <tr>\n",
              "      <th>822223</th>\n",
              "      <td>2020-02-27</td>\n",
              "      <td>SP</td>\n",
              "      <td>NaN</td>\n",
              "      <td>state</td>\n",
              "      <td>1</td>\n",
              "      <td>0</td>\n",
              "      <td>3</td>\n",
              "      <td>False</td>\n",
              "      <td>45919049.0</td>\n",
              "      <td>46289333.0</td>\n",
              "      <td>35.0</td>\n",
              "      <td>0.00216</td>\n",
              "      <td>0.0000</td>\n",
              "    </tr>\n",
              "    <tr>\n",
              "      <th>...</th>\n",
              "      <td>...</td>\n",
              "      <td>...</td>\n",
              "      <td>...</td>\n",
              "      <td>...</td>\n",
              "      <td>...</td>\n",
              "      <td>...</td>\n",
              "      <td>...</td>\n",
              "      <td>...</td>\n",
              "      <td>...</td>\n",
              "      <td>...</td>\n",
              "      <td>...</td>\n",
              "      <td>...</td>\n",
              "      <td>...</td>\n",
              "    </tr>\n",
              "    <tr>\n",
              "      <th>116774</th>\n",
              "      <td>2020-11-05</td>\n",
              "      <td>BA</td>\n",
              "      <td>Iguaí</td>\n",
              "      <td>city</td>\n",
              "      <td>544</td>\n",
              "      <td>14</td>\n",
              "      <td>158</td>\n",
              "      <td>True</td>\n",
              "      <td>26916.0</td>\n",
              "      <td>26963.0</td>\n",
              "      <td>2913507.0</td>\n",
              "      <td>2017.57965</td>\n",
              "      <td>0.0257</td>\n",
              "    </tr>\n",
              "    <tr>\n",
              "      <th>178813</th>\n",
              "      <td>2020-11-05</td>\n",
              "      <td>MA</td>\n",
              "      <td>Bacurituba</td>\n",
              "      <td>city</td>\n",
              "      <td>69</td>\n",
              "      <td>0</td>\n",
              "      <td>176</td>\n",
              "      <td>True</td>\n",
              "      <td>5644.0</td>\n",
              "      <td>5670.0</td>\n",
              "      <td>2101350.0</td>\n",
              "      <td>1216.93122</td>\n",
              "      <td>0.0000</td>\n",
              "    </tr>\n",
              "    <tr>\n",
              "      <th>178989</th>\n",
              "      <td>2020-11-05</td>\n",
              "      <td>MA</td>\n",
              "      <td>Balsas</td>\n",
              "      <td>city</td>\n",
              "      <td>6530</td>\n",
              "      <td>74</td>\n",
              "      <td>200</td>\n",
              "      <td>True</td>\n",
              "      <td>94887.0</td>\n",
              "      <td>95929.0</td>\n",
              "      <td>2101400.0</td>\n",
              "      <td>6807.11776</td>\n",
              "      <td>0.0113</td>\n",
              "    </tr>\n",
              "    <tr>\n",
              "      <th>181225</th>\n",
              "      <td>2020-11-05</td>\n",
              "      <td>MA</td>\n",
              "      <td>Bom Lugar</td>\n",
              "      <td>city</td>\n",
              "      <td>305</td>\n",
              "      <td>3</td>\n",
              "      <td>189</td>\n",
              "      <td>True</td>\n",
              "      <td>16294.0</td>\n",
              "      <td>16438.0</td>\n",
              "      <td>2102077.0</td>\n",
              "      <td>1855.45687</td>\n",
              "      <td>0.0098</td>\n",
              "    </tr>\n",
              "    <tr>\n",
              "      <th>0</th>\n",
              "      <td>2020-11-05</td>\n",
              "      <td>AC</td>\n",
              "      <td>NaN</td>\n",
              "      <td>state</td>\n",
              "      <td>31248</td>\n",
              "      <td>697</td>\n",
              "      <td>234</td>\n",
              "      <td>True</td>\n",
              "      <td>881935.0</td>\n",
              "      <td>894470.0</td>\n",
              "      <td>12.0</td>\n",
              "      <td>3493.46540</td>\n",
              "      <td>0.0223</td>\n",
              "    </tr>\n",
              "  </tbody>\n",
              "</table>\n",
              "<p>936870 rows × 13 columns</p>\n",
              "</div>"
            ],
            "text/plain": [
              "              date state  ... confirmed_per_100k_inhabitants death_rate\n",
              "822225  2020-02-25    SP  ...                        0.00216     0.0000\n",
              "923951  2020-02-25    SP  ...                        0.00811     0.0000\n",
              "822224  2020-02-26    SP  ...                        0.00216     0.0000\n",
              "923950  2020-02-26    SP  ...                        0.00811     0.0000\n",
              "822223  2020-02-27    SP  ...                        0.00216     0.0000\n",
              "...            ...   ...  ...                            ...        ...\n",
              "116774  2020-11-05    BA  ...                     2017.57965     0.0257\n",
              "178813  2020-11-05    MA  ...                     1216.93122     0.0000\n",
              "178989  2020-11-05    MA  ...                     6807.11776     0.0113\n",
              "181225  2020-11-05    MA  ...                     1855.45687     0.0098\n",
              "0       2020-11-05    AC  ...                     3493.46540     0.0223\n",
              "\n",
              "[936870 rows x 13 columns]"
            ]
          },
          "metadata": {
            "tags": []
          },
          "execution_count": 5
        }
      ]
    },
    {
      "cell_type": "markdown",
      "metadata": {
        "id": "j51W580z-ULp"
      },
      "source": [
        "A primeira observação foi na data de 2020-02-25. Já a data final foi 2020-11-05 (essa já sabíamos, pois setamos para essa data).\n",
        "\n",
        "Então, as observações em estudo estão entre 25 de fevereiro a 05 de novembro."
      ]
    },
    {
      "cell_type": "markdown",
      "metadata": {
        "id": "EQW_-OzAosyA"
      },
      "source": [
        "Será que há observações de uma mesma data para todos os estados da federação?\n",
        "\n",
        "Vamos ver para a última data do nosso dataset, quantos estados possuem observações:"
      ]
    },
    {
      "cell_type": "code",
      "metadata": {
        "colab": {
          "base_uri": "https://localhost:8080/"
        },
        "id": "xGYeZvS2xnhO",
        "outputId": "c30d00cd-2523-4090-fe11-19bb8eabb93a"
      },
      "source": [
        "data_2020_05_11 = dados[dados['date'] == '2020-11-05']\n",
        "estados_ultima_data = data_2020_05_11['state'].value_counts()\n",
        "print('Estados:', estados_ultima_data.count())\n",
        "estados_ultima_data"
      ],
      "execution_count": 22,
      "outputs": [
        {
          "output_type": "stream",
          "text": [
            "Estados: 22\n"
          ],
          "name": "stdout"
        },
        {
          "output_type": "execute_result",
          "data": {
            "text/plain": [
              "SP    647\n",
              "RS    499\n",
              "BA    419\n",
              "GO    248\n",
              "PI    225\n",
              "MA    218\n",
              "CE    186\n",
              "PA    146\n",
              "SE     76\n",
              "AC     23\n",
              "MG      1\n",
              "PR      1\n",
              "RJ      1\n",
              "RO      1\n",
              "ES      1\n",
              "DF      1\n",
              "SC      1\n",
              "PB      1\n",
              "MT      1\n",
              "AL      1\n",
              "PE      1\n",
              "AM      1\n",
              "Name: state, dtype: int64"
            ]
          },
          "metadata": {
            "tags": []
          },
          "execution_count": 22
        }
      ]
    },
    {
      "cell_type": "markdown",
      "metadata": {
        "id": "6WPlCwAtqfst"
      },
      "source": [
        "Temos ao todo, para o dia 05/11, observações de 22 estados."
      ]
    },
    {
      "cell_type": "markdown",
      "metadata": {
        "id": "XdriKTFsqnmj"
      },
      "source": [
        "Para facilitar nossas análises, vamos agrupar os estados por região.\n",
        "\n",
        "Para isso, vamos criar uma nova coluna com as regiões do Brasil e então agrupar os estados por região:"
      ]
    },
    {
      "cell_type": "code",
      "metadata": {
        "id": "VJYX9fsQpjbA"
      },
      "source": [
        "regiao = []\n",
        "for estado in dados['state']:\n",
        "  if estado == 'RJ':\n",
        "    regiao.append('Sudeste')\n",
        "  if estado == 'SP':\n",
        "    regiao.append('Sudeste')\n",
        "  if estado == 'MG':\n",
        "    regiao.append('Sudeste')\n",
        "  if estado == 'ES':\n",
        "    regiao.append('Sudeste')\n",
        "  if estado == 'RS':\n",
        "    regiao.append('Sul')\n",
        "  if estado == 'PR':\n",
        "    regiao.append('Sul')\n",
        "  if estado == 'SC':\n",
        "    regiao.append('Sul')\n",
        "  if estado ==  'MS':\n",
        "    regiao.append('Centro Oeste')\n",
        "  if estado == 'MT':\n",
        "    regiao.append('Centro Oeste')\n",
        "  if estado == 'GO':\n",
        "    regiao.append('Centro Oeste')\n",
        "  if estado == 'DF':\n",
        "    regiao.append('Centro Oeste')\n",
        "  if estado == 'AP':\n",
        "    regiao.append('Norte')\n",
        "  if estado == 'RO':\n",
        "    regiao.append('Norte')\n",
        "  if estado == 'RR':\n",
        "    regiao.append('Norte')\n",
        "  if estado == 'AC':\n",
        "    regiao.append('Norte')\n",
        "  if estado == 'AM':\n",
        "    regiao.append('Norte')\n",
        "  if estado == 'TO':\n",
        "    regiao.append('Norte')\n",
        "  if estado == 'PA':\n",
        "    regiao.append('Norte')\n",
        "  if estado == 'MA':\n",
        "    regiao.append('Nordeste')\n",
        "  if estado == 'BA':\n",
        "    regiao.append('Nordeste')\n",
        "  if estado == 'AL':\n",
        "    regiao.append('Nordeste')\n",
        "  if estado == 'PI':\n",
        "    regiao.append('Nordeste')\n",
        "  if estado == 'PB':\n",
        "    regiao.append('Nordeste')\n",
        "  if estado == 'SE':\n",
        "    regiao.append('Nordeste')\n",
        "  if estado == 'PE':\n",
        "    regiao.append('Nordeste')\n",
        "  if estado == 'RN':\n",
        "    regiao.append('Nordeste')\n",
        "  if estado == 'CE':\n",
        "    regiao.append('Nordeste')\n",
        "\n"
      ],
      "execution_count": 56,
      "outputs": []
    },
    {
      "cell_type": "code",
      "metadata": {
        "id": "ZO2GYJbyyYqG"
      },
      "source": [
        "dados.insert(1, 'regiao', value=regiao)"
      ],
      "execution_count": 58,
      "outputs": []
    },
    {
      "cell_type": "markdown",
      "metadata": {
        "id": "RVSbmQidqltp"
      },
      "source": [
        "Vamos verificar se a coluna 'regiao' foi inserida:"
      ]
    },
    {
      "cell_type": "code",
      "metadata": {
        "colab": {
          "base_uri": "https://localhost:8080/",
          "height": 309
        },
        "id": "0zhKJ_R2270K",
        "outputId": "35109097-6f00-4cc0-a062-689ad1c81e1e"
      },
      "source": [
        "dados.head()"
      ],
      "execution_count": 60,
      "outputs": [
        {
          "output_type": "execute_result",
          "data": {
            "text/html": [
              "<div>\n",
              "<style scoped>\n",
              "    .dataframe tbody tr th:only-of-type {\n",
              "        vertical-align: middle;\n",
              "    }\n",
              "\n",
              "    .dataframe tbody tr th {\n",
              "        vertical-align: top;\n",
              "    }\n",
              "\n",
              "    .dataframe thead th {\n",
              "        text-align: right;\n",
              "    }\n",
              "</style>\n",
              "<table border=\"1\" class=\"dataframe\">\n",
              "  <thead>\n",
              "    <tr style=\"text-align: right;\">\n",
              "      <th></th>\n",
              "      <th>date</th>\n",
              "      <th>regiao</th>\n",
              "      <th>state</th>\n",
              "      <th>city</th>\n",
              "      <th>place_type</th>\n",
              "      <th>confirmed</th>\n",
              "      <th>deaths</th>\n",
              "      <th>order_for_place</th>\n",
              "      <th>is_last</th>\n",
              "      <th>estimated_population_2019</th>\n",
              "      <th>estimated_population</th>\n",
              "      <th>city_ibge_code</th>\n",
              "      <th>confirmed_per_100k_inhabitants</th>\n",
              "      <th>death_rate</th>\n",
              "    </tr>\n",
              "  </thead>\n",
              "  <tbody>\n",
              "    <tr>\n",
              "      <th>0</th>\n",
              "      <td>2020-11-05</td>\n",
              "      <td>Norte</td>\n",
              "      <td>AC</td>\n",
              "      <td>NaN</td>\n",
              "      <td>state</td>\n",
              "      <td>31248</td>\n",
              "      <td>697</td>\n",
              "      <td>234</td>\n",
              "      <td>True</td>\n",
              "      <td>881935.0</td>\n",
              "      <td>894470.0</td>\n",
              "      <td>12.0</td>\n",
              "      <td>3493.46540</td>\n",
              "      <td>0.0223</td>\n",
              "    </tr>\n",
              "    <tr>\n",
              "      <th>1</th>\n",
              "      <td>2020-11-04</td>\n",
              "      <td>Norte</td>\n",
              "      <td>AC</td>\n",
              "      <td>NaN</td>\n",
              "      <td>state</td>\n",
              "      <td>31218</td>\n",
              "      <td>696</td>\n",
              "      <td>233</td>\n",
              "      <td>False</td>\n",
              "      <td>881935.0</td>\n",
              "      <td>894470.0</td>\n",
              "      <td>12.0</td>\n",
              "      <td>3490.11146</td>\n",
              "      <td>0.0223</td>\n",
              "    </tr>\n",
              "    <tr>\n",
              "      <th>2</th>\n",
              "      <td>2020-11-03</td>\n",
              "      <td>Norte</td>\n",
              "      <td>AC</td>\n",
              "      <td>NaN</td>\n",
              "      <td>state</td>\n",
              "      <td>30962</td>\n",
              "      <td>695</td>\n",
              "      <td>232</td>\n",
              "      <td>False</td>\n",
              "      <td>881935.0</td>\n",
              "      <td>894470.0</td>\n",
              "      <td>12.0</td>\n",
              "      <td>3461.49116</td>\n",
              "      <td>0.0224</td>\n",
              "    </tr>\n",
              "    <tr>\n",
              "      <th>3</th>\n",
              "      <td>2020-11-02</td>\n",
              "      <td>Norte</td>\n",
              "      <td>AC</td>\n",
              "      <td>NaN</td>\n",
              "      <td>state</td>\n",
              "      <td>30954</td>\n",
              "      <td>693</td>\n",
              "      <td>231</td>\n",
              "      <td>False</td>\n",
              "      <td>881935.0</td>\n",
              "      <td>894470.0</td>\n",
              "      <td>12.0</td>\n",
              "      <td>3460.59678</td>\n",
              "      <td>0.0224</td>\n",
              "    </tr>\n",
              "    <tr>\n",
              "      <th>4</th>\n",
              "      <td>2020-11-01</td>\n",
              "      <td>Norte</td>\n",
              "      <td>AC</td>\n",
              "      <td>NaN</td>\n",
              "      <td>state</td>\n",
              "      <td>30951</td>\n",
              "      <td>693</td>\n",
              "      <td>230</td>\n",
              "      <td>False</td>\n",
              "      <td>881935.0</td>\n",
              "      <td>894470.0</td>\n",
              "      <td>12.0</td>\n",
              "      <td>3460.26138</td>\n",
              "      <td>0.0224</td>\n",
              "    </tr>\n",
              "  </tbody>\n",
              "</table>\n",
              "</div>"
            ],
            "text/plain": [
              "         date regiao  ... confirmed_per_100k_inhabitants death_rate\n",
              "0  2020-11-05  Norte  ...                     3493.46540     0.0223\n",
              "1  2020-11-04  Norte  ...                     3490.11146     0.0223\n",
              "2  2020-11-03  Norte  ...                     3461.49116     0.0224\n",
              "3  2020-11-02  Norte  ...                     3460.59678     0.0224\n",
              "4  2020-11-01  Norte  ...                     3460.26138     0.0224\n",
              "\n",
              "[5 rows x 14 columns]"
            ]
          },
          "metadata": {
            "tags": []
          },
          "execution_count": 60
        }
      ]
    },
    {
      "cell_type": "markdown",
      "metadata": {
        "id": "nEmn9YCJqujA"
      },
      "source": [
        "Coluna inserida com sucesso, vamos agora agrupar os estados por região:"
      ]
    },
    {
      "cell_type": "code",
      "metadata": {
        "id": "BT_oLtleqytK"
      },
      "source": [
        "regioes = dados.groupby('regiao')"
      ],
      "execution_count": 63,
      "outputs": []
    },
    {
      "cell_type": "markdown",
      "metadata": {
        "id": "AtR97pm-sE-5"
      },
      "source": [
        "Pronto! Com os dados agrupados por região, fica mais fácil realizar certas análises.\n",
        "Vamos definir uma variável para a região sudeste:"
      ]
    },
    {
      "cell_type": "code",
      "metadata": {
        "colab": {
          "base_uri": "https://localhost:8080/",
          "height": 309
        },
        "id": "UHBrFvl1sLPr",
        "outputId": "88863a55-1a10-425c-fb3a-ce432ca70e73"
      },
      "source": [
        "sudeste = regioes.get_group('Sudeste')\n",
        "sudeste.head()"
      ],
      "execution_count": 72,
      "outputs": [
        {
          "output_type": "execute_result",
          "data": {
            "text/html": [
              "<div>\n",
              "<style scoped>\n",
              "    .dataframe tbody tr th:only-of-type {\n",
              "        vertical-align: middle;\n",
              "    }\n",
              "\n",
              "    .dataframe tbody tr th {\n",
              "        vertical-align: top;\n",
              "    }\n",
              "\n",
              "    .dataframe thead th {\n",
              "        text-align: right;\n",
              "    }\n",
              "</style>\n",
              "<table border=\"1\" class=\"dataframe\">\n",
              "  <thead>\n",
              "    <tr style=\"text-align: right;\">\n",
              "      <th></th>\n",
              "      <th>date</th>\n",
              "      <th>regiao</th>\n",
              "      <th>state</th>\n",
              "      <th>city</th>\n",
              "      <th>place_type</th>\n",
              "      <th>confirmed</th>\n",
              "      <th>deaths</th>\n",
              "      <th>order_for_place</th>\n",
              "      <th>is_last</th>\n",
              "      <th>estimated_population_2019</th>\n",
              "      <th>estimated_population</th>\n",
              "      <th>city_ibge_code</th>\n",
              "      <th>confirmed_per_100k_inhabitants</th>\n",
              "      <th>death_rate</th>\n",
              "    </tr>\n",
              "  </thead>\n",
              "  <tbody>\n",
              "    <tr>\n",
              "      <th>76251</th>\n",
              "      <td>2020-11-05</td>\n",
              "      <td>Sudeste</td>\n",
              "      <td>ES</td>\n",
              "      <td>NaN</td>\n",
              "      <td>state</td>\n",
              "      <td>159813</td>\n",
              "      <td>3896</td>\n",
              "      <td>245</td>\n",
              "      <td>True</td>\n",
              "      <td>4018650.0</td>\n",
              "      <td>4064052.0</td>\n",
              "      <td>32.0</td>\n",
              "      <td>3932.35618</td>\n",
              "      <td>0.0244</td>\n",
              "    </tr>\n",
              "    <tr>\n",
              "      <th>76252</th>\n",
              "      <td>2020-11-04</td>\n",
              "      <td>Sudeste</td>\n",
              "      <td>ES</td>\n",
              "      <td>NaN</td>\n",
              "      <td>state</td>\n",
              "      <td>158768</td>\n",
              "      <td>3884</td>\n",
              "      <td>244</td>\n",
              "      <td>False</td>\n",
              "      <td>4018650.0</td>\n",
              "      <td>4064052.0</td>\n",
              "      <td>32.0</td>\n",
              "      <td>3906.64293</td>\n",
              "      <td>0.0245</td>\n",
              "    </tr>\n",
              "    <tr>\n",
              "      <th>76253</th>\n",
              "      <td>2020-11-03</td>\n",
              "      <td>Sudeste</td>\n",
              "      <td>ES</td>\n",
              "      <td>NaN</td>\n",
              "      <td>state</td>\n",
              "      <td>157750</td>\n",
              "      <td>3876</td>\n",
              "      <td>243</td>\n",
              "      <td>False</td>\n",
              "      <td>4018650.0</td>\n",
              "      <td>4064052.0</td>\n",
              "      <td>32.0</td>\n",
              "      <td>3881.59403</td>\n",
              "      <td>0.0246</td>\n",
              "    </tr>\n",
              "    <tr>\n",
              "      <th>76254</th>\n",
              "      <td>2020-11-02</td>\n",
              "      <td>Sudeste</td>\n",
              "      <td>ES</td>\n",
              "      <td>NaN</td>\n",
              "      <td>state</td>\n",
              "      <td>156681</td>\n",
              "      <td>3863</td>\n",
              "      <td>242</td>\n",
              "      <td>False</td>\n",
              "      <td>4018650.0</td>\n",
              "      <td>4064052.0</td>\n",
              "      <td>32.0</td>\n",
              "      <td>3855.29024</td>\n",
              "      <td>0.0247</td>\n",
              "    </tr>\n",
              "    <tr>\n",
              "      <th>76255</th>\n",
              "      <td>2020-11-01</td>\n",
              "      <td>Sudeste</td>\n",
              "      <td>ES</td>\n",
              "      <td>NaN</td>\n",
              "      <td>state</td>\n",
              "      <td>156018</td>\n",
              "      <td>3862</td>\n",
              "      <td>241</td>\n",
              "      <td>False</td>\n",
              "      <td>4018650.0</td>\n",
              "      <td>4064052.0</td>\n",
              "      <td>32.0</td>\n",
              "      <td>3838.97647</td>\n",
              "      <td>0.0248</td>\n",
              "    </tr>\n",
              "  </tbody>\n",
              "</table>\n",
              "</div>"
            ],
            "text/plain": [
              "             date   regiao  ... confirmed_per_100k_inhabitants death_rate\n",
              "76251  2020-11-05  Sudeste  ...                     3932.35618     0.0244\n",
              "76252  2020-11-04  Sudeste  ...                     3906.64293     0.0245\n",
              "76253  2020-11-03  Sudeste  ...                     3881.59403     0.0246\n",
              "76254  2020-11-02  Sudeste  ...                     3855.29024     0.0247\n",
              "76255  2020-11-01  Sudeste  ...                     3838.97647     0.0248\n",
              "\n",
              "[5 rows x 14 columns]"
            ]
          },
          "metadata": {
            "tags": []
          },
          "execution_count": 72
        }
      ]
    },
    {
      "cell_type": "markdown",
      "metadata": {
        "id": "DHqFirmx7J21"
      },
      "source": [
        "Vamos plotar um gráfico de barras para analisar a distribuição dos dados da coluna 'confirmed' (confirmados):"
      ]
    },
    {
      "cell_type": "code",
      "metadata": {
        "colab": {
          "base_uri": "https://localhost:8080/",
          "height": 279
        },
        "id": "ZtJVQOq_2UVX",
        "outputId": "101f4bd6-9c63-411f-826a-77cc150914e8"
      },
      "source": [
        "ax = sns.barplot(x = 'state', y = 'confirmed', data=sudeste)"
      ],
      "execution_count": 73,
      "outputs": [
        {
          "output_type": "display_data",
          "data": {
            "image/png": "[encoded data removed]",
            "text/plain": [
              "<Figure size 432x288 with 1 Axes>"
            ]
          },
          "metadata": {
            "tags": [],
            "needs_background": "light"
          }
        }
      ]
    },
    {
      "cell_type": "markdown",
      "metadata": {
        "id": "0ykTGi2J7RtY"
      },
      "source": [
        "Humm.. estranho. Apenas em torno de 3000 confirmados para o estado do RJ? \n",
        "Entre fevereiro e novembro?\n",
        "Vamos filtrar apenas ps dados do estado do RJ:"
      ]
    },
    {
      "cell_type": "code",
      "metadata": {
        "colab": {
          "base_uri": "https://localhost:8080/",
          "height": 609
        },
        "id": "ZoLirrSq22v0",
        "outputId": "c286951a-43c3-4038-9739-1020d181609b"
      },
      "source": [
        "sudeste[sudeste['state'] == 'RJ']"
      ],
      "execution_count": 83,
      "outputs": [
        {
          "output_type": "execute_result",
          "data": {
            "text/html": [
              "<div>\n",
              "<style scoped>\n",
              "    .dataframe tbody tr th:only-of-type {\n",
              "        vertical-align: middle;\n",
              "    }\n",
              "\n",
              "    .dataframe tbody tr th {\n",
              "        vertical-align: top;\n",
              "    }\n",
              "\n",
              "    .dataframe thead th {\n",
              "        text-align: right;\n",
              "    }\n",
              "</style>\n",
              "<table border=\"1\" class=\"dataframe\">\n",
              "  <thead>\n",
              "    <tr style=\"text-align: right;\">\n",
              "      <th></th>\n",
              "      <th>date</th>\n",
              "      <th>regiao</th>\n",
              "      <th>state</th>\n",
              "      <th>city</th>\n",
              "      <th>place_type</th>\n",
              "      <th>confirmed</th>\n",
              "      <th>deaths</th>\n",
              "      <th>order_for_place</th>\n",
              "      <th>is_last</th>\n",
              "      <th>estimated_population_2019</th>\n",
              "      <th>estimated_population</th>\n",
              "      <th>city_ibge_code</th>\n",
              "      <th>confirmed_per_100k_inhabitants</th>\n",
              "      <th>death_rate</th>\n",
              "    </tr>\n",
              "  </thead>\n",
              "  <tbody>\n",
              "    <tr>\n",
              "      <th>548128</th>\n",
              "      <td>2020-11-05</td>\n",
              "      <td>Sudeste</td>\n",
              "      <td>RJ</td>\n",
              "      <td>NaN</td>\n",
              "      <td>state</td>\n",
              "      <td>313843</td>\n",
              "      <td>20849</td>\n",
              "      <td>236</td>\n",
              "      <td>True</td>\n",
              "      <td>17264943.0</td>\n",
              "      <td>17366189.0</td>\n",
              "      <td>33.0</td>\n",
              "      <td>1807.20710</td>\n",
              "      <td>0.0664</td>\n",
              "    </tr>\n",
              "    <tr>\n",
              "      <th>548129</th>\n",
              "      <td>2020-11-04</td>\n",
              "      <td>Sudeste</td>\n",
              "      <td>RJ</td>\n",
              "      <td>NaN</td>\n",
              "      <td>state</td>\n",
              "      <td>313089</td>\n",
              "      <td>20759</td>\n",
              "      <td>235</td>\n",
              "      <td>False</td>\n",
              "      <td>17264943.0</td>\n",
              "      <td>17366189.0</td>\n",
              "      <td>33.0</td>\n",
              "      <td>1802.86533</td>\n",
              "      <td>0.0663</td>\n",
              "    </tr>\n",
              "    <tr>\n",
              "      <th>548130</th>\n",
              "      <td>2020-11-03</td>\n",
              "      <td>Sudeste</td>\n",
              "      <td>RJ</td>\n",
              "      <td>NaN</td>\n",
              "      <td>state</td>\n",
              "      <td>313089</td>\n",
              "      <td>20651</td>\n",
              "      <td>234</td>\n",
              "      <td>False</td>\n",
              "      <td>17264943.0</td>\n",
              "      <td>17366189.0</td>\n",
              "      <td>33.0</td>\n",
              "      <td>1802.86533</td>\n",
              "      <td>0.0660</td>\n",
              "    </tr>\n",
              "    <tr>\n",
              "      <th>548131</th>\n",
              "      <td>2020-11-02</td>\n",
              "      <td>Sudeste</td>\n",
              "      <td>RJ</td>\n",
              "      <td>NaN</td>\n",
              "      <td>state</td>\n",
              "      <td>311308</td>\n",
              "      <td>20636</td>\n",
              "      <td>233</td>\n",
              "      <td>False</td>\n",
              "      <td>17264943.0</td>\n",
              "      <td>17366189.0</td>\n",
              "      <td>33.0</td>\n",
              "      <td>1792.60977</td>\n",
              "      <td>0.0663</td>\n",
              "    </tr>\n",
              "    <tr>\n",
              "      <th>548132</th>\n",
              "      <td>2020-11-01</td>\n",
              "      <td>Sudeste</td>\n",
              "      <td>RJ</td>\n",
              "      <td>NaN</td>\n",
              "      <td>state</td>\n",
              "      <td>311014</td>\n",
              "      <td>20611</td>\n",
              "      <td>232</td>\n",
              "      <td>False</td>\n",
              "      <td>17264943.0</td>\n",
              "      <td>17366189.0</td>\n",
              "      <td>33.0</td>\n",
              "      <td>1790.91682</td>\n",
              "      <td>0.0663</td>\n",
              "    </tr>\n",
              "    <tr>\n",
              "      <th>...</th>\n",
              "      <td>...</td>\n",
              "      <td>...</td>\n",
              "      <td>...</td>\n",
              "      <td>...</td>\n",
              "      <td>...</td>\n",
              "      <td>...</td>\n",
              "      <td>...</td>\n",
              "      <td>...</td>\n",
              "      <td>...</td>\n",
              "      <td>...</td>\n",
              "      <td>...</td>\n",
              "      <td>...</td>\n",
              "      <td>...</td>\n",
              "      <td>...</td>\n",
              "    </tr>\n",
              "    <tr>\n",
              "      <th>566769</th>\n",
              "      <td>2020-03-28</td>\n",
              "      <td>Sudeste</td>\n",
              "      <td>RJ</td>\n",
              "      <td>Volta Redonda</td>\n",
              "      <td>city</td>\n",
              "      <td>11</td>\n",
              "      <td>1</td>\n",
              "      <td>5</td>\n",
              "      <td>False</td>\n",
              "      <td>273012.0</td>\n",
              "      <td>273988.0</td>\n",
              "      <td>3306305.0</td>\n",
              "      <td>4.01477</td>\n",
              "      <td>0.0909</td>\n",
              "    </tr>\n",
              "    <tr>\n",
              "      <th>566770</th>\n",
              "      <td>2020-03-27</td>\n",
              "      <td>Sudeste</td>\n",
              "      <td>RJ</td>\n",
              "      <td>Volta Redonda</td>\n",
              "      <td>city</td>\n",
              "      <td>9</td>\n",
              "      <td>1</td>\n",
              "      <td>4</td>\n",
              "      <td>False</td>\n",
              "      <td>273012.0</td>\n",
              "      <td>273988.0</td>\n",
              "      <td>3306305.0</td>\n",
              "      <td>3.28482</td>\n",
              "      <td>0.1111</td>\n",
              "    </tr>\n",
              "    <tr>\n",
              "      <th>566771</th>\n",
              "      <td>2020-03-26</td>\n",
              "      <td>Sudeste</td>\n",
              "      <td>RJ</td>\n",
              "      <td>Volta Redonda</td>\n",
              "      <td>city</td>\n",
              "      <td>7</td>\n",
              "      <td>0</td>\n",
              "      <td>3</td>\n",
              "      <td>False</td>\n",
              "      <td>273012.0</td>\n",
              "      <td>273988.0</td>\n",
              "      <td>3306305.0</td>\n",
              "      <td>2.55486</td>\n",
              "      <td>0.0000</td>\n",
              "    </tr>\n",
              "    <tr>\n",
              "      <th>566772</th>\n",
              "      <td>2020-03-25</td>\n",
              "      <td>Sudeste</td>\n",
              "      <td>RJ</td>\n",
              "      <td>Volta Redonda</td>\n",
              "      <td>city</td>\n",
              "      <td>6</td>\n",
              "      <td>0</td>\n",
              "      <td>2</td>\n",
              "      <td>False</td>\n",
              "      <td>273012.0</td>\n",
              "      <td>273988.0</td>\n",
              "      <td>3306305.0</td>\n",
              "      <td>2.18988</td>\n",
              "      <td>0.0000</td>\n",
              "    </tr>\n",
              "    <tr>\n",
              "      <th>566773</th>\n",
              "      <td>2020-03-24</td>\n",
              "      <td>Sudeste</td>\n",
              "      <td>RJ</td>\n",
              "      <td>Volta Redonda</td>\n",
              "      <td>city</td>\n",
              "      <td>4</td>\n",
              "      <td>0</td>\n",
              "      <td>1</td>\n",
              "      <td>False</td>\n",
              "      <td>273012.0</td>\n",
              "      <td>273988.0</td>\n",
              "      <td>3306305.0</td>\n",
              "      <td>1.45992</td>\n",
              "      <td>0.0000</td>\n",
              "    </tr>\n",
              "  </tbody>\n",
              "</table>\n",
              "<p>18646 rows × 14 columns</p>\n",
              "</div>"
            ],
            "text/plain": [
              "              date   regiao  ... confirmed_per_100k_inhabitants death_rate\n",
              "548128  2020-11-05  Sudeste  ...                     1807.20710     0.0664\n",
              "548129  2020-11-04  Sudeste  ...                     1802.86533     0.0663\n",
              "548130  2020-11-03  Sudeste  ...                     1802.86533     0.0660\n",
              "548131  2020-11-02  Sudeste  ...                     1792.60977     0.0663\n",
              "548132  2020-11-01  Sudeste  ...                     1790.91682     0.0663\n",
              "...            ...      ...  ...                            ...        ...\n",
              "566769  2020-03-28  Sudeste  ...                        4.01477     0.0909\n",
              "566770  2020-03-27  Sudeste  ...                        3.28482     0.1111\n",
              "566771  2020-03-26  Sudeste  ...                        2.55486     0.0000\n",
              "566772  2020-03-25  Sudeste  ...                        2.18988     0.0000\n",
              "566773  2020-03-24  Sudeste  ...                        1.45992     0.0000\n",
              "\n",
              "[18646 rows x 14 columns]"
            ]
          },
          "metadata": {
            "tags": []
          },
          "execution_count": 83
        }
      ]
    },
    {
      "cell_type": "markdown",
      "metadata": {
        "id": "86UT0usS8KlJ"
      },
      "source": [
        "Olhando a tabela acima com os resultados apenas do RJ, vemos o que aconteceu. \n",
        "\n",
        "Os resultados, são cumulativos, mostrando dia após dia. \n",
        "\n",
        "Por exemplo, no dia 01/11 o número de confirmados era de 311.014, já no dia 02/11 311.308.\n",
        "\n",
        "Para sabermos o número de casos confirmados, basta olharmos o último dia do dataset para cada estado e, então, obteremos o número total de casos confirmados. \n",
        "\n",
        "O mesmo se aplica para a coluna deaths."
      ]
    },
    {
      "cell_type": "markdown",
      "metadata": {
        "id": "zQflZd1m907W"
      },
      "source": [
        "Então vamos ver o valor máximo de confirmados de cada estado, agrupar e plotar:"
      ]
    },
    {
      "cell_type": "code",
      "metadata": {
        "id": "jDRwHb6K7-Qm"
      },
      "source": [
        "sp = sudeste.query(\"state == 'SP'\").nlargest(1, 'confirmed')\n",
        "rj = sudeste.query(\"state == 'RJ'\").nlargest(1, 'confirmed')\n",
        "es = sudeste.query(\"state == 'ES'\").nlargest(1, 'confirmed')\n",
        "mg = sudeste.query(\"state == 'MG'\").nlargest(1, 'confirmed')"
      ],
      "execution_count": 95,
      "outputs": []
    },
    {
      "cell_type": "code",
      "metadata": {
        "id": "8_S0UIikBnc3"
      },
      "source": [
        "estados_maximos = sudeste.loc[[821973,548128,409347,76251]]"
      ],
      "execution_count": 109,
      "outputs": []
    },
    {
      "cell_type": "code",
      "metadata": {
        "colab": {
          "base_uri": "https://localhost:8080/",
          "height": 411
        },
        "id": "7zCct1BZCDIl",
        "outputId": "5a86fd88-5259-45b5-f520-970880693e05"
      },
      "source": [
        "plt.figure(figsize=(12,6))\n",
        "ax = sns.barplot(x='state', y='confirmed', data=estados_maximos, palette='Pastel1')\n",
        "ax.set_title('Número de casos confirmados - Região Sudeste', fontsize=16)\n",
        "ax.yaxis.set_major_formatter(ticker.StrMethodFormatter('{x:,.2f}'))\n",
        "ax.set_xlabel('Estados', fontsize=14 )\n",
        "ax.set_ylabel('Casos Confirmados', fontsize=14)\n",
        "plt.show()"
      ],
      "execution_count": 115,
      "outputs": [
        {
          "output_type": "display_data",
          "data": {
            "image/png": "[encoded data removed]",
            "text/plain": [
              "<Figure size 864x432 with 1 Axes>"
            ]
          },
          "metadata": {
            "tags": [],
            "needs_background": "light"
          }
        }
      ]
    },
    {
      "cell_type": "markdown",
      "metadata": {
        "id": "LKTJsdceDyFK"
      },
      "source": [
        "Agora sim! Temos o valor real de casos confirmados por estado da região sudeste.\n",
        "\n",
        "Vemos claramente que a maior quantidade casos confirmados é do estado de São Paulo, com mais de 1.000.000 de casos, seguido por Minas Gerais."
      ]
    },
    {
      "cell_type": "markdown",
      "metadata": {
        "id": "RbXq61H5EDXC"
      },
      "source": [
        "Vamos fazer o mesmo para o número de mortes:"
      ]
    },
    {
      "cell_type": "code",
      "metadata": {
        "colab": {
          "base_uri": "https://localhost:8080/",
          "height": 411
        },
        "id": "kJ7_6UHTEHRQ",
        "outputId": "5fcba311-4cde-497a-f489-5cef9f87f2bb"
      },
      "source": [
        "plt.figure(figsize=(12,6))\n",
        "ax = sns.barplot(x='state', y='deaths', data=estados_maximos, palette='Accent')\n",
        "ax.set_title('Número de mortes - Região Sudeste', fontsize=16)\n",
        "ax.yaxis.set_major_formatter(ticker.StrMethodFormatter('{x:,.2f}'))\n",
        "ax.set_xlabel('Estados', fontsize=14 )\n",
        "ax.set_ylabel('Número de mortes', fontsize=14)\n",
        "plt.show()"
      ],
      "execution_count": 119,
      "outputs": [
        {
          "output_type": "display_data",
          "data": {
            "image/png": "[encoded data removed]",
            "text/plain": [
              "<Figure size 864x432 with 1 Axes>"
            ]
          },
          "metadata": {
            "tags": [],
            "needs_background": "light"
          }
        }
      ]
    },
    {
      "cell_type": "code",
      "metadata": {
        "id": "Z8G-FpwqTNJp"
      },
      "source": [
        "evolucao_RJ = sudeste.query(\"state == 'RJ' and place_type == 'state'\").sort_values('date', ascending=True)"
      ],
      "execution_count": 174,
      "outputs": []
    },
    {
      "cell_type": "markdown",
      "metadata": {
        "id": "24SIk3aqEmJX"
      },
      "source": [
        "O estado com o maior número de mortes foi o estado de São Paulo, com quase 40.000 mortes, seguido pelo Rio de Janeiro.\n",
        "\n",
        "\n",
        "Interessante, pois o segundo estado com maior número de casos foi o estado de Minas. Era de se esperar que fosse o segundo maior em número de mortes também. Porém o que ocorre é que o Rio de Janeiro, o terceiro com maior número de casos confirmados é o segundo com maior número de mortes.\n",
        "\n",
        "Fica a pergunta aos cariocas do porque isso acontece.\n",
        "Má gestão da saúde? Falta de leitos? Desvio do dinheiro destinado aos hospitais de campanha?"
      ]
    },
    {
      "cell_type": "markdown",
      "metadata": {
        "id": "E95OndeHUuAn"
      },
      "source": [
        "Vamos ver graficamente a evolução do número de mortes do estado do Rio de Janeiro:"
      ]
    },
    {
      "cell_type": "code",
      "metadata": {
        "colab": {
          "base_uri": "https://localhost:8080/",
          "height": 410
        },
        "id": "RfT9R127Tk7x",
        "outputId": "fbd81b85-ed8f-400a-b3a2-4ffc649c5e5c"
      },
      "source": [
        "ax = evolucao_RJ.plot(x='date', y='deaths', figsize=(12,6), label='Evolução das mortes')\n",
        "ax.set_title('Mortes - Rio de Janeiro', fontsize=16)\n",
        "ax.yaxis.set_major_formatter(ticker.StrMethodFormatter('{x:,.2f}'))\n",
        "ax.set_xlabel('Data', fontsize=14 )\n",
        "ax.set_ylabel('Número de mortes', fontsize=14)\n",
        "ax.legend()\n",
        "plt.show()\n",
        "\n"
      ],
      "execution_count": 183,
      "outputs": [
        {
          "output_type": "display_data",
          "data": {
            "image/png": "[encoded data removed]",
            "text/plain": [
              "<Figure size 864x432 with 1 Axes>"
            ]
          },
          "metadata": {
            "tags": [],
            "needs_background": "light"
          }
        }
      ]
    },
    {
      "cell_type": "markdown",
      "metadata": {
        "id": "tH_ffIKoIWJt"
      },
      "source": [
        "# Análise de sintomáticos e assintomáticos do estado do Rio de Janeiro"
      ]
    },
    {
      "cell_type": "markdown",
      "metadata": {
        "id": "OyfmpHHGGcVy"
      },
      "source": [
        "Vamos analisar um dataset agora que contém sintomas de aproximadamente 10.000 pessoas (trabalhadores da indústria), com a classificação de positivo ou negativo. Essas pessoas foram submetidas ao teste para detecção de covid, RT-qPCR.\n",
        "O dataset foi cedido pela Firjan, que atualmente tem trabalhado na testagem e mapeamento dos trabalhadores da indústria do estado do Rio de Janeiro\n",
        "\n",
        "A técnica de reação de cadeia da polimerase em tempo real\n",
        "com transcrição reversa (RT-qPCR) é a técnica considerada\n",
        "padrão ouro pela Organização Mundial da Saúde para a\n",
        "detecção do novo coronavírus (SARS-CoV-2) causador da\n",
        "COVID-19. A detecção é realizada através da presença de\n",
        "ácidos nucleicos do patógeno pelo uso de primers e sondas\n",
        "(oligonucleotídeos marcados com fluorescência) específicos\n",
        "para cada alvo molecular.\n",
        "\n",
        "O teste realizado pela Firjan SESI é feito a partir da coleta de secreção da garganta e das narinas, sem procedimento invasivo, de fácil coleta e com capacidade de identificação do vírus antes mesmo do aparecimento dos sintomas.\n",
        "\n",
        "\n",
        "\n",
        "---\n",
        "\n"
      ]
    },
    {
      "cell_type": "code",
      "metadata": {
        "id": "5oNmHq29Jekz"
      },
      "source": [
        "dados_covid = pd.read_excel('/content/Fichas Saude - Planilha Geral (1).xlsx', sheet_name='Dados das Fichas de Saúde')\n",
        "dados_covid.drop(['Grupo', 'CNAE', 'Empresa'], axis=1, inplace=True)\n",
        "##Algumas colunas foram omitidas devido ao sigilo das informações"
      ],
      "execution_count": 124,
      "outputs": []
    },
    {
      "cell_type": "markdown",
      "metadata": {
        "id": "8k4iE020NA3z"
      },
      "source": [
        "Vamos analisar as 5 primeiras linhas do dataset:"
      ]
    },
    {
      "cell_type": "code",
      "metadata": {
        "colab": {
          "base_uri": "https://localhost:8080/",
          "height": 343
        },
        "id": "qRc9YC5OD_91",
        "outputId": "67551d05-ac86-4d36-883d-55a1f87d8b6e"
      },
      "source": [
        "dados_covid.head()"
      ],
      "execution_count": 162,
      "outputs": [
        {
          "output_type": "execute_result",
          "data": {
            "text/html": [
              "<div>\n",
              "<style scoped>\n",
              "    .dataframe tbody tr th:only-of-type {\n",
              "        vertical-align: middle;\n",
              "    }\n",
              "\n",
              "    .dataframe tbody tr th {\n",
              "        vertical-align: top;\n",
              "    }\n",
              "\n",
              "    .dataframe thead th {\n",
              "        text-align: right;\n",
              "    }\n",
              "</style>\n",
              "<table border=\"1\" class=\"dataframe\">\n",
              "  <thead>\n",
              "    <tr style=\"text-align: right;\">\n",
              "      <th></th>\n",
              "      <th>Data</th>\n",
              "      <th>Código</th>\n",
              "      <th>Sexo</th>\n",
              "      <th>Idade</th>\n",
              "      <th>Local de Coleta</th>\n",
              "      <th>Febre -3</th>\n",
              "      <th>Febre +3</th>\n",
              "      <th>Cansaço-3</th>\n",
              "      <th>Cansaço+3</th>\n",
              "      <th>Tosse-3</th>\n",
              "      <th>Tosse+3</th>\n",
              "      <th>Cabeça -3</th>\n",
              "      <th>Cabeça +3</th>\n",
              "      <th>Corpo-3</th>\n",
              "      <th>Corpo+3</th>\n",
              "      <th>Garganta-3</th>\n",
              "      <th>Garganta+3</th>\n",
              "      <th>Nauseas-3</th>\n",
              "      <th>Nauseas+3</th>\n",
              "      <th>Vômito-3</th>\n",
              "      <th>Vômito+3</th>\n",
              "      <th>Diarreia-3</th>\n",
              "      <th>Diarreia+3</th>\n",
              "      <th>Ar-3</th>\n",
              "      <th>Ar+3</th>\n",
              "      <th>Azul-3</th>\n",
              "      <th>Azul+3</th>\n",
              "      <th>Assintomático</th>\n",
              "      <th>Gravidez</th>\n",
              "      <th>Pressão</th>\n",
              "      <th>Diabetes</th>\n",
              "      <th>Pulmão</th>\n",
              "      <th>Terapia</th>\n",
              "      <th>Corticoides</th>\n",
              "      <th>Fumante</th>\n",
              "      <th>Renal</th>\n",
              "      <th>Autoimune</th>\n",
              "      <th>Sem doença</th>\n",
              "      <th>Teste</th>\n",
              "      <th>Grupo de Sintomas</th>\n",
              "      <th>PORTE (&gt;100 FUNC?)</th>\n",
              "      <th>RETESTE</th>\n",
              "      <th>PRIMEIRO VÁLIDO?</th>\n",
              "      <th>RETESTE MUDOU?</th>\n",
              "    </tr>\n",
              "  </thead>\n",
              "  <tbody>\n",
              "    <tr>\n",
              "      <th>0</th>\n",
              "      <td>2020-04-11</td>\n",
              "      <td>2020004009A</td>\n",
              "      <td>F</td>\n",
              "      <td>32</td>\n",
              "      <td>RJ1</td>\n",
              "      <td>Nao</td>\n",
              "      <td>Nao</td>\n",
              "      <td>Nao</td>\n",
              "      <td>Nao</td>\n",
              "      <td>Nao</td>\n",
              "      <td>Nao</td>\n",
              "      <td>Nao</td>\n",
              "      <td>Nao</td>\n",
              "      <td>Nao</td>\n",
              "      <td>Nao</td>\n",
              "      <td>Nao</td>\n",
              "      <td>Nao</td>\n",
              "      <td>Nao</td>\n",
              "      <td>Nao</td>\n",
              "      <td>Nao</td>\n",
              "      <td>Nao</td>\n",
              "      <td>Nao</td>\n",
              "      <td>Nao</td>\n",
              "      <td>Nao</td>\n",
              "      <td>Nao</td>\n",
              "      <td>Nao</td>\n",
              "      <td>Nao</td>\n",
              "      <td>Sim</td>\n",
              "      <td>Nao</td>\n",
              "      <td>Nao</td>\n",
              "      <td>Nao</td>\n",
              "      <td>Nao</td>\n",
              "      <td>Nao</td>\n",
              "      <td>Nao</td>\n",
              "      <td>Nao</td>\n",
              "      <td>Nao</td>\n",
              "      <td>Nao</td>\n",
              "      <td>Nao</td>\n",
              "      <td>Negativo</td>\n",
              "      <td>Nao</td>\n",
              "      <td>Nao</td>\n",
              "      <td>Nao</td>\n",
              "      <td>-</td>\n",
              "      <td>-</td>\n",
              "    </tr>\n",
              "    <tr>\n",
              "      <th>1</th>\n",
              "      <td>2020-04-11</td>\n",
              "      <td>202004008A</td>\n",
              "      <td>F</td>\n",
              "      <td>37</td>\n",
              "      <td>RJ1</td>\n",
              "      <td>Nao</td>\n",
              "      <td>Nao</td>\n",
              "      <td>Nao</td>\n",
              "      <td>Nao</td>\n",
              "      <td>Nao</td>\n",
              "      <td>Nao</td>\n",
              "      <td>Nao</td>\n",
              "      <td>Nao</td>\n",
              "      <td>Nao</td>\n",
              "      <td>Nao</td>\n",
              "      <td>Nao</td>\n",
              "      <td>Nao</td>\n",
              "      <td>Nao</td>\n",
              "      <td>Nao</td>\n",
              "      <td>Nao</td>\n",
              "      <td>Nao</td>\n",
              "      <td>Nao</td>\n",
              "      <td>Nao</td>\n",
              "      <td>Nao</td>\n",
              "      <td>Nao</td>\n",
              "      <td>Nao</td>\n",
              "      <td>Nao</td>\n",
              "      <td>Sim</td>\n",
              "      <td>Nao</td>\n",
              "      <td>Nao</td>\n",
              "      <td>Nao</td>\n",
              "      <td>Nao</td>\n",
              "      <td>Nao</td>\n",
              "      <td>Nao</td>\n",
              "      <td>Nao</td>\n",
              "      <td>Nao</td>\n",
              "      <td>Nao</td>\n",
              "      <td>Nao</td>\n",
              "      <td>Negativo</td>\n",
              "      <td>Nao</td>\n",
              "      <td>Nao</td>\n",
              "      <td>Nao</td>\n",
              "      <td>-</td>\n",
              "      <td>-</td>\n",
              "    </tr>\n",
              "    <tr>\n",
              "      <th>2</th>\n",
              "      <td>2020-04-11</td>\n",
              "      <td>202004110002A</td>\n",
              "      <td>F</td>\n",
              "      <td>44</td>\n",
              "      <td>RJ1</td>\n",
              "      <td>Nao</td>\n",
              "      <td>Nao</td>\n",
              "      <td>Nao</td>\n",
              "      <td>Nao</td>\n",
              "      <td>Nao</td>\n",
              "      <td>Nao</td>\n",
              "      <td>Nao</td>\n",
              "      <td>Nao</td>\n",
              "      <td>Nao</td>\n",
              "      <td>Nao</td>\n",
              "      <td>Nao</td>\n",
              "      <td>Nao</td>\n",
              "      <td>Nao</td>\n",
              "      <td>Nao</td>\n",
              "      <td>Nao</td>\n",
              "      <td>Nao</td>\n",
              "      <td>Nao</td>\n",
              "      <td>Nao</td>\n",
              "      <td>Nao</td>\n",
              "      <td>Nao</td>\n",
              "      <td>Nao</td>\n",
              "      <td>Nao</td>\n",
              "      <td>Sim</td>\n",
              "      <td>Nao</td>\n",
              "      <td>Nao</td>\n",
              "      <td>Nao</td>\n",
              "      <td>Nao</td>\n",
              "      <td>Nao</td>\n",
              "      <td>Nao</td>\n",
              "      <td>Nao</td>\n",
              "      <td>Nao</td>\n",
              "      <td>Nao</td>\n",
              "      <td>Nao</td>\n",
              "      <td>Negativo</td>\n",
              "      <td>Nao</td>\n",
              "      <td>Nao</td>\n",
              "      <td>Nao</td>\n",
              "      <td>-</td>\n",
              "      <td>-</td>\n",
              "    </tr>\n",
              "    <tr>\n",
              "      <th>3</th>\n",
              "      <td>2020-04-11</td>\n",
              "      <td>20200411003A</td>\n",
              "      <td>F</td>\n",
              "      <td>30</td>\n",
              "      <td>RJ1</td>\n",
              "      <td>Nao</td>\n",
              "      <td>Nao</td>\n",
              "      <td>Nao</td>\n",
              "      <td>Nao</td>\n",
              "      <td>Nao</td>\n",
              "      <td>Nao</td>\n",
              "      <td>Nao</td>\n",
              "      <td>Sim</td>\n",
              "      <td>Nao</td>\n",
              "      <td>Nao</td>\n",
              "      <td>Nao</td>\n",
              "      <td>Nao</td>\n",
              "      <td>Nao</td>\n",
              "      <td>Nao</td>\n",
              "      <td>Nao</td>\n",
              "      <td>Nao</td>\n",
              "      <td>Nao</td>\n",
              "      <td>Nao</td>\n",
              "      <td>Nao</td>\n",
              "      <td>Nao</td>\n",
              "      <td>Nao</td>\n",
              "      <td>Nao</td>\n",
              "      <td>Nao</td>\n",
              "      <td>Nao</td>\n",
              "      <td>Nao</td>\n",
              "      <td>Nao</td>\n",
              "      <td>Nao</td>\n",
              "      <td>Nao</td>\n",
              "      <td>Nao</td>\n",
              "      <td>Nao</td>\n",
              "      <td>Nao</td>\n",
              "      <td>Nao</td>\n",
              "      <td>Nao</td>\n",
              "      <td>Negativo</td>\n",
              "      <td>Sim</td>\n",
              "      <td>Nao</td>\n",
              "      <td>Nao</td>\n",
              "      <td>-</td>\n",
              "      <td>-</td>\n",
              "    </tr>\n",
              "    <tr>\n",
              "      <th>4</th>\n",
              "      <td>2020-04-11</td>\n",
              "      <td>20200411004A</td>\n",
              "      <td>F</td>\n",
              "      <td>45</td>\n",
              "      <td>RJ1</td>\n",
              "      <td>Nao</td>\n",
              "      <td>Nao</td>\n",
              "      <td>Nao</td>\n",
              "      <td>Nao</td>\n",
              "      <td>Nao</td>\n",
              "      <td>Nao</td>\n",
              "      <td>Nao</td>\n",
              "      <td>Nao</td>\n",
              "      <td>Nao</td>\n",
              "      <td>Nao</td>\n",
              "      <td>Nao</td>\n",
              "      <td>Nao</td>\n",
              "      <td>Nao</td>\n",
              "      <td>Nao</td>\n",
              "      <td>Nao</td>\n",
              "      <td>Nao</td>\n",
              "      <td>Nao</td>\n",
              "      <td>Nao</td>\n",
              "      <td>Nao</td>\n",
              "      <td>Nao</td>\n",
              "      <td>Nao</td>\n",
              "      <td>Nao</td>\n",
              "      <td>Sim</td>\n",
              "      <td>Nao</td>\n",
              "      <td>Sim</td>\n",
              "      <td>Nao</td>\n",
              "      <td>Nao</td>\n",
              "      <td>Nao</td>\n",
              "      <td>Nao</td>\n",
              "      <td>Nao</td>\n",
              "      <td>Nao</td>\n",
              "      <td>Nao</td>\n",
              "      <td>Nao</td>\n",
              "      <td>Negativo</td>\n",
              "      <td>Nao</td>\n",
              "      <td>Nao</td>\n",
              "      <td>Nao</td>\n",
              "      <td>-</td>\n",
              "      <td>-</td>\n",
              "    </tr>\n",
              "  </tbody>\n",
              "</table>\n",
              "</div>"
            ],
            "text/plain": [
              "        Data         Código Sexo  ... RETESTE PRIMEIRO VÁLIDO? RETESTE MUDOU?\n",
              "0 2020-04-11    2020004009A    F  ...     Nao                -              -\n",
              "1 2020-04-11     202004008A    F  ...     Nao                -              -\n",
              "2 2020-04-11  202004110002A    F  ...     Nao                -              -\n",
              "3 2020-04-11   20200411003A    F  ...     Nao                -              -\n",
              "4 2020-04-11   20200411004A    F  ...     Nao                -              -\n",
              "\n",
              "[5 rows x 44 columns]"
            ]
          },
          "metadata": {
            "tags": []
          },
          "execution_count": 162
        }
      ]
    },
    {
      "cell_type": "markdown",
      "metadata": {
        "id": "ibxYiuKxQooF"
      },
      "source": [
        "As colunas representam sintomas que o paciente teve. Como por exemplo: cansaço com menos de 3 dias e cansaço com mais de 3 dias, dor de garganta com menos de 3 dias, e dor de garganta com mais de 3 dias.\n",
        "\n",
        "Assim como possui uma coluna denominada 'Assintomáticos' que refere-se a pessoas que fizeram o teste e não possuem sintoma algum. \n",
        "No final, há a coluna 'TESTE' que mostra o resultado do teste."
      ]
    },
    {
      "cell_type": "markdown",
      "metadata": {
        "id": "0TB-o6e6Ownn"
      },
      "source": [
        "Vamos analisar o número de testes realizados:"
      ]
    },
    {
      "cell_type": "code",
      "metadata": {
        "colab": {
          "base_uri": "https://localhost:8080/"
        },
        "id": "ntYjA_WqOj-h",
        "outputId": "f112f0f3-9b59-4c4d-8d46-e4baaf96bce9"
      },
      "source": [
        "shape = dados_covid.shape\n",
        "print('Número de testes:', shape[0])"
      ],
      "execution_count": 365,
      "outputs": [
        {
          "output_type": "stream",
          "text": [
            "Número de testes: 9807\n"
          ],
          "name": "stdout"
        }
      ]
    },
    {
      "cell_type": "markdown",
      "metadata": {
        "id": "C6W67e2CO3Nu"
      },
      "source": [
        "Número esse que não condiz com o número de pessoas, pois em alguns casos, houve reteste.\n",
        "\n",
        "Vamos verificar o se houveram muitos retestes:"
      ]
    },
    {
      "cell_type": "code",
      "metadata": {
        "colab": {
          "base_uri": "https://localhost:8080/",
          "height": 476
        },
        "id": "3vR-2zNiPKS1",
        "outputId": "a2514be3-025e-4514-ffb4-1282ad49407d"
      },
      "source": [
        "plt.figure(figsize=(10,6))\n",
        "ax = sns.catplot('RETESTE', kind='count', data=dados_covid)\n",
        "plt.title('Número de Retestes', fontsize=16)\n",
        "\n",
        "plt.xlabel('Reteste', fontsize=14 )\n",
        "plt.ylabel('Número de pessoas', fontsize=14)\n",
        "plt.show()"
      ],
      "execution_count": 366,
      "outputs": [
        {
          "output_type": "stream",
          "text": [
            "/usr/local/lib/python3.6/dist-packages/seaborn/_decorators.py:43: FutureWarning: Pass the following variable as a keyword arg: x. From version 0.12, the only valid positional argument will be `data`, and passing other arguments without an explicit keyword will result in an error or misinterpretation.\n",
            "  FutureWarning\n"
          ],
          "name": "stderr"
        },
        {
          "output_type": "display_data",
          "data": {
            "text/plain": [
              "<Figure size 720x432 with 0 Axes>"
            ]
          },
          "metadata": {
            "tags": []
          }
        },
        {
          "output_type": "display_data",
          "data": {
            "image/png": "[encoded data removed]",
            "text/plain": [
              "<Figure size 360x360 with 1 Axes>"
            ]
          },
          "metadata": {
            "tags": [],
            "needs_background": "light"
          }
        }
      ]
    },
    {
      "cell_type": "markdown",
      "metadata": {
        "id": "9ypk4u5vRqrW"
      },
      "source": [
        "Poucos retestes realizados.\n",
        "\n",
        "Um reteste é realizado quando há dúvidas com relação ao resultado do teste. \n",
        "\n",
        "Caso haja dúvidas, analisa-se a amostra do paciente novamente. \n",
        "Se ainda assim houver dúvidas, faz-se necessário colher outra amostra do paciente."
      ]
    },
    {
      "cell_type": "markdown",
      "metadata": {
        "id": "2cDnFU1aVu5a"
      },
      "source": [
        "Vamos ver agora a distribuição das idades das pessoas que fizeram o teste:"
      ]
    },
    {
      "cell_type": "code",
      "metadata": {
        "colab": {
          "base_uri": "https://localhost:8080/",
          "height": 406
        },
        "id": "RHifQtwKfWi1",
        "outputId": "6a2a8a1b-249c-411b-bb19-0b0b0632187f"
      },
      "source": [
        "plt.figure(figsize=(10,6))\n",
        "sns.boxplot(x = 'Idade', data=dados_covid)\n",
        "plt.title('Distribuição das idades', fontsize=16)\n",
        "plt.show()"
      ],
      "execution_count": 367,
      "outputs": [
        {
          "output_type": "display_data",
          "data": {
            "image/png": "[encoded data removed]",
            "text/plain": [
              "<Figure size 720x432 with 1 Axes>"
            ]
          },
          "metadata": {
            "tags": [],
            "needs_background": "light"
          }
        }
      ]
    },
    {
      "cell_type": "markdown",
      "metadata": {
        "id": "iwBiixJSkDr-"
      },
      "source": [
        "No geral, as idades concentram-se um pouco abaixo de 20 e até os 70, com maior distribuição entre 30 a 50 anos. \n",
        "No meio da distribuição há idades de 100 e 120 anos, tidas como outliers nessa distribuição.\n",
        "\n",
        "Será que foi um erro de digitação na planilha, ou realmente alguém de 120 anos fez o teste? hahaha"
      ]
    },
    {
      "cell_type": "markdown",
      "metadata": {
        "id": "AavJIxG-kfKs"
      },
      "source": [
        "Vamos ver a distribuição do sexo das pessoas que foram testadas:"
      ]
    },
    {
      "cell_type": "code",
      "metadata": {
        "colab": {
          "base_uri": "https://localhost:8080/",
          "height": 406
        },
        "id": "enYoKThZiekC",
        "outputId": "2e5be623-e89b-4bf2-a0ff-a59929834108"
      },
      "source": [
        "plt.figure(figsize=(10,6))\n",
        "sns.countplot(x='Sexo', data=dados_covid, palette='PuOr')\n",
        "plt.title('Sexo', fontsize=16)\n",
        "plt.show()"
      ],
      "execution_count": 330,
      "outputs": [
        {
          "output_type": "display_data",
          "data": {
            "image/png": "[encoded data removed]",
            "text/plain": [
              "<Figure size 720x432 with 1 Axes>"
            ]
          },
          "metadata": {
            "tags": [],
            "needs_background": "light"
          }
        }
      ]
    },
    {
      "cell_type": "markdown",
      "metadata": {
        "id": "CGPtsq57k2l0"
      },
      "source": [
        "Distribuição maior do sexo masculino, acima de 7000 homens testados."
      ]
    },
    {
      "cell_type": "markdown",
      "metadata": {
        "id": "kFxCUyYGmdbH"
      },
      "source": [
        "Na planilha há uma coluna chamada 'Assintomatico', que mostra as pessoas que não tiveram nenhum sintoma. Podendo ou não ter testado positivo. \n",
        "\n",
        "Vamos ver o número de assintomáticos:\n"
      ]
    },
    {
      "cell_type": "code",
      "metadata": {
        "colab": {
          "base_uri": "https://localhost:8080/",
          "height": 406
        },
        "id": "iI7qRU4SmtAS",
        "outputId": "ed6aed81-7c14-4178-9ae9-446b2a857f3d"
      },
      "source": [
        "plt.figure(figsize=(10,6))\n",
        "sns.countplot(x='Assintomático', data=dados_covid, palette='Set2')\n",
        "plt.title('Assintomático', fontsize=16)\n",
        "plt.show()"
      ],
      "execution_count": 340,
      "outputs": [
        {
          "output_type": "display_data",
          "data": {
            "image/png": "[encoded data removed]",
            "text/plain": [
              "<Figure size 720x432 with 1 Axes>"
            ]
          },
          "metadata": {
            "tags": [],
            "needs_background": "light"
          }
        }
      ]
    },
    {
      "cell_type": "markdown",
      "metadata": {
        "id": "pXebe_zjk7bE"
      },
      "source": [
        "A maior parte das pessoas testadas, não apresentaram nenhum dos sintomas listados na planilha.\n",
        "\n",
        "Vamos verificar se essas pessoas testaram positivo ou negativo.\n",
        "Primeiro, vamos ver o número de positivos e negativos:"
      ]
    },
    {
      "cell_type": "code",
      "metadata": {
        "colab": {
          "base_uri": "https://localhost:8080/"
        },
        "id": "fko_j05Rk126",
        "outputId": "77b2601f-405f-4fbd-f38b-1f3a3ad3bf3e"
      },
      "source": [
        "dados_covid['Teste'].value_counts()"
      ],
      "execution_count": 341,
      "outputs": [
        {
          "output_type": "execute_result",
          "data": {
            "text/plain": [
              "Negativo    9064\n",
              "Positivo     743\n",
              "Name: Teste, dtype: int64"
            ]
          },
          "metadata": {
            "tags": []
          },
          "execution_count": 341
        }
      ]
    },
    {
      "cell_type": "markdown",
      "metadata": {
        "id": "30iot9Mgogdf"
      },
      "source": [
        "Temos bem mais resultados negativos que positivos. Vamos ver agora se esses positivos são em sua maior parte sintomáticos ou assintomáticos:"
      ]
    },
    {
      "cell_type": "code",
      "metadata": {
        "id": "GTBOUFfMooZh"
      },
      "source": [
        "positivos_assin = dados_covid.query(\"Assintomático == 'Sim' and Teste == 'Positivo'\")\n",
        "positivos_assin"
      ],
      "execution_count": null,
      "outputs": []
    },
    {
      "cell_type": "code",
      "metadata": {
        "colab": {
          "base_uri": "https://localhost:8080/"
        },
        "id": "NC7n1SBbq1Rk",
        "outputId": "92c47610-82a4-41b8-930b-85b6720cea02"
      },
      "source": [
        "n = positivos_assin['Teste'].count()\n",
        "print('Número de pessoas positivas sem sintomas:', n)"
      ],
      "execution_count": 352,
      "outputs": [
        {
          "output_type": "stream",
          "text": [
            "Número de pessoas positivas sem sintomas: 368\n"
          ],
          "name": "stdout"
        }
      ]
    },
    {
      "cell_type": "markdown",
      "metadata": {
        "id": "O84Wj5f8rJjN"
      },
      "source": [
        "Quase metade das pessoas que testaram positivo (743), não apresentaram sintomas nenhum. Ou seja, mesmo sem sintomas, estão positivas, podendo contaminar outras pessoas. Por isso, a importância de se usar máscara!\n",
        "Usar máscara é uma responsabilidade social!"
      ]
    },
    {
      "cell_type": "markdown",
      "metadata": {
        "id": "H7_IWuF32ADh"
      },
      "source": [
        "Para finalizar o nosso projeto, vamos ver dentre os positivos, qual o sexo predominante:"
      ]
    },
    {
      "cell_type": "code",
      "metadata": {
        "colab": {
          "base_uri": "https://localhost:8080/"
        },
        "id": "9trrko14rwu8",
        "outputId": "26297309-cddc-48fd-a0d8-83e28d7b0895"
      },
      "source": [
        "positivos = dados_covid[dados_covid['Teste'] == 'Positivo']\n",
        "positivos_sexo = positivos['Sexo'].value_counts()\n",
        "positivos_sexo\n"
      ],
      "execution_count": 356,
      "outputs": [
        {
          "output_type": "execute_result",
          "data": {
            "text/plain": [
              "M    633\n",
              "F    110\n",
              "Name: Sexo, dtype: int64"
            ]
          },
          "metadata": {
            "tags": []
          },
          "execution_count": 356
        }
      ]
    },
    {
      "cell_type": "code",
      "metadata": {
        "colab": {
          "base_uri": "https://localhost:8080/",
          "height": 407
        },
        "id": "funP6cOTsWHk",
        "outputId": "d4e1965b-2125-4b7a-e380-7c3ed24b7d0e"
      },
      "source": [
        "plt.figure(figsize=(10,6))\n",
        "sns.countplot(x='Sexo', data=positivos, palette='Dark2')\n",
        "plt.title('Número de positivos por sexo', fontsize=16)\n",
        "plt.show()"
      ],
      "execution_count": 364,
      "outputs": [
        {
          "output_type": "display_data",
          "data": {
            "image/png": "[encoded data removed]",
            "text/plain": [
              "<Figure size 720x432 with 1 Axes>"
            ]
          },
          "metadata": {
            "tags": [],
            "needs_background": "light"
          }
        }
      ]
    },
    {
      "cell_type": "markdown",
      "metadata": {
        "id": "d-4dh8Jns_QG"
      },
      "source": [
        "Mais da metade dos que testaram positivo (bem mais) são do sexo masculino."
      ]
    },
    {
      "cell_type": "markdown",
      "metadata": {
        "id": "IiAxcqHI2JO9"
      },
      "source": [
        "# Conclusão\n",
        "\n",
        "Utilizamos a base de dados do Brasil.IO, que visa democratizar o acesso aos dados. Vimos os dados do covid-19 da região sudeste, com foco no estado do Rio de Janeiro. \n",
        "\n",
        "O Rio de Janeiro, que é um estado pequeno, ficou em segundo lugar da região sudeste como estado com maior número de mortes, sendo que ficou em terceiro lugar com casos confirmados. Em segundo lugar ficou o estado de Minas Gerais.\n",
        "\n",
        "E aí, refaço a pergunta: como pode o estado ser o terceiro com número de casos confrmados, sendo que Minas estava bem na frente e ainda assim o Rio ficar em segundo no quesito mortes?\n",
        "\n",
        "Fica a reflexão para os cariocas e para todos àqueles que lerem este projeto."
      ]
    }
  ]
}